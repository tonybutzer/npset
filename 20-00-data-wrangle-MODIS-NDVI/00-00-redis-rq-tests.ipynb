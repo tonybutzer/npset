{
 "cells": [
  {
   "cell_type": "markdown",
   "metadata": {},
   "source": [
    "# REDIS RQ \n",
    "\n",
    "1. docker-compose up"
   ]
  },
  {
   "cell_type": "code",
   "execution_count": 1,
   "metadata": {},
   "outputs": [],
   "source": [
    "# ! redis-cli -h"
   ]
  },
  {
   "cell_type": "code",
   "execution_count": 2,
   "metadata": {},
   "outputs": [],
   "source": [
    "# !sudo apt-get install -y redis-tools\n",
    "\n"
   ]
  },
  {
   "cell_type": "code",
   "execution_count": 3,
   "metadata": {},
   "outputs": [
    {
     "name": "stdout",
     "output_type": "stream",
     "text": [
      "PONG\r\n"
     ]
    }
   ],
   "source": [
    "! redis-cli ping"
   ]
  },
  {
   "cell_type": "code",
   "execution_count": 4,
   "metadata": {},
   "outputs": [
    {
     "name": "stderr",
     "output_type": "stream",
     "text": [
      "2020-04-28 19:27:30,310 - RQ_DISPATCHER - INFO - Logging Begins\n"
     ]
    }
   ],
   "source": [
    "from playLib.rq_que import bullshit, rq_dispatch"
   ]
  },
  {
   "cell_type": "code",
   "execution_count": 5,
   "metadata": {},
   "outputs": [],
   "source": [
    "from redis import Redis\n",
    "from rq import Queue\n",
    "\n",
    "queue = Queue(connection=Redis())"
   ]
  },
  {
   "cell_type": "code",
   "execution_count": 6,
   "metadata": {},
   "outputs": [
    {
     "data": {
      "text/plain": [
       "Job('0542f6f7-a081-42c8-8c92-94a37d9b98d9', enqueued_at=datetime.datetime(2020, 4, 28, 19, 27, 30, 331050))"
      ]
     },
     "execution_count": 6,
     "metadata": {},
     "output_type": "execute_result"
    }
   ],
   "source": [
    "queue.enqueue('time.sleep',5)\n",
    "    # Check for result...\n",
    "queue.enqueue(bullshit)\n",
    "queue.enqueue(rq_dispatch,'cogxfer,my_uncog,more,prameters')\n",
    "queue.enqueue(bullshit)\n"
   ]
  },
  {
   "cell_type": "code",
   "execution_count": null,
   "metadata": {},
   "outputs": [
    {
     "name": "stdout",
     "output_type": "stream",
     "text": [
      "19:27:30 Worker rq:worker:6556fc579ed94a589784706d99e1bc76: started, version 1.3.0\n",
      "19:27:30 *** Listening on \u001b[32mdefault\u001b[39;49;00m...\n",
      "19:27:30 \u001b[32mdefault\u001b[39;49;00m: \u001b[34mtime.sleep(5)\u001b[39;49;00m (1aabdecb-d656-4756-92ac-c2694bb96b3f)\n",
      "19:27:35 \u001b[32mdefault\u001b[39;49;00m: \u001b[34mJob OK\u001b[39;49;00m (1aabdecb-d656-4756-92ac-c2694bb96b3f)\n",
      "19:27:35 Result is kept for 500 seconds\n",
      "19:27:35 \u001b[32mdefault\u001b[39;49;00m: \u001b[34mplayLib.rq_que.bullshit()\u001b[39;49;00m (72b86f69-214f-4094-bc71-66eddd40b41c)\n",
      "2020-04-28 19:27:35,489 - RQ_DISPATCHER - INFO - Logging Begins\n",
      "BULSHIT Walks!\n",
      "19:27:35 \u001b[32mdefault\u001b[39;49;00m: \u001b[34mJob OK\u001b[39;49;00m (72b86f69-214f-4094-bc71-66eddd40b41c)\n",
      "19:27:35 Result is kept for 500 seconds\n",
      "19:27:35 \u001b[32mdefault\u001b[39;49;00m: \u001b[34mplayLib.rq_que.rq_dispatch('cogxfer,my_uncog,more,prameters')\u001b[39;49;00m (e9539b61-ca25-499c-a9c4-5e10403c7461)\n",
      "2020-04-28 19:27:35,500 - RQ_DISPATCHER - INFO - Logging Begins\n",
      "rq_dispatch the TASK is cogxfer,my_uncog,more,prameters\n",
      "2020-04-28 19:27:35,501 - RQ_DISPATCHER - INFO - ('I will spawn thee: ', 'cogxfer,my_uncog,more,prameters')\n",
      "2020-04-28 19:27:35,501 - RQ_DISPATCHER - INFO - python3 ./cogxfer,my_uncog,more,prameters\n",
      "python3: can't open file './cogxfer,my_uncog,more,prameters': [Errno 2] No such file or directory\n",
      "19:27:35 \u001b[32mdefault\u001b[39;49;00m: \u001b[34mJob OK\u001b[39;49;00m (e9539b61-ca25-499c-a9c4-5e10403c7461)\n",
      "19:27:35 Result is kept for 500 seconds\n",
      "19:27:35 \u001b[32mdefault\u001b[39;49;00m: \u001b[34mplayLib.rq_que.bullshit()\u001b[39;49;00m (06cf78a8-82ba-497a-bb56-1653842040a9)\n",
      "2020-04-28 19:27:35,544 - RQ_DISPATCHER - INFO - Logging Begins\n",
      "BULSHIT Walks!\n",
      "19:27:35 \u001b[32mdefault\u001b[39;49;00m: \u001b[34mJob OK\u001b[39;49;00m (06cf78a8-82ba-497a-bb56-1653842040a9)\n",
      "19:27:35 Result is kept for 500 seconds\n",
      "19:27:35 \u001b[32mdefault\u001b[39;49;00m: \u001b[34mplayLib.rq_que.bullshit()\u001b[39;49;00m (732d636c-7ee2-46d2-9cb5-a90222f8cd9f)\n",
      "2020-04-28 19:27:35,555 - RQ_DISPATCHER - INFO - Logging Begins\n",
      "BULSHIT Walks!\n",
      "19:27:35 \u001b[32mdefault\u001b[39;49;00m: \u001b[34mJob OK\u001b[39;49;00m (732d636c-7ee2-46d2-9cb5-a90222f8cd9f)\n",
      "19:27:35 Result is kept for 500 seconds\n",
      "19:27:35 \u001b[32mdefault\u001b[39;49;00m: \u001b[34mplayLib.rq_que.bullshit()\u001b[39;49;00m (0542f6f7-a081-42c8-8c92-94a37d9b98d9)\n",
      "2020-04-28 19:27:35,567 - RQ_DISPATCHER - INFO - Logging Begins\n",
      "BULSHIT Walks!\n",
      "19:27:35 \u001b[32mdefault\u001b[39;49;00m: \u001b[34mJob OK\u001b[39;49;00m (0542f6f7-a081-42c8-8c92-94a37d9b98d9)\n",
      "19:27:35 Result is kept for 500 seconds\n"
     ]
    }
   ],
   "source": [
    "! ~/.local/bin/rq worker"
   ]
  },
  {
   "cell_type": "code",
   "execution_count": null,
   "metadata": {},
   "outputs": [],
   "source": []
  }
 ],
 "metadata": {
  "kernelspec": {
   "display_name": "Python 3",
   "language": "python",
   "name": "python3"
  },
  "language_info": {
   "codemirror_mode": {
    "name": "ipython",
    "version": 3
   },
   "file_extension": ".py",
   "mimetype": "text/x-python",
   "name": "python",
   "nbconvert_exporter": "python",
   "pygments_lexer": "ipython3",
   "version": "3.6.9"
  }
 },
 "nbformat": 4,
 "nbformat_minor": 4
}
