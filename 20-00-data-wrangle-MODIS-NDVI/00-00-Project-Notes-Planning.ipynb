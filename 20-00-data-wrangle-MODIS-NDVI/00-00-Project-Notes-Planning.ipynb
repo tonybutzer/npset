{
 "cells": [
  {
   "cell_type": "markdown",
   "metadata": {},
   "source": [
    "# MODIS NDVI Data Wrangle Notebook"
   ]
  },
  {
   "cell_type": "markdown",
   "metadata": {},
   "source": [
    "# Specifications\n",
    "https://slideplayer.com/slide/10377831/\n",
    "\n",
    "- Spatial Resolution\n",
    "    - **250 m**\n",
    "    - 500 m\n",
    "    - 1000 m\n",
    "\n",
    "- Spectral Resolution\n",
    "    - 36 bands - hyperspectral\n",
    "    \n",
    "- Radiometric Resolution\n",
    "    - 32 bit\n",
    "\n",
    "- Temporal Resolution\n",
    "    - Daily\n",
    "    \n",
    "    \n",
    "## Thats all good - we need the 16 day NDVI Composite"
   ]
  },
  {
   "cell_type": "markdown",
   "metadata": {},
   "source": [
    "---\n",
    "# References"
   ]
  },
  {
   "cell_type": "markdown",
   "metadata": {},
   "source": [
    "---\n",
    "\n",
    "# Modis Tiles\n",
    "https://slideplayer.com/slide/10377831/\n",
    "\n",
    "![](https://player.slideplayer.com/35/10377831/data/images/img20.png)\n",
    "\n",
    "\n",
    "## Other Ways to Grid/Chunk the Data Problem\n",
    "\n",
    "![](https://floodmap.modaps.eosdis.nasa.gov/images/NorthAmerica.png)"
   ]
  },
  {
   "cell_type": "markdown",
   "metadata": {},
   "source": [
    "---\n",
    "## Relatable AOI at 10 Degree x 10 Degree Intervals \n",
    "\n",
    "![](https://floodmap.modaps.eosdis.nasa.gov/Products/100W050N/2020/MFM_2020108_100W050N_3D3OT.png)"
   ]
  },
  {
   "cell_type": "markdown",
   "metadata": {},
   "source": [
    "https://floodmap.modaps.eosdis.nasa.gov/getTile.php?location=100W050N&day=108&year=2020&product=3"
   ]
  },
  {
   "cell_type": "markdown",
   "metadata": {},
   "source": [
    "## Other Grids from earlier Collections\n",
    "\n",
    "https://modis-land.gsfc.nasa.gov/OtherGrids.html"
   ]
  },
  {
   "cell_type": "markdown",
   "metadata": {},
   "source": [
    "---\n",
    "# Portals\n",
    "\n",
    "- https://earthdata.nasa.gov"
   ]
  }
 ],
 "metadata": {
  "kernelspec": {
   "display_name": "Python 3",
   "language": "python",
   "name": "python3"
  },
  "language_info": {
   "codemirror_mode": {
    "name": "ipython",
    "version": 3
   },
   "file_extension": ".py",
   "mimetype": "text/x-python",
   "name": "python",
   "nbconvert_exporter": "python",
   "pygments_lexer": "ipython3",
   "version": "3.7.3"
  }
 },
 "nbformat": 4,
 "nbformat_minor": 4
}
