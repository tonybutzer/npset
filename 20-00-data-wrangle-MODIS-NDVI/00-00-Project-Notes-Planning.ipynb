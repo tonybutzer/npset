{
 "cells": [
  {
   "cell_type": "markdown",
   "metadata": {},
   "source": [
    "# MODIS NDVI Data Wrangle Notebook"
   ]
  },
  {
   "cell_type": "markdown",
   "metadata": {},
   "source": [
    "# Specifications\n",
    "https://slideplayer.com/slide/10377831/\n",
    "\n",
    "- Spatial Resolution\n",
    "    - **250 m**\n",
    "    - 500 m\n",
    "    - 1000 m\n",
    "\n",
    "- Spectral Resolution\n",
    "    - 36 bands - hyperspectral\n",
    "    \n",
    "- Radiometric Resolution\n",
    "    - 32 bit\n",
    "\n",
    "- Temporal Resolution\n",
    "    - Daily\n",
    "    \n",
    "    \n",
    "## Thats all good - we need the 16 day NDVI Composite\n",
    "\n",
    "https://lpdaac.usgs.gov/products/mod13q1v006/"
   ]
  },
  {
   "cell_type": "markdown",
   "metadata": {},
   "source": [
    "---\n",
    "# References\n",
    "\n",
    "1. Kelly Lemig Overview LPDAAC\n",
    "    - https://www.youtube.com/watch?v=n_YKOQ2ZFVw\n",
    "    - Diving into the NASA Data Pools with DAAC2Disk\n",
    "    - https://lpdaac.usgs.gov\n",
    "\n",
    "\n",
    "## Notes\n",
    "\n",
    "1. DAAC2DISK\n",
    "    - leverages online lpdaac Data Pool\n",
    "    - .HDF (science data); .xml (Metadata); .JPEG (browse)\n",
    "    - 2 interfaces\n",
    "        - web\n",
    "        - **command script**\n",
    "            - parameters - bounding box or tile\n",
    "            - text file list of items\n",
    "            - URL - see Reverb  - # OH NO more learning and wrangling\n",
    "     - Why/Purpose de la DAAC2Disk tool\n",
    "        - get large areas over continuous periods of time\n",
    "        - no granule limits - Tony hates limitations\n",
    "        - no software installation - is this really true?\n",
    "            - ![](https://s.abcnews.com/images/2020/190315_2020_act1_901_1_hpMain_16x9_992.jpg)\n",
    "\n",
    "2. **No login required** - Tony Likes this - wtf -mapbox\n",
    "\n",
    "## Actions"
   ]
  },
  {
   "cell_type": "markdown",
   "metadata": {},
   "source": [
    "---\n",
    "# Live Demo DAAC2Disk Web\n",
    "\n",
    "## Run in Chrome\n",
    "\n",
    "### Please Run in Chrome\n",
    "\n",
    "https://lpdaac.usgs.gov/daat_access/data_pool"
   ]
  },
  {
   "cell_type": "markdown",
   "metadata": {},
   "source": [
    "---\n",
    "\n",
    "# Modis Tiles\n",
    "https://slideplayer.com/slide/10377831/\n",
    "\n",
    "![](https://player.slideplayer.com/35/10377831/data/images/img20.png)\n",
    "\n",
    "\n",
    "## Other Ways to Grid/Chunk the Data Problem\n",
    "\n",
    "![](https://floodmap.modaps.eosdis.nasa.gov/images/NorthAmerica.png)"
   ]
  },
  {
   "cell_type": "markdown",
   "metadata": {},
   "source": [
    "---\n",
    "## Relatable AOI at 10 Degree x 10 Degree Intervals \n",
    "\n",
    "![](https://floodmap.modaps.eosdis.nasa.gov/Products/100W050N/2020/MFM_2020108_100W050N_3D3OT.png)"
   ]
  },
  {
   "cell_type": "markdown",
   "metadata": {},
   "source": [
    "https://floodmap.modaps.eosdis.nasa.gov/getTile.php?location=100W050N&day=108&year=2020&product=3"
   ]
  },
  {
   "cell_type": "markdown",
   "metadata": {},
   "source": [
    "## Other Grids from earlier Collections\n",
    "\n",
    "https://modis-land.gsfc.nasa.gov/OtherGrids.html"
   ]
  },
  {
   "cell_type": "markdown",
   "metadata": {},
   "source": [
    "---\n",
    "# Portals\n",
    "\n",
    "- https://earthdata.nasa.gov"
   ]
  }
 ],
 "metadata": {
  "kernelspec": {
   "display_name": "Python 3",
   "language": "python",
   "name": "python3"
  },
  "language_info": {
   "codemirror_mode": {
    "name": "ipython",
    "version": 3
   },
   "file_extension": ".py",
   "mimetype": "text/x-python",
   "name": "python",
   "nbconvert_exporter": "python",
   "pygments_lexer": "ipython3",
   "version": "3.7.3"
  }
 },
 "nbformat": 4,
 "nbformat_minor": 4
}
