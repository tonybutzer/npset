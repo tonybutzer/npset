{
 "cells": [
  {
   "cell_type": "code",
   "execution_count": 1,
   "metadata": {},
   "outputs": [
    {
     "name": "stderr",
     "output_type": "stream",
     "text": [
      "2020-05-12 01:39:15,063 - TH_DISPATCHER - INFO - Logging Begins\n"
     ]
    }
   ],
   "source": [
    "from playLib.th_thread import th_threads"
   ]
  },
  {
   "cell_type": "code",
   "execution_count": 2,
   "metadata": {},
   "outputs": [],
   "source": [
    "# ! (cd ~/opt/npset/mylib/playLib; make)"
   ]
  },
  {
   "cell_type": "code",
   "execution_count": 3,
   "metadata": {},
   "outputs": [
    {
     "name": "stdout",
     "output_type": "stream",
     "text": [
      "playLib                1.0.1       \r\n"
     ]
    }
   ],
   "source": [
    "! pip list | grep play"
   ]
  },
  {
   "cell_type": "code",
   "execution_count": 4,
   "metadata": {},
   "outputs": [
    {
     "name": "stdout",
     "output_type": "stream",
     "text": [
      "uid=1007(jupyter-butzer) gid=1009(jupyter-butzer) groups=1009(jupyter-butzer),1002(jupyterhub-users)\r\n"
     ]
    }
   ],
   "source": [
    "! id"
   ]
  },
  {
   "cell_type": "code",
   "execution_count": 5,
   "metadata": {},
   "outputs": [
    {
     "name": "stdout",
     "output_type": "stream",
     "text": [
      "1\n",
      "2\n",
      "3\n",
      "4\n",
      "5\n",
      "6\n",
      "7\n",
      "8\n",
      "9\n",
      "10\n"
     ]
    }
   ],
   "source": [
    "work_list=[]\n",
    "for i in range(1,10+1):\n",
    "    print(i)\n",
    "    cmd = 'workerbee.py ' + str(i)\n",
    "    work_list.append(cmd)\n",
    "    "
   ]
  },
  {
   "cell_type": "code",
   "execution_count": 6,
   "metadata": {},
   "outputs": [
    {
     "data": {
      "text/plain": [
       "['workerbee.py 1',\n",
       " 'workerbee.py 2',\n",
       " 'workerbee.py 3',\n",
       " 'workerbee.py 4',\n",
       " 'workerbee.py 5',\n",
       " 'workerbee.py 6',\n",
       " 'workerbee.py 7',\n",
       " 'workerbee.py 8',\n",
       " 'workerbee.py 9',\n",
       " 'workerbee.py 10']"
      ]
     },
     "execution_count": 6,
     "metadata": {},
     "output_type": "execute_result"
    }
   ],
   "source": [
    "work_list"
   ]
  },
  {
   "cell_type": "code",
   "execution_count": 7,
   "metadata": {},
   "outputs": [],
   "source": [
    "thread_count=2"
   ]
  },
  {
   "cell_type": "code",
   "execution_count": 8,
   "metadata": {},
   "outputs": [
    {
     "name": "stdout",
     "output_type": "stream",
     "text": [
      "Starting qworker_0\n",
      "Starting qworker_1\n",
      "['workerbee.py 1', 'workerbee.py 2', 'workerbee.py 3', 'workerbee.py 4', 'workerbee.py 5', 'workerbee.py 6', 'workerbee.py 7', 'workerbee.py 8', 'workerbee.py 9', 'workerbee.py 10']\n"
     ]
    },
    {
     "name": "stderr",
     "output_type": "stream",
     "text": [
      "2020-05-12 01:39:17,084 - TH_DISPATCHER - INFO - ('I will spawn thee: ', 'workerbee.py 2')\n",
      "2020-05-12 01:39:17,095 - TH_DISPATCHER - INFO - python3 ./workerbee.py 2\n",
      "2020-05-12 01:39:17,095 - TH_DISPATCHER - INFO - ('I will spawn thee: ', 'workerbee.py 1')\n",
      "2020-05-12 01:39:17,179 - TH_DISPATCHER - INFO - python3 ./workerbee.py 1\n"
     ]
    },
    {
     "name": "stdout",
     "output_type": "stream",
     "text": [
      "qworker_0 processing workerbee.py 1qworker_1 processing workerbee.py 2\n",
      "th_dispatch the TASK is workerbee.py 2\n",
      "\n",
      "th_dispatch the TASK is workerbee.py 1\n"
     ]
    },
    {
     "name": "stderr",
     "output_type": "stream",
     "text": [
      "2020-05-12 01:39:17,991 - TH_DISPATCHER - INFO - ('I will spawn thee: ', 'workerbee.py 3')\n",
      "2020-05-12 01:39:17,992 - TH_DISPATCHER - INFO - python3 ./workerbee.py 3\n",
      "2020-05-12 01:39:18,165 - TH_DISPATCHER - INFO - ('I will spawn thee: ', 'workerbee.py 4')\n",
      "2020-05-12 01:39:18,177 - TH_DISPATCHER - INFO - python3 ./workerbee.py 4\n"
     ]
    },
    {
     "name": "stdout",
     "output_type": "stream",
     "text": [
      "qworker_1 processing workerbee.py 3\n",
      "th_dispatch the TASK is workerbee.py 3\n",
      "qworker_0 processing workerbee.py 4\n",
      "th_dispatch the TASK is workerbee.py 4\n"
     ]
    },
    {
     "name": "stderr",
     "output_type": "stream",
     "text": [
      "2020-05-12 01:39:18,818 - TH_DISPATCHER - INFO - ('I will spawn thee: ', 'workerbee.py 5')\n",
      "2020-05-12 01:39:18,824 - TH_DISPATCHER - INFO - python3 ./workerbee.py 5\n",
      "2020-05-12 01:39:18,909 - TH_DISPATCHER - INFO - ('I will spawn thee: ', 'workerbee.py 6')\n",
      "2020-05-12 01:39:18,910 - TH_DISPATCHER - INFO - python3 ./workerbee.py 6\n"
     ]
    },
    {
     "name": "stdout",
     "output_type": "stream",
     "text": [
      "qworker_1 processing workerbee.py 5\n",
      "th_dispatch the TASK is workerbee.py 5\n",
      "qworker_0 processing workerbee.py 6\n",
      "th_dispatch the TASK is workerbee.py 6\n"
     ]
    },
    {
     "name": "stderr",
     "output_type": "stream",
     "text": [
      "2020-05-12 01:39:19,619 - TH_DISPATCHER - INFO - ('I will spawn thee: ', 'workerbee.py 7')\n",
      "2020-05-12 01:39:19,630 - TH_DISPATCHER - INFO - python3 ./workerbee.py 7\n"
     ]
    },
    {
     "name": "stdout",
     "output_type": "stream",
     "text": [
      "qworker_1 processing workerbee.py 7\n",
      "th_dispatch the TASK is workerbee.py 7\n"
     ]
    },
    {
     "name": "stderr",
     "output_type": "stream",
     "text": [
      "2020-05-12 01:39:19,872 - TH_DISPATCHER - INFO - ('I will spawn thee: ', 'workerbee.py 8')\n",
      "2020-05-12 01:39:19,878 - TH_DISPATCHER - INFO - python3 ./workerbee.py 8\n"
     ]
    },
    {
     "name": "stdout",
     "output_type": "stream",
     "text": [
      "qworker_0 processing workerbee.py 8\n",
      "th_dispatch the TASK is workerbee.py 8\n"
     ]
    },
    {
     "name": "stderr",
     "output_type": "stream",
     "text": [
      "2020-05-12 01:39:20,380 - TH_DISPATCHER - INFO - ('I will spawn thee: ', 'workerbee.py 9')\n",
      "2020-05-12 01:39:20,381 - TH_DISPATCHER - INFO - python3 ./workerbee.py 9\n"
     ]
    },
    {
     "name": "stdout",
     "output_type": "stream",
     "text": [
      "qworker_1 processing workerbee.py 9\n",
      "th_dispatch the TASK is workerbee.py 9\n"
     ]
    },
    {
     "name": "stderr",
     "output_type": "stream",
     "text": [
      "2020-05-12 01:39:20,688 - TH_DISPATCHER - INFO - ('I will spawn thee: ', 'workerbee.py 10')\n",
      "2020-05-12 01:39:20,689 - TH_DISPATCHER - INFO - python3 ./workerbee.py 10\n"
     ]
    },
    {
     "name": "stdout",
     "output_type": "stream",
     "text": [
      "qworker_0 processing workerbee.py 10\n",
      "th_dispatch the TASK is workerbee.py 10\n",
      "Exiting qworker_0\n",
      "Exiting qworker_1\n",
      "Exiting Main Thread\n"
     ]
    }
   ],
   "source": [
    "my_threads = th_threads(thread_count)\n",
    "\n",
    "print(work_list)\n",
    "\n",
    "my_threads.fill_q(work_list)\n",
    "\n",
    "\n",
    "# wait for join\n",
    "\n",
    "my_threads.join()\n"
   ]
  },
  {
   "cell_type": "code",
   "execution_count": null,
   "metadata": {},
   "outputs": [],
   "source": []
  }
 ],
 "metadata": {
  "kernelspec": {
   "display_name": "Python 3",
   "language": "python",
   "name": "python3"
  },
  "language_info": {
   "codemirror_mode": {
    "name": "ipython",
    "version": 3
   },
   "file_extension": ".py",
   "mimetype": "text/x-python",
   "name": "python",
   "nbconvert_exporter": "python",
   "pygments_lexer": "ipython3",
   "version": "3.7.3"
  }
 },
 "nbformat": 4,
 "nbformat_minor": 4
}
