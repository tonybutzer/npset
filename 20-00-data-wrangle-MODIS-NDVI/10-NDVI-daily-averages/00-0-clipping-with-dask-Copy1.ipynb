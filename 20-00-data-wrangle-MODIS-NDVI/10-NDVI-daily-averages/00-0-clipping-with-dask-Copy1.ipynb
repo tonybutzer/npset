{
 "cells": [
  {
   "cell_type": "code",
   "execution_count": 1,
   "metadata": {},
   "outputs": [],
   "source": [
    "import geopandas as gpd\n",
    "import rasterio as rio\n",
    "from rasterio.windows import from_bounds\n",
    "#from rasterio.enums import Resampling\n",
    "\n",
    "from dask import delayed\n",
    "from dask import compute\n",
    "import dask"
   ]
  },
  {
   "cell_type": "code",
   "execution_count": 2,
   "metadata": {},
   "outputs": [],
   "source": [
    "def clip_by_geojson(infile,outfile,geojson_file):\n",
    "    \n",
    "    filepath=infile\n",
    "    geoms = gpd.read_file(geojson_file)\n",
    "    # print(geoms)\n",
    "    left = geoms.bounds.minx[0]\n",
    "    right = geoms.bounds.maxx[0]\n",
    "    top = geoms.bounds.maxy[0]\n",
    "    bottom = geoms.bounds.miny[0]\n",
    "    \n",
    "    # print(left,right,top,bottom)\n",
    "\n",
    "    with rio.open(filepath) as src:\n",
    "        my_window = from_bounds(left, bottom, right, top, src.transform)\n",
    "        #print(my_window)\n",
    "\n",
    "        rst = src.read(1, window=my_window)\n",
    "        \n",
    "        py, px = src.index(left, top)\n",
    "        #print('Pixel Y, X coords: {}, {}'.format(py, px))\n",
    "        \n",
    "        py, px = src.index(-90, 49.98)\n",
    "        #print('Pixel Y, X coords: {}, {}'.format(py, px))\n",
    "        rst[(rst < 0)] = 0\n",
    "        \n",
    "        # You can then write out a new file\n",
    "        meta = src.meta\n",
    "        #print(meta)\n",
    "        #meta['width'], meta['height'] = rst.shape[1],rst.shape[0]\n",
    "        meta['width'], meta['height'] = rst.shape[0],rst.shape[1]\n",
    "\n",
    "        meta['transform'] = rio.windows.transform(my_window, src.transform)\n",
    "        #print(meta)\n",
    "\n",
    "        with rio.open(outfile, 'w', **meta) as dst:\n",
    "            dst.write(rst, 1)\n",
    "\n",
    "        return rst"
   ]
  },
  {
   "cell_type": "code",
   "execution_count": 3,
   "metadata": {},
   "outputs": [],
   "source": [
    "import matplotlib.pyplot as pyplot\n",
    "from rasterio.plot import show\n",
    "\n",
    "def my_plot(array):\n",
    "    cmaps = ['Accent', 'Accent_r', 'Blues', 'Blues_r', 'BrBG', 'BrBG_r', 'BuGn', 'BuGn_r', 'BuPu', 'BuPu_r', 'CMRmap', 'CMRmap_r', 'Dark2', 'Dark2_r', 'GnBu', 'GnBu_r', 'Greens', 'Greens_r', 'Greys', 'Greys_r', 'OrRd', 'OrRd_r', 'Oranges', 'Oranges_r', 'PRGn', 'PRGn_r', 'Paired', 'Paired_r', 'Pastel1', 'Pastel1_r', 'Pastel2', 'Pastel2_r', 'PiYG', 'PiYG_r', 'PuBu', 'PuBuGn', 'PuBuGn_r', 'PuBu_r', 'PuOr', 'PuOr_r', 'PuRd', 'PuRd_r', 'Purples', 'Purples_r', 'RdBu', 'RdBu_r', 'RdGy', 'RdGy_r', 'RdPu', 'RdPu_r', 'RdYlBu', 'RdYlBu_r', 'RdYlGn', 'RdYlGn_r', 'Reds', 'Reds_r', 'Set1', 'Set1_r', 'Set2', 'Set2_r', 'Set3', 'Set3_r', 'Spectral', 'Spectral_r', 'Wistia', 'Wistia_r', 'YlGn', 'YlGnBu', 'YlGnBu_r', 'YlGn_r']\n",
    "    axs=()\n",
    "    fig, axs = pyplot.subplots(1,8, figsize=(21,21))\n",
    "    for i in range(0,8):\n",
    "        show(array, ax=axs[i], cmap=cmaps[i], title=cmaps[i])\n",
    "    pyplot.show()"
   ]
  },
  {
   "cell_type": "code",
   "execution_count": 4,
   "metadata": {},
   "outputs": [
    {
     "name": "stdout",
     "output_type": "stream",
     "text": [
      "/vsis3/dev-et-data/compressed/NDVI_filled/2001/2001001.250_m_NDVI.tif\n",
      "data/gl001.tif\n",
      "/vsis3/dev-et-data/compressed/NDVI_filled/2001/2001051.250_m_NDVI.tif\n",
      "data/gl051.tif\n",
      "CPU times: user 2.68 s, sys: 910 ms, total: 3.59 s\n",
      "Wall time: 8.83 s\n"
     ]
    }
   ],
   "source": [
    "%%time\n",
    "geoj = 'great_lakes_edit.geojson'\n",
    "arrays = []\n",
    "maxs = []\n",
    "\n",
    "for i in range(1,101,50):\n",
    "    tif = '/vsis3/dev-et-data/compressed/NDVI_filled/2001/2001{0:03}.250_m_NDVI.tif'.format(i)\n",
    "    outf = 'data/gl{0:03}.tif'.format(i)\n",
    "    print(tif)\n",
    "    print(outf)\n",
    "    array = delayed(clip_by_geojson(tif,outf,geoj))\n",
    "    x = array.max()\n",
    "    maxs.append(x)\n",
    "    arrays.append(array)\n",
    "    \n",
    "    \n",
    "arrays = dask.persist(*arrays)"
   ]
  },
  {
   "cell_type": "code",
   "execution_count": 6,
   "metadata": {},
   "outputs": [
    {
     "name": "stdout",
     "output_type": "stream",
     "text": [
      "<class 'dask.delayed.Delayed'>\n",
      "Delayed('ndarray-c8edac03-352b-474b-a4ac-e0bc15263d3c')\n",
      "<class 'dask.delayed.Delayed'>\n",
      "Delayed('ndarray-e50a794c-b915-4e4d-8523-e2597e4876fe')\n"
     ]
    }
   ],
   "source": [
    "for thing in arrays:\n",
    "    print(type(thing))\n",
    "    print(thing)\n",
    "    # x=thing.max()\n",
    "    # compute(x)\n",
    "    # print(x)\n",
    "    "
   ]
  },
  {
   "cell_type": "code",
   "execution_count": null,
   "metadata": {},
   "outputs": [],
   "source": [
    "%%time\n",
    "for ary in arrays:\n",
    "    x=ary.max()\n",
    "    print(x)"
   ]
  },
  {
   "cell_type": "code",
   "execution_count": null,
   "metadata": {},
   "outputs": [],
   "source": [
    "! ls data"
   ]
  },
  {
   "cell_type": "code",
   "execution_count": null,
   "metadata": {},
   "outputs": [],
   "source": [
    "! gdalinfo ./data/gl051.tif"
   ]
  },
  {
   "cell_type": "code",
   "execution_count": null,
   "metadata": {},
   "outputs": [],
   "source": []
  }
 ],
 "metadata": {
  "kernelspec": {
   "display_name": "Python 3",
   "language": "python",
   "name": "python3"
  },
  "language_info": {
   "codemirror_mode": {
    "name": "ipython",
    "version": 3
   },
   "file_extension": ".py",
   "mimetype": "text/x-python",
   "name": "python",
   "nbconvert_exporter": "python",
   "pygments_lexer": "ipython3",
   "version": "3.7.3"
  }
 },
 "nbformat": 4,
 "nbformat_minor": 4
}
