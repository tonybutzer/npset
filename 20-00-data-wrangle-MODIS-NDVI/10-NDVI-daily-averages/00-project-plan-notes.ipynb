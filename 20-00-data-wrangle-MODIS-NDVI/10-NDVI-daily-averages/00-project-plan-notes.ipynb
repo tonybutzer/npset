{
 "cells": [
  {
   "cell_type": "markdown",
   "metadata": {},
   "source": [
    "# Relevant Examples \n",
    "\n",
    "1. geomedian from kirill\n",
    "2. dask xarray from Nathan\n",
    "3. dask xarray from Signell\n",
    "4. window by lat long rasterio example - lost it bummer!\n",
    "\n",
    "\n",
    "1. https://github.com/opendatacube/odc-tools/blob/master/notebooks/geomedian-example.ipynb\n",
    "2. https://github.com/tonybutzer/notebook/blob/master/00-Tutorial/00-landsat/Working%20with%20Xarrays%20and%20Dask/Waubay_Time_Stack.ipynb\n",
    "3. tbd\n",
    "4. https://gis.stackexchange.com/questions/299787/finding-pixel-location-in-raster-using-coordinates"
   ]
  },
  {
   "cell_type": "code",
   "execution_count": null,
   "metadata": {},
   "outputs": [],
   "source": []
  }
 ],
 "metadata": {
  "kernelspec": {
   "display_name": "Python 3",
   "language": "python",
   "name": "python3"
  },
  "language_info": {
   "codemirror_mode": {
    "name": "ipython",
    "version": 3
   },
   "file_extension": ".py",
   "mimetype": "text/x-python",
   "name": "python",
   "nbconvert_exporter": "python",
   "pygments_lexer": "ipython3",
   "version": "3.7.3"
  }
 },
 "nbformat": 4,
 "nbformat_minor": 4
}
