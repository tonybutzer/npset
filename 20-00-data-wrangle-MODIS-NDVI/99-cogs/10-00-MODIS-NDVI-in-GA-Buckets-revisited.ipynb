{
 "cells": [
  {
   "cell_type": "markdown",
   "metadata": {},
   "source": [
    "# NDVI is the 800 pound gorilla\n",
    "\n",
    "#### At least that's my story/hypothesis\n",
    "\n",
    "#### Q1 - How do we efficiently load the data into the cloud.\n",
    "\n",
    "#### A1 - we use Kelly Lemig and her LPDAAC experience and download tools\n",
    "#### A2 - We use it directly in the cloud when it gets loaded by Matt Martens\n"
   ]
  },
  {
   "cell_type": "code",
   "execution_count": null,
   "metadata": {},
   "outputs": [],
   "source": []
  }
 ],
 "metadata": {
  "kernelspec": {
   "display_name": "Python 3",
   "language": "python",
   "name": "python3"
  },
  "language_info": {
   "codemirror_mode": {
    "name": "ipython",
    "version": 3
   },
   "file_extension": ".py",
   "mimetype": "text/x-python",
   "name": "python",
   "nbconvert_exporter": "python",
   "pygments_lexer": "ipython3",
   "version": "3.7.3"
  }
 },
 "nbformat": 4,
 "nbformat_minor": 4
}
