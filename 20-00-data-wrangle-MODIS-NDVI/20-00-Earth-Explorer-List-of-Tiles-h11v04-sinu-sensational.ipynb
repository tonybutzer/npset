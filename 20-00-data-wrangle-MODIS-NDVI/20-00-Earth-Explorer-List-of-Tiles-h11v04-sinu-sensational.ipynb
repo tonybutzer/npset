{
 "cells": [
  {
   "cell_type": "code",
   "execution_count": 1,
   "metadata": {},
   "outputs": [
    {
     "name": "stdout",
     "output_type": "stream",
     "text": [
      "00-00-Project-Notes-Planning.ipynb\r\n",
      "10-00-MODIS-NDVI-in-GA-Buckets-revisited.ipynb\r\n",
      "20-00-Earth-Explorer-List-of-Tiles-h11v04-sinu-sensational.ipynb\r\n",
      "CopyofMODIS_MOD13Q1_V6_416185.csv\r\n",
      "mybrowse.jpg\r\n"
     ]
    }
   ],
   "source": [
    "! ls"
   ]
  },
  {
   "cell_type": "code",
   "execution_count": 2,
   "metadata": {},
   "outputs": [
    {
     "data": {
      "text/html": [
       "<div>\n",
       "<style scoped>\n",
       "    .dataframe tbody tr th:only-of-type {\n",
       "        vertical-align: middle;\n",
       "    }\n",
       "\n",
       "    .dataframe tbody tr th {\n",
       "        vertical-align: top;\n",
       "    }\n",
       "\n",
       "    .dataframe thead th {\n",
       "        text-align: right;\n",
       "    }\n",
       "</style>\n",
       "<table border=\"1\" class=\"dataframe\">\n",
       "  <thead>\n",
       "    <tr style=\"text-align: right;\">\n",
       "      <th></th>\n",
       "      <th>Local Granule ID</th>\n",
       "      <th>Entity ID</th>\n",
       "      <th>Acquisition Start Date</th>\n",
       "      <th>Acquisition End Date</th>\n",
       "      <th>Horizontal Tile Number</th>\n",
       "      <th>Vertical Tile Number</th>\n",
       "      <th>Day/Night Indicator</th>\n",
       "      <th>Version Number</th>\n",
       "      <th>Product Generation Algorithm</th>\n",
       "      <th>Auto Quality Flag</th>\n",
       "      <th>...</th>\n",
       "      <th>NW Corner Long dec</th>\n",
       "      <th>NE Corner Lat dec</th>\n",
       "      <th>NE Corner Long dec</th>\n",
       "      <th>SE Corner Lat dec</th>\n",
       "      <th>SE Corner Long dec</th>\n",
       "      <th>SW Corner Lat dec</th>\n",
       "      <th>SW Corner Long dec</th>\n",
       "      <th>Display ID</th>\n",
       "      <th>Ordering ID</th>\n",
       "      <th>Browse Link</th>\n",
       "    </tr>\n",
       "  </thead>\n",
       "  <tbody>\n",
       "    <tr>\n",
       "      <th>0</th>\n",
       "      <td>MOD13Q1.A2020017.h11v04.006.2020034144425.hdf</td>\n",
       "      <td>2358244746</td>\n",
       "      <td>1/17/2020</td>\n",
       "      <td>2/1/2020</td>\n",
       "      <td>11</td>\n",
       "      <td>4</td>\n",
       "      <td>Day</td>\n",
       "      <td>6</td>\n",
       "      <td>6.0.35</td>\n",
       "      <td>Passed</td>\n",
       "      <td>...</td>\n",
       "      <td>-109.0855</td>\n",
       "      <td>50.0921</td>\n",
       "      <td>-93.3968</td>\n",
       "      <td>39.8489</td>\n",
       "      <td>-78.1497</td>\n",
       "      <td>39.7728</td>\n",
       "      <td>-91.3388</td>\n",
       "      <td>MOD13Q1.A2020017.h11v04.006</td>\n",
       "      <td>2358244746</td>\n",
       "      <td>https://earthexplorer.usgs.gov/browse-link/107...</td>\n",
       "    </tr>\n",
       "    <tr>\n",
       "      <th>1</th>\n",
       "      <td>MOD13Q1.A2019017.h11v04.006.2019037160703.hdf</td>\n",
       "      <td>2327558207</td>\n",
       "      <td>1/17/2019</td>\n",
       "      <td>2/1/2019</td>\n",
       "      <td>11</td>\n",
       "      <td>4</td>\n",
       "      <td>Day</td>\n",
       "      <td>6</td>\n",
       "      <td>6.0.35</td>\n",
       "      <td>Passed</td>\n",
       "      <td>...</td>\n",
       "      <td>-109.0855</td>\n",
       "      <td>50.0921</td>\n",
       "      <td>-93.3968</td>\n",
       "      <td>39.8489</td>\n",
       "      <td>-78.1497</td>\n",
       "      <td>39.7728</td>\n",
       "      <td>-91.3388</td>\n",
       "      <td>MOD13Q1.A2019017.h11v04.006</td>\n",
       "      <td>2327558207</td>\n",
       "      <td>https://earthexplorer.usgs.gov/browse-link/107...</td>\n",
       "    </tr>\n",
       "    <tr>\n",
       "      <th>2</th>\n",
       "      <td>MOD13Q1.A2018161.h11v04.006.2018177235718.hdf</td>\n",
       "      <td>2298473733</td>\n",
       "      <td>6/10/2018</td>\n",
       "      <td>6/25/2018</td>\n",
       "      <td>11</td>\n",
       "      <td>4</td>\n",
       "      <td>Day</td>\n",
       "      <td>6</td>\n",
       "      <td>6.0.35</td>\n",
       "      <td>Passed</td>\n",
       "      <td>...</td>\n",
       "      <td>-109.0855</td>\n",
       "      <td>50.0921</td>\n",
       "      <td>-93.3968</td>\n",
       "      <td>39.8489</td>\n",
       "      <td>-78.1497</td>\n",
       "      <td>39.7728</td>\n",
       "      <td>-91.3388</td>\n",
       "      <td>MOD13Q1.A2018161.h11v04.006</td>\n",
       "      <td>2298473733</td>\n",
       "      <td>https://earthexplorer.usgs.gov/browse-link/107...</td>\n",
       "    </tr>\n",
       "    <tr>\n",
       "      <th>3</th>\n",
       "      <td>MOD13Q1.A2018193.h11v04.006.2018210001420.hdf</td>\n",
       "      <td>2302670946</td>\n",
       "      <td>7/12/2018</td>\n",
       "      <td>7/27/2018</td>\n",
       "      <td>11</td>\n",
       "      <td>4</td>\n",
       "      <td>Day</td>\n",
       "      <td>6</td>\n",
       "      <td>6.0.35</td>\n",
       "      <td>Passed</td>\n",
       "      <td>...</td>\n",
       "      <td>-109.0855</td>\n",
       "      <td>50.0921</td>\n",
       "      <td>-93.3968</td>\n",
       "      <td>39.8489</td>\n",
       "      <td>-78.1497</td>\n",
       "      <td>39.7728</td>\n",
       "      <td>-91.3388</td>\n",
       "      <td>MOD13Q1.A2018193.h11v04.006</td>\n",
       "      <td>2302670946</td>\n",
       "      <td>https://earthexplorer.usgs.gov/browse-link/107...</td>\n",
       "    </tr>\n",
       "    <tr>\n",
       "      <th>4</th>\n",
       "      <td>MOD13Q1.A2018177.h11v04.006.2018197102836.hdf</td>\n",
       "      <td>2300627868</td>\n",
       "      <td>6/26/2018</td>\n",
       "      <td>7/11/2018</td>\n",
       "      <td>11</td>\n",
       "      <td>4</td>\n",
       "      <td>Day</td>\n",
       "      <td>6</td>\n",
       "      <td>6.0.35</td>\n",
       "      <td>Passed</td>\n",
       "      <td>...</td>\n",
       "      <td>-109.0855</td>\n",
       "      <td>50.0921</td>\n",
       "      <td>-93.3968</td>\n",
       "      <td>39.8489</td>\n",
       "      <td>-78.1497</td>\n",
       "      <td>39.7728</td>\n",
       "      <td>-91.3388</td>\n",
       "      <td>MOD13Q1.A2018177.h11v04.006</td>\n",
       "      <td>2300627868</td>\n",
       "      <td>https://earthexplorer.usgs.gov/browse-link/107...</td>\n",
       "    </tr>\n",
       "  </tbody>\n",
       "</table>\n",
       "<p>5 rows × 41 columns</p>\n",
       "</div>"
      ],
      "text/plain": [
       "                                Local Granule ID   Entity ID  \\\n",
       "0  MOD13Q1.A2020017.h11v04.006.2020034144425.hdf  2358244746   \n",
       "1  MOD13Q1.A2019017.h11v04.006.2019037160703.hdf  2327558207   \n",
       "2  MOD13Q1.A2018161.h11v04.006.2018177235718.hdf  2298473733   \n",
       "3  MOD13Q1.A2018193.h11v04.006.2018210001420.hdf  2302670946   \n",
       "4  MOD13Q1.A2018177.h11v04.006.2018197102836.hdf  2300627868   \n",
       "\n",
       "  Acquisition Start Date Acquisition End Date  Horizontal Tile Number  \\\n",
       "0              1/17/2020             2/1/2020                      11   \n",
       "1              1/17/2019             2/1/2019                      11   \n",
       "2              6/10/2018            6/25/2018                      11   \n",
       "3              7/12/2018            7/27/2018                      11   \n",
       "4              6/26/2018            7/11/2018                      11   \n",
       "\n",
       "   Vertical Tile Number Day/Night Indicator  Version Number  \\\n",
       "0                     4                 Day               6   \n",
       "1                     4                 Day               6   \n",
       "2                     4                 Day               6   \n",
       "3                     4                 Day               6   \n",
       "4                     4                 Day               6   \n",
       "\n",
       "  Product Generation Algorithm Auto Quality Flag  ... NW Corner Long dec  \\\n",
       "0                       6.0.35            Passed  ...          -109.0855   \n",
       "1                       6.0.35            Passed  ...          -109.0855   \n",
       "2                       6.0.35            Passed  ...          -109.0855   \n",
       "3                       6.0.35            Passed  ...          -109.0855   \n",
       "4                       6.0.35            Passed  ...          -109.0855   \n",
       "\n",
       "  NE Corner Lat dec NE Corner Long dec  SE Corner Lat dec SE Corner Long dec  \\\n",
       "0           50.0921           -93.3968            39.8489           -78.1497   \n",
       "1           50.0921           -93.3968            39.8489           -78.1497   \n",
       "2           50.0921           -93.3968            39.8489           -78.1497   \n",
       "3           50.0921           -93.3968            39.8489           -78.1497   \n",
       "4           50.0921           -93.3968            39.8489           -78.1497   \n",
       "\n",
       "  SW Corner Lat dec SW Corner Long dec                   Display ID  \\\n",
       "0           39.7728           -91.3388  MOD13Q1.A2020017.h11v04.006   \n",
       "1           39.7728           -91.3388  MOD13Q1.A2019017.h11v04.006   \n",
       "2           39.7728           -91.3388  MOD13Q1.A2018161.h11v04.006   \n",
       "3           39.7728           -91.3388  MOD13Q1.A2018193.h11v04.006   \n",
       "4           39.7728           -91.3388  MOD13Q1.A2018177.h11v04.006   \n",
       "\n",
       "  Ordering ID                                        Browse Link  \n",
       "0  2358244746  https://earthexplorer.usgs.gov/browse-link/107...  \n",
       "1  2327558207  https://earthexplorer.usgs.gov/browse-link/107...  \n",
       "2  2298473733  https://earthexplorer.usgs.gov/browse-link/107...  \n",
       "3  2302670946  https://earthexplorer.usgs.gov/browse-link/107...  \n",
       "4  2300627868  https://earthexplorer.usgs.gov/browse-link/107...  \n",
       "\n",
       "[5 rows x 41 columns]"
      ]
     },
     "execution_count": 2,
     "metadata": {},
     "output_type": "execute_result"
    }
   ],
   "source": [
    "import pandas as pd\n",
    "data='CopyofMODIS_MOD13Q1_V6_416185.csv'\n",
    "df = pd.read_csv(data, encoding=\"ISO-8859-1\")  \n",
    "df.head()"
   ]
  },
  {
   "cell_type": "code",
   "execution_count": 3,
   "metadata": {},
   "outputs": [
    {
     "data": {
      "text/plain": [
       "(373, 41)"
      ]
     },
     "execution_count": 3,
     "metadata": {},
     "output_type": "execute_result"
    }
   ],
   "source": [
    "df.shape"
   ]
  },
  {
   "cell_type": "code",
   "execution_count": 4,
   "metadata": {},
   "outputs": [],
   "source": [
    "df2 = df[['Acquisition End Date','Browse Link']]"
   ]
  },
  {
   "cell_type": "code",
   "execution_count": 5,
   "metadata": {},
   "outputs": [
    {
     "data": {
      "text/html": [
       "<div>\n",
       "<style scoped>\n",
       "    .dataframe tbody tr th:only-of-type {\n",
       "        vertical-align: middle;\n",
       "    }\n",
       "\n",
       "    .dataframe tbody tr th {\n",
       "        vertical-align: top;\n",
       "    }\n",
       "\n",
       "    .dataframe thead th {\n",
       "        text-align: right;\n",
       "    }\n",
       "</style>\n",
       "<table border=\"1\" class=\"dataframe\">\n",
       "  <thead>\n",
       "    <tr style=\"text-align: right;\">\n",
       "      <th></th>\n",
       "      <th>Acquisition End Date</th>\n",
       "      <th>Browse Link</th>\n",
       "    </tr>\n",
       "  </thead>\n",
       "  <tbody>\n",
       "    <tr>\n",
       "      <th>0</th>\n",
       "      <td>2/1/2020</td>\n",
       "      <td>https://earthexplorer.usgs.gov/browse-link/107...</td>\n",
       "    </tr>\n",
       "    <tr>\n",
       "      <th>1</th>\n",
       "      <td>2/1/2019</td>\n",
       "      <td>https://earthexplorer.usgs.gov/browse-link/107...</td>\n",
       "    </tr>\n",
       "    <tr>\n",
       "      <th>2</th>\n",
       "      <td>6/25/2018</td>\n",
       "      <td>https://earthexplorer.usgs.gov/browse-link/107...</td>\n",
       "    </tr>\n",
       "    <tr>\n",
       "      <th>3</th>\n",
       "      <td>7/27/2018</td>\n",
       "      <td>https://earthexplorer.usgs.gov/browse-link/107...</td>\n",
       "    </tr>\n",
       "    <tr>\n",
       "      <th>4</th>\n",
       "      <td>7/11/2018</td>\n",
       "      <td>https://earthexplorer.usgs.gov/browse-link/107...</td>\n",
       "    </tr>\n",
       "  </tbody>\n",
       "</table>\n",
       "</div>"
      ],
      "text/plain": [
       "  Acquisition End Date                                        Browse Link\n",
       "0             2/1/2020  https://earthexplorer.usgs.gov/browse-link/107...\n",
       "1             2/1/2019  https://earthexplorer.usgs.gov/browse-link/107...\n",
       "2            6/25/2018  https://earthexplorer.usgs.gov/browse-link/107...\n",
       "3            7/27/2018  https://earthexplorer.usgs.gov/browse-link/107...\n",
       "4            7/11/2018  https://earthexplorer.usgs.gov/browse-link/107..."
      ]
     },
     "execution_count": 5,
     "metadata": {},
     "output_type": "execute_result"
    }
   ],
   "source": [
    "df2.head()"
   ]
  },
  {
   "cell_type": "code",
   "execution_count": 6,
   "metadata": {},
   "outputs": [
    {
     "name": "stderr",
     "output_type": "stream",
     "text": [
      "/opt/tljh/user/lib/python3.7/site-packages/ipykernel_launcher.py:1: SettingWithCopyWarning: \n",
      "A value is trying to be set on a copy of a slice from a DataFrame.\n",
      "Try using .loc[row_indexer,col_indexer] = value instead\n",
      "\n",
      "See the caveats in the documentation: https://pandas.pydata.org/pandas-docs/stable/user_guide/indexing.html#returning-a-view-versus-a-copy\n",
      "  \"\"\"Entry point for launching an IPython kernel.\n"
     ]
    }
   ],
   "source": [
    "df2['Acquisition End Date'] = pd.to_datetime(df2['Acquisition End Date'])\n",
    "df3 = df2.sort_values(by='Acquisition End Date')"
   ]
  },
  {
   "cell_type": "code",
   "execution_count": 7,
   "metadata": {},
   "outputs": [
    {
     "data": {
      "text/html": [
       "<div>\n",
       "<style scoped>\n",
       "    .dataframe tbody tr th:only-of-type {\n",
       "        vertical-align: middle;\n",
       "    }\n",
       "\n",
       "    .dataframe tbody tr th {\n",
       "        vertical-align: top;\n",
       "    }\n",
       "\n",
       "    .dataframe thead th {\n",
       "        text-align: right;\n",
       "    }\n",
       "</style>\n",
       "<table border=\"1\" class=\"dataframe\">\n",
       "  <thead>\n",
       "    <tr style=\"text-align: right;\">\n",
       "      <th></th>\n",
       "      <th>Acquisition End Date</th>\n",
       "      <th>Browse Link</th>\n",
       "    </tr>\n",
       "  </thead>\n",
       "  <tbody>\n",
       "    <tr>\n",
       "      <th>171</th>\n",
       "      <td>2000-03-04</td>\n",
       "      <td>https://earthexplorer.usgs.gov/browse-link/107...</td>\n",
       "    </tr>\n",
       "    <tr>\n",
       "      <th>173</th>\n",
       "      <td>2000-03-20</td>\n",
       "      <td>https://earthexplorer.usgs.gov/browse-link/107...</td>\n",
       "    </tr>\n",
       "    <tr>\n",
       "      <th>174</th>\n",
       "      <td>2000-04-05</td>\n",
       "      <td>https://earthexplorer.usgs.gov/browse-link/107...</td>\n",
       "    </tr>\n",
       "    <tr>\n",
       "      <th>172</th>\n",
       "      <td>2000-04-21</td>\n",
       "      <td>https://earthexplorer.usgs.gov/browse-link/107...</td>\n",
       "    </tr>\n",
       "    <tr>\n",
       "      <th>169</th>\n",
       "      <td>2000-05-23</td>\n",
       "      <td>https://earthexplorer.usgs.gov/browse-link/107...</td>\n",
       "    </tr>\n",
       "    <tr>\n",
       "      <th>...</th>\n",
       "      <td>...</td>\n",
       "      <td>...</td>\n",
       "    </tr>\n",
       "    <tr>\n",
       "      <th>0</th>\n",
       "      <td>2020-02-01</td>\n",
       "      <td>https://earthexplorer.usgs.gov/browse-link/107...</td>\n",
       "    </tr>\n",
       "    <tr>\n",
       "      <th>204</th>\n",
       "      <td>2020-02-17</td>\n",
       "      <td>https://earthexplorer.usgs.gov/browse-link/107...</td>\n",
       "    </tr>\n",
       "    <tr>\n",
       "      <th>206</th>\n",
       "      <td>2020-03-04</td>\n",
       "      <td>https://earthexplorer.usgs.gov/browse-link/107...</td>\n",
       "    </tr>\n",
       "    <tr>\n",
       "      <th>205</th>\n",
       "      <td>2020-03-20</td>\n",
       "      <td>https://earthexplorer.usgs.gov/browse-link/107...</td>\n",
       "    </tr>\n",
       "    <tr>\n",
       "      <th>203</th>\n",
       "      <td>2020-04-05</td>\n",
       "      <td>https://earthexplorer.usgs.gov/browse-link/107...</td>\n",
       "    </tr>\n",
       "  </tbody>\n",
       "</table>\n",
       "<p>373 rows × 2 columns</p>\n",
       "</div>"
      ],
      "text/plain": [
       "    Acquisition End Date                                        Browse Link\n",
       "171           2000-03-04  https://earthexplorer.usgs.gov/browse-link/107...\n",
       "173           2000-03-20  https://earthexplorer.usgs.gov/browse-link/107...\n",
       "174           2000-04-05  https://earthexplorer.usgs.gov/browse-link/107...\n",
       "172           2000-04-21  https://earthexplorer.usgs.gov/browse-link/107...\n",
       "169           2000-05-23  https://earthexplorer.usgs.gov/browse-link/107...\n",
       "..                   ...                                                ...\n",
       "0             2020-02-01  https://earthexplorer.usgs.gov/browse-link/107...\n",
       "204           2020-02-17  https://earthexplorer.usgs.gov/browse-link/107...\n",
       "206           2020-03-04  https://earthexplorer.usgs.gov/browse-link/107...\n",
       "205           2020-03-20  https://earthexplorer.usgs.gov/browse-link/107...\n",
       "203           2020-04-05  https://earthexplorer.usgs.gov/browse-link/107...\n",
       "\n",
       "[373 rows x 2 columns]"
      ]
     },
     "execution_count": 7,
     "metadata": {},
     "output_type": "execute_result"
    }
   ],
   "source": [
    "df3"
   ]
  },
  {
   "cell_type": "code",
   "execution_count": 8,
   "metadata": {},
   "outputs": [],
   "source": [
    "df3['y'] = df3['Acquisition End Date'].dt.year"
   ]
  },
  {
   "cell_type": "code",
   "execution_count": 9,
   "metadata": {},
   "outputs": [
    {
     "data": {
      "text/html": [
       "<div>\n",
       "<style scoped>\n",
       "    .dataframe tbody tr th:only-of-type {\n",
       "        vertical-align: middle;\n",
       "    }\n",
       "\n",
       "    .dataframe tbody tr th {\n",
       "        vertical-align: top;\n",
       "    }\n",
       "\n",
       "    .dataframe thead th {\n",
       "        text-align: right;\n",
       "    }\n",
       "</style>\n",
       "<table border=\"1\" class=\"dataframe\">\n",
       "  <thead>\n",
       "    <tr style=\"text-align: right;\">\n",
       "      <th></th>\n",
       "      <th>Acquisition End Date</th>\n",
       "      <th>Browse Link</th>\n",
       "      <th>y</th>\n",
       "    </tr>\n",
       "  </thead>\n",
       "  <tbody>\n",
       "    <tr>\n",
       "      <th>171</th>\n",
       "      <td>2000-03-04</td>\n",
       "      <td>https://earthexplorer.usgs.gov/browse-link/107...</td>\n",
       "      <td>2000</td>\n",
       "    </tr>\n",
       "    <tr>\n",
       "      <th>173</th>\n",
       "      <td>2000-03-20</td>\n",
       "      <td>https://earthexplorer.usgs.gov/browse-link/107...</td>\n",
       "      <td>2000</td>\n",
       "    </tr>\n",
       "    <tr>\n",
       "      <th>174</th>\n",
       "      <td>2000-04-05</td>\n",
       "      <td>https://earthexplorer.usgs.gov/browse-link/107...</td>\n",
       "      <td>2000</td>\n",
       "    </tr>\n",
       "    <tr>\n",
       "      <th>172</th>\n",
       "      <td>2000-04-21</td>\n",
       "      <td>https://earthexplorer.usgs.gov/browse-link/107...</td>\n",
       "      <td>2000</td>\n",
       "    </tr>\n",
       "    <tr>\n",
       "      <th>169</th>\n",
       "      <td>2000-05-23</td>\n",
       "      <td>https://earthexplorer.usgs.gov/browse-link/107...</td>\n",
       "      <td>2000</td>\n",
       "    </tr>\n",
       "    <tr>\n",
       "      <th>...</th>\n",
       "      <td>...</td>\n",
       "      <td>...</td>\n",
       "      <td>...</td>\n",
       "    </tr>\n",
       "    <tr>\n",
       "      <th>0</th>\n",
       "      <td>2020-02-01</td>\n",
       "      <td>https://earthexplorer.usgs.gov/browse-link/107...</td>\n",
       "      <td>2020</td>\n",
       "    </tr>\n",
       "    <tr>\n",
       "      <th>204</th>\n",
       "      <td>2020-02-17</td>\n",
       "      <td>https://earthexplorer.usgs.gov/browse-link/107...</td>\n",
       "      <td>2020</td>\n",
       "    </tr>\n",
       "    <tr>\n",
       "      <th>206</th>\n",
       "      <td>2020-03-04</td>\n",
       "      <td>https://earthexplorer.usgs.gov/browse-link/107...</td>\n",
       "      <td>2020</td>\n",
       "    </tr>\n",
       "    <tr>\n",
       "      <th>205</th>\n",
       "      <td>2020-03-20</td>\n",
       "      <td>https://earthexplorer.usgs.gov/browse-link/107...</td>\n",
       "      <td>2020</td>\n",
       "    </tr>\n",
       "    <tr>\n",
       "      <th>203</th>\n",
       "      <td>2020-04-05</td>\n",
       "      <td>https://earthexplorer.usgs.gov/browse-link/107...</td>\n",
       "      <td>2020</td>\n",
       "    </tr>\n",
       "  </tbody>\n",
       "</table>\n",
       "<p>373 rows × 3 columns</p>\n",
       "</div>"
      ],
      "text/plain": [
       "    Acquisition End Date                                        Browse Link  \\\n",
       "171           2000-03-04  https://earthexplorer.usgs.gov/browse-link/107...   \n",
       "173           2000-03-20  https://earthexplorer.usgs.gov/browse-link/107...   \n",
       "174           2000-04-05  https://earthexplorer.usgs.gov/browse-link/107...   \n",
       "172           2000-04-21  https://earthexplorer.usgs.gov/browse-link/107...   \n",
       "169           2000-05-23  https://earthexplorer.usgs.gov/browse-link/107...   \n",
       "..                   ...                                                ...   \n",
       "0             2020-02-01  https://earthexplorer.usgs.gov/browse-link/107...   \n",
       "204           2020-02-17  https://earthexplorer.usgs.gov/browse-link/107...   \n",
       "206           2020-03-04  https://earthexplorer.usgs.gov/browse-link/107...   \n",
       "205           2020-03-20  https://earthexplorer.usgs.gov/browse-link/107...   \n",
       "203           2020-04-05  https://earthexplorer.usgs.gov/browse-link/107...   \n",
       "\n",
       "        y  \n",
       "171  2000  \n",
       "173  2000  \n",
       "174  2000  \n",
       "172  2000  \n",
       "169  2000  \n",
       "..    ...  \n",
       "0    2020  \n",
       "204  2020  \n",
       "206  2020  \n",
       "205  2020  \n",
       "203  2020  \n",
       "\n",
       "[373 rows x 3 columns]"
      ]
     },
     "execution_count": 9,
     "metadata": {},
     "output_type": "execute_result"
    }
   ],
   "source": [
    "df3"
   ]
  },
  {
   "cell_type": "code",
   "execution_count": 10,
   "metadata": {},
   "outputs": [
    {
     "data": {
      "text/plain": [
       "Acquisition End Date    373\n",
       "Browse Link             373\n",
       "y                       373\n",
       "dtype: int64"
      ]
     },
     "execution_count": 10,
     "metadata": {},
     "output_type": "execute_result"
    }
   ],
   "source": [
    "df3.count()"
   ]
  },
  {
   "cell_type": "code",
   "execution_count": 11,
   "metadata": {},
   "outputs": [
    {
     "data": {
      "text/plain": [
       "y    373\n",
       "dtype: int64"
      ]
     },
     "execution_count": 11,
     "metadata": {},
     "output_type": "execute_result"
    }
   ],
   "source": [
    "df3[['y']].count()"
   ]
  },
  {
   "cell_type": "code",
   "execution_count": 12,
   "metadata": {},
   "outputs": [
    {
     "data": {
      "text/html": [
       "<div>\n",
       "<style scoped>\n",
       "    .dataframe tbody tr th:only-of-type {\n",
       "        vertical-align: middle;\n",
       "    }\n",
       "\n",
       "    .dataframe tbody tr th {\n",
       "        vertical-align: top;\n",
       "    }\n",
       "\n",
       "    .dataframe thead th {\n",
       "        text-align: right;\n",
       "    }\n",
       "</style>\n",
       "<table border=\"1\" class=\"dataframe\">\n",
       "  <thead>\n",
       "    <tr style=\"text-align: right;\">\n",
       "      <th></th>\n",
       "      <th>Acquisition End Date</th>\n",
       "      <th>Browse Link</th>\n",
       "    </tr>\n",
       "    <tr>\n",
       "      <th>y</th>\n",
       "      <th></th>\n",
       "      <th></th>\n",
       "    </tr>\n",
       "  </thead>\n",
       "  <tbody>\n",
       "    <tr>\n",
       "      <th>2000</th>\n",
       "      <td>17</td>\n",
       "      <td>17</td>\n",
       "    </tr>\n",
       "    <tr>\n",
       "      <th>2001</th>\n",
       "      <td>18</td>\n",
       "      <td>18</td>\n",
       "    </tr>\n",
       "    <tr>\n",
       "      <th>2002</th>\n",
       "      <td>20</td>\n",
       "      <td>20</td>\n",
       "    </tr>\n",
       "    <tr>\n",
       "      <th>2003</th>\n",
       "      <td>18</td>\n",
       "      <td>18</td>\n",
       "    </tr>\n",
       "    <tr>\n",
       "      <th>2004</th>\n",
       "      <td>18</td>\n",
       "      <td>18</td>\n",
       "    </tr>\n",
       "    <tr>\n",
       "      <th>2005</th>\n",
       "      <td>20</td>\n",
       "      <td>20</td>\n",
       "    </tr>\n",
       "    <tr>\n",
       "      <th>2006</th>\n",
       "      <td>17</td>\n",
       "      <td>17</td>\n",
       "    </tr>\n",
       "    <tr>\n",
       "      <th>2007</th>\n",
       "      <td>17</td>\n",
       "      <td>17</td>\n",
       "    </tr>\n",
       "    <tr>\n",
       "      <th>2008</th>\n",
       "      <td>19</td>\n",
       "      <td>19</td>\n",
       "    </tr>\n",
       "    <tr>\n",
       "      <th>2009</th>\n",
       "      <td>18</td>\n",
       "      <td>18</td>\n",
       "    </tr>\n",
       "    <tr>\n",
       "      <th>2010</th>\n",
       "      <td>18</td>\n",
       "      <td>18</td>\n",
       "    </tr>\n",
       "    <tr>\n",
       "      <th>2011</th>\n",
       "      <td>18</td>\n",
       "      <td>18</td>\n",
       "    </tr>\n",
       "    <tr>\n",
       "      <th>2012</th>\n",
       "      <td>18</td>\n",
       "      <td>18</td>\n",
       "    </tr>\n",
       "    <tr>\n",
       "      <th>2013</th>\n",
       "      <td>18</td>\n",
       "      <td>18</td>\n",
       "    </tr>\n",
       "    <tr>\n",
       "      <th>2014</th>\n",
       "      <td>20</td>\n",
       "      <td>20</td>\n",
       "    </tr>\n",
       "    <tr>\n",
       "      <th>2015</th>\n",
       "      <td>19</td>\n",
       "      <td>19</td>\n",
       "    </tr>\n",
       "    <tr>\n",
       "      <th>2016</th>\n",
       "      <td>18</td>\n",
       "      <td>18</td>\n",
       "    </tr>\n",
       "    <tr>\n",
       "      <th>2017</th>\n",
       "      <td>19</td>\n",
       "      <td>19</td>\n",
       "    </tr>\n",
       "    <tr>\n",
       "      <th>2018</th>\n",
       "      <td>19</td>\n",
       "      <td>19</td>\n",
       "    </tr>\n",
       "    <tr>\n",
       "      <th>2019</th>\n",
       "      <td>19</td>\n",
       "      <td>19</td>\n",
       "    </tr>\n",
       "    <tr>\n",
       "      <th>2020</th>\n",
       "      <td>5</td>\n",
       "      <td>5</td>\n",
       "    </tr>\n",
       "  </tbody>\n",
       "</table>\n",
       "</div>"
      ],
      "text/plain": [
       "      Acquisition End Date  Browse Link\n",
       "y                                      \n",
       "2000                    17           17\n",
       "2001                    18           18\n",
       "2002                    20           20\n",
       "2003                    18           18\n",
       "2004                    18           18\n",
       "2005                    20           20\n",
       "2006                    17           17\n",
       "2007                    17           17\n",
       "2008                    19           19\n",
       "2009                    18           18\n",
       "2010                    18           18\n",
       "2011                    18           18\n",
       "2012                    18           18\n",
       "2013                    18           18\n",
       "2014                    20           20\n",
       "2015                    19           19\n",
       "2016                    18           18\n",
       "2017                    19           19\n",
       "2018                    19           19\n",
       "2019                    19           19\n",
       "2020                     5            5"
      ]
     },
     "execution_count": 12,
     "metadata": {},
     "output_type": "execute_result"
    }
   ],
   "source": [
    "df3.groupby('y').count()"
   ]
  },
  {
   "cell_type": "code",
   "execution_count": 13,
   "metadata": {},
   "outputs": [
    {
     "name": "stdout",
     "output_type": "stream",
     "text": [
      "https://earthexplorer.usgs.gov/browse-link/10785/2358244746\n"
     ]
    }
   ],
   "source": [
    "bl = df3.loc[df3['Acquisition End Date'] == '2020-02-01']['Browse Link'][0]\n",
    "\n",
    "print(bl)"
   ]
  },
  {
   "cell_type": "markdown",
   "metadata": {},
   "source": [
    "https://earthexplorer.usgs.gov/browse-link/10785/2358244746"
   ]
  },
  {
   "cell_type": "code",
   "execution_count": 14,
   "metadata": {},
   "outputs": [
    {
     "data": {
      "text/plain": [
       "0    https://earthexplorer.usgs.gov/browse-link/107...\n",
       "Name: Browse Link, dtype: object"
      ]
     },
     "execution_count": 14,
     "metadata": {},
     "output_type": "execute_result"
    }
   ],
   "source": [
    "df3.loc[df3['Acquisition End Date'] == '2020-02-01']['Browse Link']"
   ]
  },
  {
   "cell_type": "code",
   "execution_count": 15,
   "metadata": {},
   "outputs": [
    {
     "name": "stdout",
     "output_type": "stream",
     "text": [
      "--2020-04-18 19:00:56--  https://earthexplorer.usgs.gov/browse-link/10785/2358244746\n",
      "Resolving earthexplorer.usgs.gov (earthexplorer.usgs.gov)... 152.61.136.118, 2001:49c8:4000:122c::118\n",
      "Connecting to earthexplorer.usgs.gov (earthexplorer.usgs.gov)|152.61.136.118|:443... connected.\n",
      "HTTP request sent, awaiting response... 200 OK\n",
      "Length: 13541 (13K) [image/jpg]\n",
      "Saving to: ‘mybrowse.jpg’\n",
      "\n",
      "mybrowse.jpg        100%[===================>]  13.22K  --.-KB/s    in 0.06s   \n",
      "\n",
      "2020-04-18 19:00:56 (215 KB/s) - ‘mybrowse.jpg’ saved [13541/13541]\n",
      "\n"
     ]
    }
   ],
   "source": [
    "! wget https://earthexplorer.usgs.gov/browse-link/10785/2358244746 -O mybrowse.jpg"
   ]
  },
  {
   "cell_type": "code",
   "execution_count": 16,
   "metadata": {},
   "outputs": [
    {
     "name": "stdout",
     "output_type": "stream",
     "text": [
      "total 324\r\n",
      "-rw-r--r-- 1 jupyter-butzer jupyter-butzer   3890 Apr 18 15:53 00-00-Project-Notes-Planning.ipynb\r\n",
      "-rw-r--r-- 1 jupyter-butzer jupyter-butzer    992 Apr 18 18:18 10-00-MODIS-NDVI-in-GA-Buckets-revisited.ipynb\r\n",
      "-rw-r--r-- 1 jupyter-butzer jupyter-butzer  33551 Apr 18 18:59 20-00-Earth-Explorer-List-of-Tiles-h11v04-sinu-sensational.ipynb\r\n",
      "-rw-r--r-- 1 jupyter-butzer jupyter-butzer 269231 Apr 18 18:18 CopyofMODIS_MOD13Q1_V6_416185.csv\r\n",
      "-rw-r--r-- 1 jupyter-butzer jupyter-butzer  13541 Apr 18 19:00 mybrowse.jpg\r\n"
     ]
    }
   ],
   "source": [
    "! ls -l "
   ]
  },
  {
   "cell_type": "markdown",
   "metadata": {},
   "source": [
    "![](2358244746)"
   ]
  },
  {
   "cell_type": "markdown",
   "metadata": {},
   "source": [
    "![](mybrowse.jpg)"
   ]
  },
  {
   "cell_type": "code",
   "execution_count": 17,
   "metadata": {},
   "outputs": [
    {
     "name": "stdout",
     "output_type": "stream",
     "text": [
      "00-00-Project-Notes-Planning.ipynb\r\n",
      "10-00-MODIS-NDVI-in-GA-Buckets-revisited.ipynb\r\n",
      "20-00-Earth-Explorer-List-of-Tiles-h11v04-sinu-sensational.ipynb\r\n",
      "CopyofMODIS_MOD13Q1_V6_416185.csv\r\n",
      "mybrowse.jpg\r\n"
     ]
    }
   ],
   "source": [
    "!ls"
   ]
  },
  {
   "cell_type": "code",
   "execution_count": null,
   "metadata": {},
   "outputs": [],
   "source": []
  }
 ],
 "metadata": {
  "kernelspec": {
   "display_name": "Python 3",
   "language": "python",
   "name": "python3"
  },
  "language_info": {
   "codemirror_mode": {
    "name": "ipython",
    "version": 3
   },
   "file_extension": ".py",
   "mimetype": "text/x-python",
   "name": "python",
   "nbconvert_exporter": "python",
   "pygments_lexer": "ipython3",
   "version": "3.6.9"
  }
 },
 "nbformat": 4,
 "nbformat_minor": 4
}
