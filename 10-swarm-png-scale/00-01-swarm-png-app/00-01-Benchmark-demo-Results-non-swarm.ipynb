{
 "cells": [
  {
   "cell_type": "markdown",
   "metadata": {},
   "source": [
    "# Benchmark Results non-swarm 10 qdispatcher=10\n",
    "\n",
    "## Simple Benchmark Results\n",
    "\n",
    "### Tools\n",
    "\n",
    "1. top  (20 cpu per png-maker app)\n",
    "2. watch -n 3 free -h   ### not memeory bound\n",
    "\n",
    "### Instances: t3a-large; soon - t3a-2xlarge\n",
    "\n",
    "1. t3a.large - 2 cpu - 8 Gig Memory\n"
   ]
  },
  {
   "cell_type": "markdown",
   "metadata": {},
   "source": [
    "# Test 1 10 concurrent workers\n",
    "\n",
    "1. docker-compose up --scale qdispatcher=10 -d\n",
    "\n",
    "## Elapsed Time - 38 minutes"
   ]
  },
  {
   "cell_type": "code",
   "execution_count": 4,
   "metadata": {},
   "outputs": [
    {
     "name": "stdout",
     "output_type": "stream",
     "text": [
      "9.631578947368421 Minutes\n"
     ]
    }
   ],
   "source": [
    "run_time_minutes=38\n",
    "num_pngs = 366\n",
    "png_time = num_pngs/run_time_minutes\n",
    "\n",
    "print(png_time, 'Minutes')"
   ]
  },
  {
   "cell_type": "code",
   "execution_count": 3,
   "metadata": {},
   "outputs": [
    {
     "data": {
      "text/plain": [
       "0.0008567106710671067"
      ]
     },
     "execution_count": 3,
     "metadata": {},
     "output_type": "execute_result"
    }
   ],
   "source": [
    "instance_type='t3a.large'\n",
    "monthly_instance_cost=37.38  # per month\n",
    "\n",
    "days_per_month=30.3\n",
    "hours_per_day=24\n",
    "minutes_per_hour=60\n",
    "\n",
    "instance_cost_per_minute = monthly_instance_cost / days_per_month/ hours_per_day/ minutes_per_hour\n",
    "\n",
    "instance_cost_per_minute"
   ]
  },
  {
   "cell_type": "code",
   "execution_count": 6,
   "metadata": {},
   "outputs": [
    {
     "data": {
      "text/plain": [
       "0.03255500550055006"
      ]
     },
     "execution_count": 6,
     "metadata": {},
     "output_type": "execute_result"
    }
   ],
   "source": [
    "cost_for_png_run = run_time_minutes * instance_cost_per_minute\n",
    "\n",
    "cost_for_png_run"
   ]
  },
  {
   "cell_type": "code",
   "execution_count": 9,
   "metadata": {},
   "outputs": [],
   "source": [
    "def cost_run(monthly_instance_cost, run_time_minutes):\n",
    "    \n",
    "    days_per_month=30.3\n",
    "    hours_per_day=24\n",
    "    minutes_per_hour=60\n",
    "\n",
    "    instance_cost_per_minute = monthly_instance_cost / days_per_month/ hours_per_day/ minutes_per_hour\n",
    "\n",
    "    print(instance_cost_per_minute)\n",
    "    cost_for_png_run = run_time_minutes * instance_cost_per_minute\n",
    "\n",
    "    print(cost_for_png_run)"
   ]
  },
  {
   "cell_type": "code",
   "execution_count": 10,
   "metadata": {},
   "outputs": [
    {
     "name": "stdout",
     "output_type": "stream",
     "text": [
      "0.0008567106710671067\n",
      "0.03255500550055006\n"
     ]
    }
   ],
   "source": [
    "monthly_instance_cost=37.38\n",
    "run_time_minutes=38\n",
    "# for t3a.large\n",
    "cost_run(monthly_instance_cost, run_time_minutes)"
   ]
  },
  {
   "cell_type": "code",
   "execution_count": 11,
   "metadata": {},
   "outputs": [
    {
     "name": "stdout",
     "output_type": "stream",
     "text": [
      "0.0032242390905757243\n",
      "0.03224239090575724\n"
     ]
    }
   ],
   "source": [
    "monthly_instance_cost=140.68\n",
    "run_time_minutes=10\n",
    "# for t3a.2xlarge\n",
    "cost_run(monthly_instance_cost, run_time_minutes)"
   ]
  },
  {
   "cell_type": "markdown",
   "metadata": {},
   "source": [
    "# run with --scale qdispatcher=5"
   ]
  },
  {
   "cell_type": "code",
   "execution_count": 12,
   "metadata": {},
   "outputs": [
    {
     "name": "stdout",
     "output_type": "stream",
     "text": [
      "0.0008567106710671067\n",
      "0.03298336083608361\n"
     ]
    }
   ],
   "source": [
    "monthly_instance_cost=37.38\n",
    "run_time_minutes=38.5\n",
    "# for t3a.large\n",
    "cost_run(monthly_instance_cost, run_time_minutes)"
   ]
  },
  {
   "cell_type": "code",
   "execution_count": null,
   "metadata": {},
   "outputs": [],
   "source": [
    "# t3a.2xlarge\n",
    "\n",
    "## Step1 start up new honker wi"
   ]
  }
 ],
 "metadata": {
  "kernelspec": {
   "display_name": "Python 3",
   "language": "python",
   "name": "python3"
  },
  "language_info": {
   "codemirror_mode": {
    "name": "ipython",
    "version": 3
   },
   "file_extension": ".py",
   "mimetype": "text/x-python",
   "name": "python",
   "nbconvert_exporter": "python",
   "pygments_lexer": "ipython3",
   "version": "3.6.9"
  }
 },
 "nbformat": 4,
 "nbformat_minor": 4
}
