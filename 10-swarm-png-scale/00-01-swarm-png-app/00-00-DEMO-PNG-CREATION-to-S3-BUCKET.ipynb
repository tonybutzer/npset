{
 "cells": [
  {
   "cell_type": "code",
   "execution_count": 1,
   "metadata": {},
   "outputs": [
    {
     "name": "stdout",
     "output_type": "stream",
     "text": [
      "2020-04-12 13:46:35      62233 tmax001.png\r\n",
      "2020-04-12 13:46:35      61915 tmax002.png\r\n",
      "2020-04-12 13:46:35      56764 tmax003.png\r\n"
     ]
    }
   ],
   "source": [
    "! ~/.local/bin/aws s3 ls dev-rhassan/tony/"
   ]
  },
  {
   "cell_type": "code",
   "execution_count": 2,
   "metadata": {},
   "outputs": [
    {
     "name": "stdout",
     "output_type": "stream",
     "text": [
      "      3      12     129\r\n"
     ]
    }
   ],
   "source": [
    "! ~/.local/bin/aws s3 ls dev-rhassan/tony/ | wc"
   ]
  },
  {
   "cell_type": "code",
   "execution_count": 3,
   "metadata": {},
   "outputs": [
    {
     "name": "stdout",
     "output_type": "stream",
     "text": [
      "delete: s3://dev-rhassan/tony/tmax002.png\r\n",
      "delete: s3://dev-rhassan/tony/tmax003.png\r\n",
      "delete: s3://dev-rhassan/tony/tmax001.png\r\n"
     ]
    }
   ],
   "source": [
    "! ~/.local/bin/aws s3 rm s3://dev-rhassan/tony/ --recursive"
   ]
  },
  {
   "cell_type": "code",
   "execution_count": 4,
   "metadata": {},
   "outputs": [],
   "source": [
    "! ~/.local/bin/aws s3 ls dev-rhassan/tony/"
   ]
  },
  {
   "cell_type": "code",
   "execution_count": 5,
   "metadata": {},
   "outputs": [
    {
     "name": "stdout",
     "output_type": "stream",
     "text": [
      "                           PRE TRR_test_cases/\r\n",
      "                           PRE africa-scene-li/\r\n",
      "                           PRE africa-scene-lists/\r\n",
      "                           PRE newsslcert/\r\n",
      "2020-04-10 15:00:03        315 get-cw-log-stream\r\n",
      "2020-04-10 13:15:07     276255 lpgs_integration_testing_test_case_512_TC-512-10000-list.txt\r\n",
      "2020-04-01 19:06:46      89930 tc_512_cloud_end_to_end.pdf\r\n"
     ]
    }
   ],
   "source": [
    "! ~/.local/bin/aws s3 ls dev-rhassan/"
   ]
  },
  {
   "cell_type": "code",
   "execution_count": 6,
   "metadata": {},
   "outputs": [
    {
     "name": "stdout",
     "output_type": "stream",
     "text": [
      "List count = 366\n"
     ]
    }
   ],
   "source": [
    "from playLib.bo_bucket import bo_get_bucket_list\n",
    "bucket_name = 'ga-et-data'\n",
    "prefix='Cloud_Veg_ET/Data/TMAX/'\n",
    "lista=bo_get_bucket_list(bucket_name, prefix)"
   ]
  },
  {
   "cell_type": "code",
   "execution_count": 7,
   "metadata": {},
   "outputs": [
    {
     "data": {
      "text/plain": [
       "['Cloud_Veg_ET/Data/TMAX/tmax_001_gw.tif.npy',\n",
       " 'Cloud_Veg_ET/Data/TMAX/tmax_002_gw.tif.npy',\n",
       " 'Cloud_Veg_ET/Data/TMAX/tmax_003_gw.tif.npy',\n",
       " 'Cloud_Veg_ET/Data/TMAX/tmax_004_gw.tif.npy',\n",
       " 'Cloud_Veg_ET/Data/TMAX/tmax_005_gw.tif.npy',\n",
       " 'Cloud_Veg_ET/Data/TMAX/tmax_006_gw.tif.npy',\n",
       " 'Cloud_Veg_ET/Data/TMAX/tmax_007_gw.tif.npy',\n",
       " 'Cloud_Veg_ET/Data/TMAX/tmax_008_gw.tif.npy']"
      ]
     },
     "execution_count": 7,
     "metadata": {},
     "output_type": "execute_result"
    }
   ],
   "source": [
    "lista[0:8]"
   ]
  },
  {
   "cell_type": "code",
   "execution_count": 8,
   "metadata": {},
   "outputs": [
    {
     "name": "stdout",
     "output_type": "stream",
     "text": [
      "ga-et-data,Cloud_Veg_ET/Data/TMAX/,tmax_001_gw.tif.npy\n"
     ]
    }
   ],
   "source": [
    "\n",
    "# This is serial and VERY SLOW!\n",
    "import os\n",
    "\n",
    "bucket='ga-et-data'\n",
    "for i in range(1):\n",
    "    \n",
    "    file_obj=lista[i]\n",
    "    prefix = '/'.join(file_obj.split('/')[0:-1]) + '/'\n",
    "    #print(prefix)\n",
    "    filen = file_obj.split('/')[-1]\n",
    "    #print(filen)\n",
    "    argv = ','.join([bucket,prefix,filen])\n",
    "    print(argv)\n",
    "    cmd = 'python3 ./png-maker/png-maker.py ' + argv\n",
    "    os.system(cmd) "
   ]
  },
  {
   "cell_type": "code",
   "execution_count": 9,
   "metadata": {},
   "outputs": [
    {
     "name": "stdout",
     "output_type": "stream",
     "text": [
      "      1       4      43\r\n"
     ]
    }
   ],
   "source": [
    "! ~/.local/bin/aws s3 ls dev-rhassan/tony/ | wc"
   ]
  },
  {
   "cell_type": "code",
   "execution_count": 10,
   "metadata": {},
   "outputs": [
    {
     "name": "stdout",
     "output_type": "stream",
     "text": [
      "2020-04-12 13:54:43      62233 tmax001.png\r\n"
     ]
    }
   ],
   "source": [
    "! ~/.local/bin/aws s3 ls dev-rhassan/tony/"
   ]
  },
  {
   "cell_type": "markdown",
   "metadata": {},
   "source": [
    "# Part 2 Queues with RabitMQ"
   ]
  },
  {
   "cell_type": "code",
   "execution_count": 11,
   "metadata": {},
   "outputs": [
    {
     "name": "stdout",
     "output_type": "stream",
     "text": [
      "   Active: inactive (dead) since Sat 2020-04-11 01:19:25 UTC; 1 day 12h ago\r\n"
     ]
    }
   ],
   "source": [
    " ! sudo systemctl status rabbitmq-server.service | grep Active"
   ]
  },
  {
   "cell_type": "code",
   "execution_count": 12,
   "metadata": {},
   "outputs": [],
   "source": [
    "# hello"
   ]
  },
  {
   "cell_type": "code",
   "execution_count": 13,
   "metadata": {},
   "outputs": [
    {
     "name": "stdout",
     "output_type": "stream",
     "text": [
      "   Active: inactive (dead) since Sat 2020-04-11 01:19:25 UTC; 1 day 12h ago\n"
     ]
    }
   ],
   "source": [
    "%%bash\n",
    "#systemctl --type=service\n",
    "systemctl status rabbitmq-server.service |grep Active\n"
   ]
  },
  {
   "cell_type": "code",
   "execution_count": 14,
   "metadata": {},
   "outputs": [
    {
     "name": "stdout",
     "output_type": "stream",
     "text": [
      "\u001b[33mWARNING\u001b[0m: Some services (tony) use the 'deploy' key, which will be ignored. Compose does not support 'deploy' configuration - use `docker stack deploy` to deploy to a swarm.\n",
      "Creating network \"png_default\" with the default driver\n",
      "Creating png_qdispatch_1 ... \n",
      "Creating png_qdispatch_2 ... \n",
      "Creating png_qdispatch_3 ... \n",
      "Creating rabbitmq ... \n",
      "Creating png_tony_1 ... \n",
      "Creating png_qdispatch_1\n",
      "Creating png_qdispatch_3\n",
      "Creating png_qdispatch_2\n",
      "Creating rabbitmq\n",
      "Creating png_tony_1\n",
      "\u001b[1Bting rabbitmq ... \u001b[32mdone\u001b[0mone\u001b[0m\u001b[1A\u001b[2K\u001b[2A\u001b[2K\u001b[1A\u001b[2K\u001b[1A\u001b[2K"
     ]
    }
   ],
   "source": [
    "! (cd png; docker-compose up --scale qdispatch=3 -d)"
   ]
  },
  {
   "cell_type": "code",
   "execution_count": 15,
   "metadata": {},
   "outputs": [
    {
     "name": "stdout",
     "output_type": "stream",
     "text": [
      "sleeping...\r\n"
     ]
    }
   ],
   "source": [
    "! echo sleeping..."
   ]
  },
  {
   "cell_type": "code",
   "execution_count": 16,
   "metadata": {},
   "outputs": [
    {
     "name": "stdout",
     "output_type": "stream",
     "text": [
      "waiting...\n",
      "waiting...\n",
      "waiting...\n",
      "waiting...\n",
      "waiting...\n",
      "waiting...\n",
      "waiting...\n",
      "waiting...\n",
      "waiting...\n",
      "waiting...\n"
     ]
    }
   ],
   "source": [
    "\n",
    "%%bash\n",
    "for i in {1..10}; do\n",
    "    echo waiting... ;\n",
    "    sleep 1 ;\n",
    "done"
   ]
  },
  {
   "cell_type": "code",
   "execution_count": 17,
   "metadata": {},
   "outputs": [
    {
     "ename": "SyntaxError",
     "evalue": "invalid syntax (qbird.py, line 42)",
     "output_type": "error",
     "traceback": [
      "Traceback \u001b[0;36m(most recent call last)\u001b[0m:\n",
      "  File \u001b[1;32m\"/home/ubuntu/.local/lib/python3.6/site-packages/IPython/core/interactiveshell.py\"\u001b[0m, line \u001b[1;32m3331\u001b[0m, in \u001b[1;35mrun_code\u001b[0m\n    exec(code_obj, self.user_global_ns, self.user_ns)\n",
      "\u001b[0;36m  File \u001b[0;32m\"<ipython-input-17-7180e4739aed>\"\u001b[0;36m, line \u001b[0;32m3\u001b[0;36m, in \u001b[0;35m<module>\u001b[0;36m\u001b[0m\n\u001b[0;31m    from playLib.qbird import Qbird\u001b[0m\n",
      "\u001b[0;36m  File \u001b[0;32m\"/opt/npset/mylib/playLib/playLib/qbird.py\"\u001b[0;36m, line \u001b[0;32m42\u001b[0m\n\u001b[0;31m    on_message_callback=callback_routine)\u001b[0m\n\u001b[0m                      ^\u001b[0m\n\u001b[0;31mSyntaxError\u001b[0m\u001b[0;31m:\u001b[0m invalid syntax\n"
     ]
    }
   ],
   "source": [
    "import os\n",
    "\n",
    "from playLib.qbird import Qbird\n",
    "from playLib.bo_bucket import bo_get_bucket_list\n",
    "\n",
    "\n",
    "bucket_name = 'ga-et-data'\n",
    "prefix='Cloud_Veg_ET/Data/TMAX/'\n",
    "lista=bo_get_bucket_list(bucket_name, prefix)\n",
    "\n",
    "q = Qbird('localhost','tonyq')\n",
    "q.q_declare()\n",
    "\n",
    "bucket='ga-et-data'\n",
    "for file_obj in lista:\n",
    "    \n",
    "    prefix = '/'.join(file_obj.split('/')[0:-1]) + '/'\n",
    "    #print(prefix)\n",
    "    filen = file_obj.split('/')[-1]\n",
    "    #print(filen)\n",
    "    argv = ','.join([bucket,prefix,filen])\n",
    "    #print(argv)\n",
    "    cmd = 'png-maker.py ' + argv\n",
    "    print(cmd) \n",
    "    msg=cmd\n",
    "    q.q_publish(msg)"
   ]
  },
  {
   "cell_type": "code",
   "execution_count": null,
   "metadata": {},
   "outputs": [],
   "source": [
    "! docker ps"
   ]
  },
  {
   "cell_type": "code",
   "execution_count": null,
   "metadata": {},
   "outputs": [],
   "source": [
    "! (cd png; docker-compose ps)"
   ]
  },
  {
   "cell_type": "code",
   "execution_count": null,
   "metadata": {},
   "outputs": [],
   "source": [
    "! (cd png; docker-compose logs |grep qdispatch | tail -20)"
   ]
  },
  {
   "cell_type": "code",
   "execution_count": null,
   "metadata": {},
   "outputs": [],
   "source": [
    "! date"
   ]
  },
  {
   "cell_type": "code",
   "execution_count": null,
   "metadata": {},
   "outputs": [],
   "source": [
    "! sudo docker exec rabbitmq rabbitmqctl status"
   ]
  },
  {
   "cell_type": "code",
   "execution_count": null,
   "metadata": {},
   "outputs": [],
   "source": [
    "! sudo docker exec rabbitmq rabbitmqctl list_queues"
   ]
  },
  {
   "cell_type": "markdown",
   "metadata": {},
   "source": [
    "# Q them again"
   ]
  },
  {
   "cell_type": "markdown",
   "metadata": {},
   "source": [
    "# Drain these messages using the admin gui port \n",
    "\n",
    "http://localhost:15672/\n",
    "        \n",
    "## ssh tunnel via 03<tab> 15672 mhonk"
   ]
  },
  {
   "cell_type": "code",
   "execution_count": null,
   "metadata": {},
   "outputs": [],
   "source": [
    "! sudo docker exec rabbitmq rabbitmqctl list_queues"
   ]
  },
  {
   "cell_type": "code",
   "execution_count": null,
   "metadata": {},
   "outputs": [],
   "source": [
    "! sudo netstat -anlp |grep docker-proxy |grep LISTEN"
   ]
  },
  {
   "cell_type": "markdown",
   "metadata": {},
   "source": [
    "## Shut down the services with docker-compose"
   ]
  },
  {
   "cell_type": "code",
   "execution_count": null,
   "metadata": {},
   "outputs": [],
   "source": [
    "! date"
   ]
  },
  {
   "cell_type": "code",
   "execution_count": null,
   "metadata": {},
   "outputs": [],
   "source": [
    "# SHUT Er DOWN NOW!!!!!!!\n",
    "#! (cd png; docker-compose down)"
   ]
  }
 ],
 "metadata": {
  "kernelspec": {
   "display_name": "Python 3",
   "language": "python",
   "name": "python3"
  },
  "language_info": {
   "codemirror_mode": {
    "name": "ipython",
    "version": 3
   },
   "file_extension": ".py",
   "mimetype": "text/x-python",
   "name": "python",
   "nbconvert_exporter": "python",
   "pygments_lexer": "ipython3",
   "version": "3.6.9"
  }
 },
 "nbformat": 4,
 "nbformat_minor": 4
}
