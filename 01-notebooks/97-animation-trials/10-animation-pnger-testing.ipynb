{
 "cells": [
  {
   "cell_type": "code",
   "execution_count": 1,
   "metadata": {},
   "outputs": [],
   "source": [
    "from playLib.log_logger import log_make_logger\n"
   ]
  },
  {
   "cell_type": "code",
   "execution_count": 3,
   "metadata": {},
   "outputs": [
    {
     "name": "stderr",
     "output_type": "stream",
     "text": [
      "2020-04-04 15:21:09,671 - PNG Builder - INFO - Logging Begins\n"
     ]
    }
   ],
   "source": [
    "log=log_make_logger('PNG Builder')"
   ]
  },
  {
   "cell_type": "code",
   "execution_count": 5,
   "metadata": {},
   "outputs": [],
   "source": [
    "from playLib.pl_objects import Play"
   ]
  },
  {
   "cell_type": "code",
   "execution_count": 6,
   "metadata": {},
   "outputs": [],
   "source": [
    "pl = Play()"
   ]
  },
  {
   "cell_type": "code",
   "execution_count": 7,
   "metadata": {},
   "outputs": [
    {
     "name": "stdout",
     "output_type": "stream",
     "text": [
      "Help on method pl_create_png in module playLib.pl_objects:\n",
      "\n",
      "pl_create_png(fname, array_name, cmap='prism', xlabel='xlabel', ylabel='ylabel', title='TITLE', subtitle='SubTitle', figsize=(6, 6)) method of playLib.pl_objects.Play instance\n",
      "    creates a png file\n",
      "    \n",
      "    Parameters:\n",
      "        fname:   the name of the output.png file\n",
      "        array\n",
      "        cmap\n",
      "        xlabel\n",
      "        ylabel\n",
      "        title\n",
      "        subtitle\n",
      "        figsize\n",
      "\n"
     ]
    }
   ],
   "source": [
    "help (pl.pl_create_png)"
   ]
  },
  {
   "cell_type": "code",
   "execution_count": 9,
   "metadata": {},
   "outputs": [
    {
     "name": "stdout",
     "output_type": "stream",
     "text": [
      "env: CURL_CA_BUNDLE=/etc/ssl/certs/ca-certificates.crt\n"
     ]
    }
   ],
   "source": [
    "%env CURL_CA_BUNDLE=/etc/ssl/certs/ca-certificates.crt\n"
   ]
  },
  {
   "cell_type": "code",
   "execution_count": 10,
   "metadata": {},
   "outputs": [],
   "source": [
    "!rio clip /vsis3/ga-et-data/MODIS_NDVI/2016/2016200.1_km_16_days_NDVI.tif \\\n",
    "   delaware.tif --overwrite --bounds '-77.23388671874999, 37.38761749978395, -73.85009765625, 43.11702412135048' \n"
   ]
  },
  {
   "cell_type": "code",
   "execution_count": 11,
   "metadata": {},
   "outputs": [],
   "source": [
    "import rasterio\n",
    "\n",
    "tif_file = 'delaware.tif'\n",
    "\n",
    "with rasterio.open(tif_file) as src:\n",
    "    myThumb = src.read(1)"
   ]
  },
  {
   "cell_type": "code",
   "execution_count": 12,
   "metadata": {},
   "outputs": [],
   "source": [
    "import numpy as np\n",
    "a = myThumb\n",
    "a[(a < 0) | (a > 1)] = np.nan"
   ]
  },
  {
   "cell_type": "code",
   "execution_count": 18,
   "metadata": {},
   "outputs": [],
   "source": [
    "delaware_array = (a * 100).astype(np.uint8)\n",
    "delaware_array = np.flip(delaware_array, axis=0)"
   ]
  },
  {
   "cell_type": "code",
   "execution_count": 23,
   "metadata": {},
   "outputs": [
    {
     "data": {
      "image/png": "[encoded data removed]",
      "text/plain": [
       "<Figure size 432x432 with 2 Axes>"
      ]
     },
     "metadata": {
      "needs_background": "light"
     },
     "output_type": "display_data"
    }
   ],
   "source": [
    "pl.pl_create_png('./a.png',delaware_array, cmap='viridis')"
   ]
  },
  {
   "cell_type": "code",
   "execution_count": 24,
   "metadata": {},
   "outputs": [
    {
     "name": "stdout",
     "output_type": "stream",
     "text": [
      "a.png\r\n"
     ]
    }
   ],
   "source": [
    "!ls a.png"
   ]
  },
  {
   "cell_type": "code",
   "execution_count": 25,
   "metadata": {},
   "outputs": [],
   "source": [
    "#! rm a.png"
   ]
  },
  {
   "cell_type": "markdown",
   "metadata": {},
   "source": [
    "\n",
    "![](./a.png)"
   ]
  },
  {
   "cell_type": "markdown",
   "metadata": {},
   "source": [
    "![](a.png)"
   ]
  },
  {
   "cell_type": "code",
   "execution_count": null,
   "metadata": {},
   "outputs": [],
   "source": [
    "log.info('Coo')"
   ]
  }
 ],
 "metadata": {
  "kernelspec": {
   "display_name": "Python 3",
   "language": "python",
   "name": "python3"
  },
  "language_info": {
   "codemirror_mode": {
    "name": "ipython",
    "version": 3
   },
   "file_extension": ".py",
   "mimetype": "text/x-python",
   "name": "python",
   "nbconvert_exporter": "python",
   "pygments_lexer": "ipython3",
   "version": "3.7.3"
  }
 },
 "nbformat": 4,
 "nbformat_minor": 4
}
