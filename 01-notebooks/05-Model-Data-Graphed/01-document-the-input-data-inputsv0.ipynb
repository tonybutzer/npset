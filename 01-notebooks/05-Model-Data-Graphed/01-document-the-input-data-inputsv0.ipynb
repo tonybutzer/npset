{
 "cells": [
  {
   "cell_type": "markdown",
   "metadata": {},
   "source": [
    "# ET Model Data Graphed\n",
    "\n",
    "\n",
    "### This is all about AWS Cloud S3 Buckets\n",
    "\n",
    "#### Our Bucket is called - \n",
    "\n",
    "# ga-et-data\n",
    "\n",
    "### Sponsored by the friendly Aussies\n",
    "\n",
    "Lots of creative ways to access this data in the bucket\n",
    "\n",
    "A few are depicted below\n",
    "\n",
    "This notebook talks about the \n",
    "\n",
    "## inputsv0 and MODIS_NDVI\n",
    "\n",
    "This used to live in a `socially distanced LPDAAC`!\n",
    "### Socially Distanced Data is SAD :-(\n",
    "\n",
    "### Free\n",
    "\n",
    "But Now its free to move around the country and talk to all scientists.\n",
    "\n",
    "---\n",
    "\n",
    "---\n",
    "\n",
    "---"
   ]
  },
  {
   "cell_type": "markdown",
   "metadata": {},
   "source": [
    "## Because there is an s3fs mount I can use *ls*"
   ]
  },
  {
   "cell_type": "code",
   "execution_count": 1,
   "metadata": {},
   "outputs": [
    {
     "name": "stdout",
     "output_type": "stream",
     "text": [
      "Cloud_Veg_ET  MODIS_NDVI  a.tif  inputsv0  lunch  readme-bucket.md  steffi\r\n"
     ]
    }
   ],
   "source": [
    "!ls /mnt/ga-et-data/"
   ]
  },
  {
   "cell_type": "markdown",
   "metadata": {},
   "source": [
    "# MODIS_NDVI\n",
    "\n",
    "1. NDVI is very useful for ET and Phenology Science"
   ]
  },
  {
   "cell_type": "code",
   "execution_count": 2,
   "metadata": {},
   "outputs": [
    {
     "name": "stdout",
     "output_type": "stream",
     "text": [
      "419G\t/mnt/ga-et-data/Cloud_Veg_ET\n",
      "188G\t/mnt/ga-et-data/MODIS_NDVI\n",
      "23G\t/mnt/ga-et-data/inputsv0\n",
      "455M\t/mnt/ga-et-data/lunch\n",
      "52K\t/mnt/ga-et-data/steffi\n",
      "630G\t/mnt/ga-et-data/\n"
     ]
    }
   ],
   "source": [
    "! du -hd 1 /mnt/ga-et-data/"
   ]
  },
  {
   "cell_type": "code",
   "execution_count": 3,
   "metadata": {},
   "outputs": [],
   "source": [
    "\n",
    "import os\n",
    "import sys\n",
    "sys.path.insert(0, os.path.abspath('./local'))\n",
    "\n",
    "from fakelib import subprocess_cmd\n",
    "from fakelib import proc_du\n",
    "\n",
    "    "
   ]
  },
  {
   "cell_type": "code",
   "execution_count": 4,
   "metadata": {},
   "outputs": [
    {
     "name": "stdout",
     "output_type": "stream",
     "text": [
      "419G\t/mnt/ga-et-data/Cloud_Veg_ET\n",
      "188G\t/mnt/ga-et-data/MODIS_NDVI\n",
      "23G\t/mnt/ga-et-data/inputsv0\n",
      "455M\t/mnt/ga-et-data/lunch\n",
      "52K\t/mnt/ga-et-data/steffi\n",
      "630G\t/mnt/ga-et-data/\n"
     ]
    }
   ],
   "source": [
    "cmd = 'du -hd 1 /mnt/ga-et-data/'\n",
    "du_cmd_output = subprocess_cmd(cmd)\n"
   ]
  },
  {
   "cell_type": "code",
   "execution_count": null,
   "metadata": {},
   "outputs": [],
   "source": []
  },
  {
   "cell_type": "code",
   "execution_count": 5,
   "metadata": {},
   "outputs": [
    {
     "name": "stdout",
     "output_type": "stream",
     "text": [
      "NEW  0.455G\n"
     ]
    }
   ],
   "source": [
    "du_dict = proc_du(du_cmd_output)"
   ]
  },
  {
   "cell_type": "code",
   "execution_count": 6,
   "metadata": {},
   "outputs": [
    {
     "data": {
      "text/plain": [
       "{'Cloud_Veg_ET': 419.0,\n",
       " 'MODIS_NDVI': 188.0,\n",
       " 'inputsv0': 23.0,\n",
       " 'lunch': 0.455,\n",
       " 'TOTAL': 630.0}"
      ]
     },
     "execution_count": 6,
     "metadata": {},
     "output_type": "execute_result"
    }
   ],
   "source": [
    "du_dict"
   ]
  },
  {
   "cell_type": "code",
   "execution_count": 7,
   "metadata": {},
   "outputs": [],
   "source": [
    "import pandas as pd\n",
    "\n",
    "\n",
    "df = pd.DataFrame(du_dict, index=['gigs'])"
   ]
  },
  {
   "cell_type": "code",
   "execution_count": 8,
   "metadata": {},
   "outputs": [
    {
     "data": {
      "text/html": [
       "<div>\n",
       "<style scoped>\n",
       "    .dataframe tbody tr th:only-of-type {\n",
       "        vertical-align: middle;\n",
       "    }\n",
       "\n",
       "    .dataframe tbody tr th {\n",
       "        vertical-align: top;\n",
       "    }\n",
       "\n",
       "    .dataframe thead th {\n",
       "        text-align: right;\n",
       "    }\n",
       "</style>\n",
       "<table border=\"1\" class=\"dataframe\">\n",
       "  <thead>\n",
       "    <tr style=\"text-align: right;\">\n",
       "      <th></th>\n",
       "      <th>Cloud_Veg_ET</th>\n",
       "      <th>MODIS_NDVI</th>\n",
       "      <th>inputsv0</th>\n",
       "      <th>lunch</th>\n",
       "      <th>TOTAL</th>\n",
       "    </tr>\n",
       "  </thead>\n",
       "  <tbody>\n",
       "    <tr>\n",
       "      <th>gigs</th>\n",
       "      <td>419.0</td>\n",
       "      <td>188.0</td>\n",
       "      <td>23.0</td>\n",
       "      <td>0.455</td>\n",
       "      <td>630.0</td>\n",
       "    </tr>\n",
       "  </tbody>\n",
       "</table>\n",
       "</div>"
      ],
      "text/plain": [
       "      Cloud_Veg_ET  MODIS_NDVI  inputsv0  lunch  TOTAL\n",
       "gigs         419.0       188.0      23.0  0.455  630.0"
      ]
     },
     "execution_count": 8,
     "metadata": {},
     "output_type": "execute_result"
    }
   ],
   "source": [
    "df"
   ]
  },
  {
   "cell_type": "code",
   "execution_count": 9,
   "metadata": {},
   "outputs": [
    {
     "data": {
      "text/plain": [
       "<matplotlib.axes._subplots.AxesSubplot at 0x7f83163c90f0>"
      ]
     },
     "execution_count": 9,
     "metadata": {},
     "output_type": "execute_result"
    },
    {
     "data": {
      "image/png": "[encoded data removed]",
      "text/plain": [
       "<Figure size 432x288 with 1 Axes>"
      ]
     },
     "metadata": {
      "needs_background": "light"
     },
     "output_type": "display_data"
    }
   ],
   "source": [
    "df.plot.bar()"
   ]
  },
  {
   "cell_type": "code",
   "execution_count": 10,
   "metadata": {},
   "outputs": [],
   "source": [
    "df2 = df.T  # transpose"
   ]
  },
  {
   "cell_type": "code",
   "execution_count": 11,
   "metadata": {},
   "outputs": [
    {
     "data": {
      "text/html": [
       "<div>\n",
       "<style scoped>\n",
       "    .dataframe tbody tr th:only-of-type {\n",
       "        vertical-align: middle;\n",
       "    }\n",
       "\n",
       "    .dataframe tbody tr th {\n",
       "        vertical-align: top;\n",
       "    }\n",
       "\n",
       "    .dataframe thead th {\n",
       "        text-align: right;\n",
       "    }\n",
       "</style>\n",
       "<table border=\"1\" class=\"dataframe\">\n",
       "  <thead>\n",
       "    <tr style=\"text-align: right;\">\n",
       "      <th></th>\n",
       "      <th>gigs</th>\n",
       "    </tr>\n",
       "  </thead>\n",
       "  <tbody>\n",
       "    <tr>\n",
       "      <th>Cloud_Veg_ET</th>\n",
       "      <td>419.000</td>\n",
       "    </tr>\n",
       "    <tr>\n",
       "      <th>MODIS_NDVI</th>\n",
       "      <td>188.000</td>\n",
       "    </tr>\n",
       "    <tr>\n",
       "      <th>inputsv0</th>\n",
       "      <td>23.000</td>\n",
       "    </tr>\n",
       "    <tr>\n",
       "      <th>lunch</th>\n",
       "      <td>0.455</td>\n",
       "    </tr>\n",
       "    <tr>\n",
       "      <th>TOTAL</th>\n",
       "      <td>630.000</td>\n",
       "    </tr>\n",
       "  </tbody>\n",
       "</table>\n",
       "</div>"
      ],
      "text/plain": [
       "                 gigs\n",
       "Cloud_Veg_ET  419.000\n",
       "MODIS_NDVI    188.000\n",
       "inputsv0       23.000\n",
       "lunch           0.455\n",
       "TOTAL         630.000"
      ]
     },
     "execution_count": 11,
     "metadata": {},
     "output_type": "execute_result"
    }
   ],
   "source": [
    "df2"
   ]
  },
  {
   "cell_type": "code",
   "execution_count": 12,
   "metadata": {},
   "outputs": [
    {
     "data": {
      "text/plain": [
       "<matplotlib.axes._subplots.AxesSubplot at 0x7f8314314c88>"
      ]
     },
     "execution_count": 12,
     "metadata": {},
     "output_type": "execute_result"
    },
    {
     "data": {
      "image/png": "[encoded data removed]",
      "text/plain": [
       "<Figure size 432x288 with 1 Axes>"
      ]
     },
     "metadata": {
      "needs_background": "light"
     },
     "output_type": "display_data"
    }
   ],
   "source": [
    "df2.plot.bar(color='green')"
   ]
  },
  {
   "cell_type": "code",
   "execution_count": 13,
   "metadata": {},
   "outputs": [],
   "source": [
    "last_row = len(df2)-1\n",
    "df3 = df2.drop(df2.index[last_row]) "
   ]
  },
  {
   "cell_type": "code",
   "execution_count": 14,
   "metadata": {},
   "outputs": [
    {
     "data": {
      "text/html": [
       "<div>\n",
       "<style scoped>\n",
       "    .dataframe tbody tr th:only-of-type {\n",
       "        vertical-align: middle;\n",
       "    }\n",
       "\n",
       "    .dataframe tbody tr th {\n",
       "        vertical-align: top;\n",
       "    }\n",
       "\n",
       "    .dataframe thead th {\n",
       "        text-align: right;\n",
       "    }\n",
       "</style>\n",
       "<table border=\"1\" class=\"dataframe\">\n",
       "  <thead>\n",
       "    <tr style=\"text-align: right;\">\n",
       "      <th></th>\n",
       "      <th>gigs</th>\n",
       "    </tr>\n",
       "  </thead>\n",
       "  <tbody>\n",
       "    <tr>\n",
       "      <th>Cloud_Veg_ET</th>\n",
       "      <td>419.000</td>\n",
       "    </tr>\n",
       "    <tr>\n",
       "      <th>MODIS_NDVI</th>\n",
       "      <td>188.000</td>\n",
       "    </tr>\n",
       "    <tr>\n",
       "      <th>inputsv0</th>\n",
       "      <td>23.000</td>\n",
       "    </tr>\n",
       "    <tr>\n",
       "      <th>lunch</th>\n",
       "      <td>0.455</td>\n",
       "    </tr>\n",
       "  </tbody>\n",
       "</table>\n",
       "</div>"
      ],
      "text/plain": [
       "                 gigs\n",
       "Cloud_Veg_ET  419.000\n",
       "MODIS_NDVI    188.000\n",
       "inputsv0       23.000\n",
       "lunch           0.455"
      ]
     },
     "execution_count": 14,
     "metadata": {},
     "output_type": "execute_result"
    }
   ],
   "source": [
    "df3"
   ]
  },
  {
   "cell_type": "code",
   "execution_count": 15,
   "metadata": {},
   "outputs": [
    {
     "data": {
      "text/plain": [
       "<matplotlib.axes._subplots.AxesSubplot at 0x7f8314325320>"
      ]
     },
     "execution_count": 15,
     "metadata": {},
     "output_type": "execute_result"
    },
    {
     "data": {
      "image/png": "[encoded data removed]",
      "text/plain": [
       "<Figure size 432x288 with 1 Axes>"
      ]
     },
     "metadata": {
      "needs_background": "light"
     },
     "output_type": "display_data"
    }
   ],
   "source": [
    "df3.plot.bar(color='purple')"
   ]
  },
  {
   "cell_type": "code",
   "execution_count": 16,
   "metadata": {},
   "outputs": [
    {
     "data": {
      "text/plain": [
       "<matplotlib.axes._subplots.AxesSubplot at 0x7f8313d5e278>"
      ]
     },
     "execution_count": 16,
     "metadata": {},
     "output_type": "execute_result"
    },
    {
     "data": {
      "image/png": "[encoded data removed]",
      "text/plain": [
       "<Figure size 432x288 with 1 Axes>"
      ]
     },
     "metadata": {},
     "output_type": "display_data"
    }
   ],
   "source": [
    "df3.plot.pie(y='gigs')"
   ]
  },
  {
   "cell_type": "code",
   "execution_count": 17,
   "metadata": {},
   "outputs": [
    {
     "name": "stdout",
     "output_type": "stream",
     "text": [
      "642K\t/mnt/ga-et-data/inputsv0/MODIS_NDVI\n",
      "4.6G\t/mnt/ga-et-data/inputsv0/air_temperature\n",
      "898M\t/mnt/ga-et-data/inputsv0/precipitation\n",
      "17G\t/mnt/ga-et-data/inputsv0/soilData\n",
      "23G\t/mnt/ga-et-data/inputsv0\n",
      "NEW  0.898G\n"
     ]
    }
   ],
   "source": [
    "cmd = 'du -hd 1 /mnt/ga-et-data/inputsv0'\n",
    "du_cmd_output = subprocess_cmd(cmd)\n",
    "\n",
    "du_dict = proc_du(du_cmd_output)\n",
    "df = pd.DataFrame(du_dict, index=['gigs'])\n",
    "df2 = df.T  # transpose"
   ]
  },
  {
   "cell_type": "code",
   "execution_count": 18,
   "metadata": {},
   "outputs": [
    {
     "data": {
      "text/html": [
       "<div>\n",
       "<style scoped>\n",
       "    .dataframe tbody tr th:only-of-type {\n",
       "        vertical-align: middle;\n",
       "    }\n",
       "\n",
       "    .dataframe tbody tr th {\n",
       "        vertical-align: top;\n",
       "    }\n",
       "\n",
       "    .dataframe thead th {\n",
       "        text-align: right;\n",
       "    }\n",
       "</style>\n",
       "<table border=\"1\" class=\"dataframe\">\n",
       "  <thead>\n",
       "    <tr style=\"text-align: right;\">\n",
       "      <th></th>\n",
       "      <th>gigs</th>\n",
       "    </tr>\n",
       "  </thead>\n",
       "  <tbody>\n",
       "    <tr>\n",
       "      <th>air_temperature</th>\n",
       "      <td>4.600</td>\n",
       "    </tr>\n",
       "    <tr>\n",
       "      <th>precipitation</th>\n",
       "      <td>0.898</td>\n",
       "    </tr>\n",
       "    <tr>\n",
       "      <th>soilData</th>\n",
       "      <td>17.000</td>\n",
       "    </tr>\n",
       "    <tr>\n",
       "      <th>inputsv0</th>\n",
       "      <td>23.000</td>\n",
       "    </tr>\n",
       "  </tbody>\n",
       "</table>\n",
       "</div>"
      ],
      "text/plain": [
       "                   gigs\n",
       "air_temperature   4.600\n",
       "precipitation     0.898\n",
       "soilData         17.000\n",
       "inputsv0         23.000"
      ]
     },
     "execution_count": 18,
     "metadata": {},
     "output_type": "execute_result"
    }
   ],
   "source": [
    "df2"
   ]
  },
  {
   "cell_type": "code",
   "execution_count": 21,
   "metadata": {},
   "outputs": [],
   "source": [
    "last_row = len(df2)-1\n",
    "df3 = df2.drop(df2.index[last_row]) "
   ]
  },
  {
   "cell_type": "code",
   "execution_count": 22,
   "metadata": {},
   "outputs": [
    {
     "data": {
      "text/plain": [
       "<matplotlib.axes._subplots.AxesSubplot at 0x7f8313d41c18>"
      ]
     },
     "execution_count": 22,
     "metadata": {},
     "output_type": "execute_result"
    },
    {
     "data": {
      "image/png": "[encoded data removed]",
      "text/plain": [
       "<Figure size 432x288 with 1 Axes>"
      ]
     },
     "metadata": {
      "needs_background": "light"
     },
     "output_type": "display_data"
    }
   ],
   "source": [
    "df3.plot.bar(color='purple')"
   ]
  },
  {
   "cell_type": "code",
   "execution_count": 19,
   "metadata": {},
   "outputs": [
    {
     "name": "stdout",
     "output_type": "stream",
     "text": [
      "    366    1464   20130\r\n"
     ]
    }
   ],
   "source": [
    "! aws s3 ls ga-et-data/Cloud_Veg_ET/Data/ETO/ |grep npy | wc"
   ]
  },
  {
   "cell_type": "code",
   "execution_count": null,
   "metadata": {},
   "outputs": [],
   "source": []
  },
  {
   "cell_type": "code",
   "execution_count": 20,
   "metadata": {},
   "outputs": [
    {
     "name": "stdout",
     "output_type": "stream",
     "text": [
      "Filesystem      Size  Used Avail Use% Mounted on\r\n",
      "udev            3.8G     0  3.8G   0% /dev\r\n",
      "tmpfs           773M  764K  772M   1% /run\r\n",
      "/dev/nvme0n1p1   39G   18G   22G  45% /\r\n",
      "tmpfs           3.8G     0  3.8G   0% /dev/shm\r\n",
      "tmpfs           5.0M     0  5.0M   0% /run/lock\r\n",
      "tmpfs           3.8G     0  3.8G   0% /sys/fs/cgroup\r\n",
      "/dev/loop0       18M   18M     0 100% /snap/amazon-ssm-agent/1566\r\n",
      "/dev/loop1       89M   89M     0 100% /snap/core/7270\r\n",
      "/dev/loop2       18M   18M     0 100% /snap/amazon-ssm-agent/1480\r\n",
      "/dev/loop3       92M   92M     0 100% /snap/core/8689\r\n",
      "tmpfs           773M     0  773M   0% /run/user/1000\r\n",
      "s3fs            256T     0  256T   0% /mnt/ga-et-data\r\n"
     ]
    }
   ],
   "source": [
    "! df -h"
   ]
  },
  {
   "cell_type": "code",
   "execution_count": null,
   "metadata": {},
   "outputs": [],
   "source": []
  }
 ],
 "metadata": {
  "kernelspec": {
   "display_name": "Python 3",
   "language": "python",
   "name": "python3"
  },
  "language_info": {
   "codemirror_mode": {
    "name": "ipython",
    "version": 3
   },
   "file_extension": ".py",
   "mimetype": "text/x-python",
   "name": "python",
   "nbconvert_exporter": "python",
   "pygments_lexer": "ipython3",
   "version": "3.7.3"
  }
 },
 "nbformat": 4,
 "nbformat_minor": 4
}
