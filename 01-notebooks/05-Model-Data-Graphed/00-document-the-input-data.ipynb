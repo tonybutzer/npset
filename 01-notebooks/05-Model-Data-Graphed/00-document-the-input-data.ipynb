{
 "cells": [
  {
   "cell_type": "markdown",
   "metadata": {},
   "source": [
    "# ET Model Data Graphed\n",
    "\n",
    "\n",
    "### This is all about AWS Cloud S3 Buckets\n",
    "\n",
    "#### Our Bucket is called - \n",
    "\n",
    "# ga-et-data\n",
    "\n",
    "### Sponsored by the friendly Aussies\n",
    "\n",
    "Lots of creative ways to access this data in the bucket\n",
    "\n",
    "A few are depicted below\n",
    "\n",
    "This notebook talks about the \n",
    "\n",
    "## Cloud_Veg_ET Data\n",
    "\n",
    "This used to live in a `socially distanced NETAPP`!\n",
    "### Socially Distanced Data is SAD :-(\n",
    "\n",
    "### Free\n",
    "\n",
    "But Now its free to move around the country and talk to all scientists.\n",
    "\n",
    "---\n",
    "\n",
    "---\n",
    "\n",
    "---"
   ]
  },
  {
   "cell_type": "markdown",
   "metadata": {},
   "source": [
    "## Because there is an s3fs mount I can use *ls*"
   ]
  },
  {
   "cell_type": "code",
   "execution_count": 1,
   "metadata": {},
   "outputs": [
    {
     "name": "stdout",
     "output_type": "stream",
     "text": [
      "Cloud_Veg_ET  MODIS_NDVI  a.tif  inputsv0  lunch  readme-bucket.md  steffi\r\n"
     ]
    }
   ],
   "source": [
    "!ls /mnt/ga-et-data/"
   ]
  },
  {
   "cell_type": "markdown",
   "metadata": {},
   "source": [
    "# Cloud_Veg_ET\n",
    "\n",
    "1. This \"Directory\" contains aligned rasters \n",
    "2. These are pickled numpy 2D arrays\n",
    "3. These will be used to develop the model prototype for the Delaware River Region - more on that later"
   ]
  },
  {
   "cell_type": "code",
   "execution_count": 2,
   "metadata": {},
   "outputs": [
    {
     "name": "stdout",
     "output_type": "stream",
     "text": [
      "ETO  NDVI  PPT\tTAVG  TMAX  TMIN\r\n"
     ]
    }
   ],
   "source": [
    "# no soils data yet - but ist on its way - Thankyou Norm Bliss and Steffi\n",
    "! ls /mnt/ga-et-data/Cloud_Veg_ET/Data/"
   ]
  },
  {
   "cell_type": "code",
   "execution_count": 3,
   "metadata": {},
   "outputs": [
    {
     "name": "stdout",
     "output_type": "stream",
     "text": [
      "8.3G\t/mnt/ga-et-data/Cloud_Veg_ET/Data/ETO\n",
      "122G\t/mnt/ga-et-data/Cloud_Veg_ET/Data/NDVI\n",
      "265G\t/mnt/ga-et-data/Cloud_Veg_ET/Data/PPT\n",
      "8.3G\t/mnt/ga-et-data/Cloud_Veg_ET/Data/TAVG\n",
      "8.3G\t/mnt/ga-et-data/Cloud_Veg_ET/Data/TMAX\n",
      "8.3G\t/mnt/ga-et-data/Cloud_Veg_ET/Data/TMIN\n",
      "419G\t/mnt/ga-et-data/Cloud_Veg_ET/Data/\n"
     ]
    }
   ],
   "source": [
    "! du -hd 1 /mnt/ga-et-data/Cloud_Veg_ET/Data/"
   ]
  },
  {
   "cell_type": "code",
   "execution_count": 4,
   "metadata": {},
   "outputs": [],
   "source": [
    "import subprocess\n",
    "def subprocess_cmd(command):\n",
    "    process = subprocess.Popen(command, stdout=subprocess.PIPE, shell=True)\n",
    "    proc_stdout = process.communicate()[0].strip()\n",
    "    stupidBytesObject = proc_stdout\n",
    "    outStr = (stupidBytesObject.decode(\"utf-8\"))\n",
    "    print(outStr)\n",
    "    return(outStr)"
   ]
  },
  {
   "cell_type": "code",
   "execution_count": 5,
   "metadata": {},
   "outputs": [
    {
     "name": "stdout",
     "output_type": "stream",
     "text": [
      "8.3G\t/mnt/ga-et-data/Cloud_Veg_ET/Data/ETO\n",
      "122G\t/mnt/ga-et-data/Cloud_Veg_ET/Data/NDVI\n",
      "265G\t/mnt/ga-et-data/Cloud_Veg_ET/Data/PPT\n",
      "8.3G\t/mnt/ga-et-data/Cloud_Veg_ET/Data/TAVG\n",
      "8.3G\t/mnt/ga-et-data/Cloud_Veg_ET/Data/TMAX\n",
      "8.3G\t/mnt/ga-et-data/Cloud_Veg_ET/Data/TMIN\n",
      "419G\t/mnt/ga-et-data/Cloud_Veg_ET/Data/\n"
     ]
    }
   ],
   "source": [
    "cmd = 'du -hd 1 /mnt/ga-et-data/Cloud_Veg_ET/Data/'\n",
    "du_cmd_output = subprocess_cmd(cmd)\n"
   ]
  },
  {
   "cell_type": "code",
   "execution_count": 6,
   "metadata": {},
   "outputs": [],
   "source": [
    "def proc_du(du_in):\n",
    "    size_dict={}\n",
    "    lines = du_in.split('\\n')\n",
    "    for line in lines:\n",
    "        #print('LINE ', line)\n",
    "        key = line.split('/')[-1]\n",
    "        # print(key)\n",
    "        gigs = line.split('G')[0]\n",
    "        gigs = float(gigs)\n",
    "        # print(gigs)\n",
    "        if (key == ''):\n",
    "            key = 'TOTAL'\n",
    "        size_dict[key]=gigs\n",
    "    return size_dict"
   ]
  },
  {
   "cell_type": "code",
   "execution_count": 7,
   "metadata": {},
   "outputs": [],
   "source": [
    "du_dict = proc_du(du_cmd_output)"
   ]
  },
  {
   "cell_type": "code",
   "execution_count": 8,
   "metadata": {},
   "outputs": [
    {
     "data": {
      "text/plain": [
       "{'ETO': 8.3,\n",
       " 'NDVI': 122.0,\n",
       " 'PPT': 265.0,\n",
       " 'TAVG': 8.3,\n",
       " 'TMAX': 8.3,\n",
       " 'TMIN': 8.3,\n",
       " 'TOTAL': 419.0}"
      ]
     },
     "execution_count": 8,
     "metadata": {},
     "output_type": "execute_result"
    }
   ],
   "source": [
    "du_dict"
   ]
  },
  {
   "cell_type": "code",
   "execution_count": 9,
   "metadata": {},
   "outputs": [],
   "source": [
    "import pandas as pd\n",
    "\n",
    "\n",
    "df = pd.DataFrame(du_dict, index=['gigs'])"
   ]
  },
  {
   "cell_type": "code",
   "execution_count": 10,
   "metadata": {},
   "outputs": [
    {
     "data": {
      "text/html": [
       "<div>\n",
       "<style scoped>\n",
       "    .dataframe tbody tr th:only-of-type {\n",
       "        vertical-align: middle;\n",
       "    }\n",
       "\n",
       "    .dataframe tbody tr th {\n",
       "        vertical-align: top;\n",
       "    }\n",
       "\n",
       "    .dataframe thead th {\n",
       "        text-align: right;\n",
       "    }\n",
       "</style>\n",
       "<table border=\"1\" class=\"dataframe\">\n",
       "  <thead>\n",
       "    <tr style=\"text-align: right;\">\n",
       "      <th></th>\n",
       "      <th>ETO</th>\n",
       "      <th>NDVI</th>\n",
       "      <th>PPT</th>\n",
       "      <th>TAVG</th>\n",
       "      <th>TMAX</th>\n",
       "      <th>TMIN</th>\n",
       "      <th>TOTAL</th>\n",
       "    </tr>\n",
       "  </thead>\n",
       "  <tbody>\n",
       "    <tr>\n",
       "      <th>gigs</th>\n",
       "      <td>8.3</td>\n",
       "      <td>122.0</td>\n",
       "      <td>265.0</td>\n",
       "      <td>8.3</td>\n",
       "      <td>8.3</td>\n",
       "      <td>8.3</td>\n",
       "      <td>419.0</td>\n",
       "    </tr>\n",
       "  </tbody>\n",
       "</table>\n",
       "</div>"
      ],
      "text/plain": [
       "      ETO   NDVI    PPT  TAVG  TMAX  TMIN  TOTAL\n",
       "gigs  8.3  122.0  265.0   8.3   8.3   8.3  419.0"
      ]
     },
     "execution_count": 10,
     "metadata": {},
     "output_type": "execute_result"
    }
   ],
   "source": [
    "df"
   ]
  },
  {
   "cell_type": "code",
   "execution_count": 11,
   "metadata": {},
   "outputs": [
    {
     "data": {
      "text/plain": [
       "<matplotlib.axes._subplots.AxesSubplot at 0x7faac5d47470>"
      ]
     },
     "execution_count": 11,
     "metadata": {},
     "output_type": "execute_result"
    },
    {
     "data": {
      "image/png": "[encoded data removed]",
      "text/plain": [
       "<Figure size 432x288 with 1 Axes>"
      ]
     },
     "metadata": {
      "needs_background": "light"
     },
     "output_type": "display_data"
    }
   ],
   "source": [
    "df.plot.bar()"
   ]
  },
  {
   "cell_type": "code",
   "execution_count": 12,
   "metadata": {},
   "outputs": [
    {
     "data": {
      "text/plain": [
       "array([<matplotlib.axes._subplots.AxesSubplot object at 0x7faac3cb0160>,\n",
       "       <matplotlib.axes._subplots.AxesSubplot object at 0x7faac37d6ba8>,\n",
       "       <matplotlib.axes._subplots.AxesSubplot object at 0x7faac3796048>,\n",
       "       <matplotlib.axes._subplots.AxesSubplot object at 0x7faac37464a8>,\n",
       "       <matplotlib.axes._subplots.AxesSubplot object at 0x7faac36f8908>,\n",
       "       <matplotlib.axes._subplots.AxesSubplot object at 0x7faac372dd68>,\n",
       "       <matplotlib.axes._subplots.AxesSubplot object at 0x7faac36ec208>],\n",
       "      dtype=object)"
      ]
     },
     "execution_count": 12,
     "metadata": {},
     "output_type": "execute_result"
    },
    {
     "data": {
      "image/png": "[encoded data removed]",
      "text/plain": [
       "<Figure size 432x288 with 7 Axes>"
      ]
     },
     "metadata": {},
     "output_type": "display_data"
    }
   ],
   "source": [
    "df.plot.pie(subplots=True)"
   ]
  },
  {
   "cell_type": "code",
   "execution_count": 13,
   "metadata": {},
   "outputs": [],
   "source": [
    "df2 = df.T  # transpose"
   ]
  },
  {
   "cell_type": "code",
   "execution_count": 14,
   "metadata": {},
   "outputs": [
    {
     "data": {
      "text/html": [
       "<div>\n",
       "<style scoped>\n",
       "    .dataframe tbody tr th:only-of-type {\n",
       "        vertical-align: middle;\n",
       "    }\n",
       "\n",
       "    .dataframe tbody tr th {\n",
       "        vertical-align: top;\n",
       "    }\n",
       "\n",
       "    .dataframe thead th {\n",
       "        text-align: right;\n",
       "    }\n",
       "</style>\n",
       "<table border=\"1\" class=\"dataframe\">\n",
       "  <thead>\n",
       "    <tr style=\"text-align: right;\">\n",
       "      <th></th>\n",
       "      <th>gigs</th>\n",
       "    </tr>\n",
       "  </thead>\n",
       "  <tbody>\n",
       "    <tr>\n",
       "      <th>ETO</th>\n",
       "      <td>8.3</td>\n",
       "    </tr>\n",
       "    <tr>\n",
       "      <th>NDVI</th>\n",
       "      <td>122.0</td>\n",
       "    </tr>\n",
       "    <tr>\n",
       "      <th>PPT</th>\n",
       "      <td>265.0</td>\n",
       "    </tr>\n",
       "    <tr>\n",
       "      <th>TAVG</th>\n",
       "      <td>8.3</td>\n",
       "    </tr>\n",
       "    <tr>\n",
       "      <th>TMAX</th>\n",
       "      <td>8.3</td>\n",
       "    </tr>\n",
       "    <tr>\n",
       "      <th>TMIN</th>\n",
       "      <td>8.3</td>\n",
       "    </tr>\n",
       "    <tr>\n",
       "      <th>TOTAL</th>\n",
       "      <td>419.0</td>\n",
       "    </tr>\n",
       "  </tbody>\n",
       "</table>\n",
       "</div>"
      ],
      "text/plain": [
       "        gigs\n",
       "ETO      8.3\n",
       "NDVI   122.0\n",
       "PPT    265.0\n",
       "TAVG     8.3\n",
       "TMAX     8.3\n",
       "TMIN     8.3\n",
       "TOTAL  419.0"
      ]
     },
     "execution_count": 14,
     "metadata": {},
     "output_type": "execute_result"
    }
   ],
   "source": [
    "df2"
   ]
  },
  {
   "cell_type": "code",
   "execution_count": 15,
   "metadata": {},
   "outputs": [
    {
     "data": {
      "text/plain": [
       "<matplotlib.axes._subplots.AxesSubplot at 0x7faac35fcfd0>"
      ]
     },
     "execution_count": 15,
     "metadata": {},
     "output_type": "execute_result"
    },
    {
     "data": {
      "image/png": "[encoded data removed]",
      "text/plain": [
       "<Figure size 432x288 with 1 Axes>"
      ]
     },
     "metadata": {
      "needs_background": "light"
     },
     "output_type": "display_data"
    }
   ],
   "source": [
    "df2.plot.bar(color='green')"
   ]
  },
  {
   "cell_type": "code",
   "execution_count": null,
   "metadata": {},
   "outputs": [],
   "source": []
  },
  {
   "cell_type": "code",
   "execution_count": 16,
   "metadata": {},
   "outputs": [
    {
     "data": {
      "text/plain": [
       "<matplotlib.axes._subplots.AxesSubplot at 0x7faac3579c50>"
      ]
     },
     "execution_count": 16,
     "metadata": {},
     "output_type": "execute_result"
    },
    {
     "data": {
      "image/png": "[encoded data removed]",
      "text/plain": [
       "<Figure size 432x288 with 1 Axes>"
      ]
     },
     "metadata": {},
     "output_type": "display_data"
    }
   ],
   "source": [
    "df2.plot.pie(y='gigs')"
   ]
  },
  {
   "cell_type": "code",
   "execution_count": 17,
   "metadata": {},
   "outputs": [],
   "source": [
    "last_row = len(df2)-1\n",
    "df3 = df2.drop(df2.index[last_row]) "
   ]
  },
  {
   "cell_type": "code",
   "execution_count": 18,
   "metadata": {},
   "outputs": [
    {
     "data": {
      "text/html": [
       "<div>\n",
       "<style scoped>\n",
       "    .dataframe tbody tr th:only-of-type {\n",
       "        vertical-align: middle;\n",
       "    }\n",
       "\n",
       "    .dataframe tbody tr th {\n",
       "        vertical-align: top;\n",
       "    }\n",
       "\n",
       "    .dataframe thead th {\n",
       "        text-align: right;\n",
       "    }\n",
       "</style>\n",
       "<table border=\"1\" class=\"dataframe\">\n",
       "  <thead>\n",
       "    <tr style=\"text-align: right;\">\n",
       "      <th></th>\n",
       "      <th>gigs</th>\n",
       "    </tr>\n",
       "  </thead>\n",
       "  <tbody>\n",
       "    <tr>\n",
       "      <th>ETO</th>\n",
       "      <td>8.3</td>\n",
       "    </tr>\n",
       "    <tr>\n",
       "      <th>NDVI</th>\n",
       "      <td>122.0</td>\n",
       "    </tr>\n",
       "    <tr>\n",
       "      <th>PPT</th>\n",
       "      <td>265.0</td>\n",
       "    </tr>\n",
       "    <tr>\n",
       "      <th>TAVG</th>\n",
       "      <td>8.3</td>\n",
       "    </tr>\n",
       "    <tr>\n",
       "      <th>TMAX</th>\n",
       "      <td>8.3</td>\n",
       "    </tr>\n",
       "    <tr>\n",
       "      <th>TMIN</th>\n",
       "      <td>8.3</td>\n",
       "    </tr>\n",
       "  </tbody>\n",
       "</table>\n",
       "</div>"
      ],
      "text/plain": [
       "       gigs\n",
       "ETO     8.3\n",
       "NDVI  122.0\n",
       "PPT   265.0\n",
       "TAVG    8.3\n",
       "TMAX    8.3\n",
       "TMIN    8.3"
      ]
     },
     "execution_count": 18,
     "metadata": {},
     "output_type": "execute_result"
    }
   ],
   "source": [
    "df3"
   ]
  },
  {
   "cell_type": "code",
   "execution_count": 19,
   "metadata": {},
   "outputs": [
    {
     "data": {
      "text/plain": [
       "<matplotlib.axes._subplots.AxesSubplot at 0x7faac34f62e8>"
      ]
     },
     "execution_count": 19,
     "metadata": {},
     "output_type": "execute_result"
    },
    {
     "data": {
      "image/png": "[encoded data removed]",
      "text/plain": [
       "<Figure size 432x288 with 1 Axes>"
      ]
     },
     "metadata": {
      "needs_background": "light"
     },
     "output_type": "display_data"
    }
   ],
   "source": [
    "df3.plot.bar(color='purple')"
   ]
  },
  {
   "cell_type": "code",
   "execution_count": 20,
   "metadata": {},
   "outputs": [
    {
     "data": {
      "text/plain": [
       "<matplotlib.axes._subplots.AxesSubplot at 0x7faac34e2da0>"
      ]
     },
     "execution_count": 20,
     "metadata": {},
     "output_type": "execute_result"
    },
    {
     "data": {
      "image/png": "[encoded data removed]",
      "text/plain": [
       "<Figure size 432x288 with 1 Axes>"
      ]
     },
     "metadata": {},
     "output_type": "display_data"
    }
   ],
   "source": [
    "df3.plot.pie(y='gigs')"
   ]
  },
  {
   "cell_type": "code",
   "execution_count": 21,
   "metadata": {},
   "outputs": [
    {
     "name": "stdout",
     "output_type": "stream",
     "text": [
      "    366    1464   20130\r\n"
     ]
    }
   ],
   "source": [
    "! aws s3 ls ga-et-data/Cloud_Veg_ET/Data/ETO/ |grep npy | wc"
   ]
  },
  {
   "cell_type": "code",
   "execution_count": null,
   "metadata": {},
   "outputs": [],
   "source": []
  },
  {
   "cell_type": "code",
   "execution_count": 22,
   "metadata": {},
   "outputs": [
    {
     "name": "stdout",
     "output_type": "stream",
     "text": [
      "Filesystem      Size  Used Avail Use% Mounted on\r\n",
      "udev            3.8G     0  3.8G   0% /dev\r\n",
      "tmpfs           773M  764K  772M   1% /run\r\n",
      "/dev/nvme0n1p1   39G   17G   22G  44% /\r\n",
      "tmpfs           3.8G     0  3.8G   0% /dev/shm\r\n",
      "tmpfs           5.0M     0  5.0M   0% /run/lock\r\n",
      "tmpfs           3.8G     0  3.8G   0% /sys/fs/cgroup\r\n",
      "/dev/loop0       18M   18M     0 100% /snap/amazon-ssm-agent/1566\r\n",
      "/dev/loop1       89M   89M     0 100% /snap/core/7270\r\n",
      "/dev/loop2       18M   18M     0 100% /snap/amazon-ssm-agent/1480\r\n",
      "/dev/loop3       92M   92M     0 100% /snap/core/8689\r\n",
      "tmpfs           773M     0  773M   0% /run/user/1000\r\n",
      "s3fs            256T     0  256T   0% /mnt/ga-et-data\r\n"
     ]
    }
   ],
   "source": [
    "! df -h"
   ]
  },
  {
   "cell_type": "code",
   "execution_count": null,
   "metadata": {},
   "outputs": [],
   "source": []
  }
 ],
 "metadata": {
  "kernelspec": {
   "display_name": "Python 3",
   "language": "python",
   "name": "python3"
  },
  "language_info": {
   "codemirror_mode": {
    "name": "ipython",
    "version": 3
   },
   "file_extension": ".py",
   "mimetype": "text/x-python",
   "name": "python",
   "nbconvert_exporter": "python",
   "pygments_lexer": "ipython3",
   "version": "3.7.3"
  }
 },
 "nbformat": 4,
 "nbformat_minor": 4
}
