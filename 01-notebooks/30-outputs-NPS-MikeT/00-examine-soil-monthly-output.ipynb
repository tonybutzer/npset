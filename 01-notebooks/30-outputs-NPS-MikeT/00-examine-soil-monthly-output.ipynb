{
 "cells": [
  {
   "cell_type": "code",
   "execution_count": 1,
   "metadata": {},
   "outputs": [
    {
     "name": "stdout",
     "output_type": "stream",
     "text": [
      "--2020-03-11 19:46:45--  http://www.yellowstone.solutions/thredds/fileServer/daily_or_monthly/monthly/v2_2018_soil_water_monthly.nc4\n",
      "Resolving www.yellowstone.solutions (www.yellowstone.solutions)... 34.213.214.131\n",
      "Connecting to www.yellowstone.solutions (www.yellowstone.solutions)|34.213.214.131|:80... connected.\n",
      "HTTP request sent, awaiting response... 200 \n",
      "Length: 464931581 (443M) [application/x-netcdf4]\n",
      "Saving to: ‘v2_2018_soil_water_monthly.nc4’\n",
      "\n",
      "v2_2018_soil_water_ 100%[===================>] 443.39M   109MB/s    in 3.7s    \n",
      "\n",
      "2020-03-11 19:46:49 (121 MB/s) - ‘v2_2018_soil_water_monthly.nc4’ saved [464931581/464931581]\n",
      "\n"
     ]
    }
   ],
   "source": [
    "# ! wget http://www.yellowstone.solutions/thredds/fileServer/daily_or_monthly/monthly/v2_2018_soil_water_monthly.nc4"
   ]
  },
  {
   "cell_type": "code",
   "execution_count": 2,
   "metadata": {},
   "outputs": [
    {
     "name": "stdout",
     "output_type": "stream",
     "text": [
      "Untitled.ipynb\tv2_2018_soil_water_monthly.nc4\r\n"
     ]
    }
   ],
   "source": [
    "! ls"
   ]
  },
  {
   "cell_type": "code",
   "execution_count": 5,
   "metadata": {},
   "outputs": [],
   "source": [
    "import xarray as xr# single file\n",
    "dataDIR = 'v2_2018_soil_water_monthly.nc4'\n",
    "DS = xr.open_dataset(dataDIR, decode_times=False)"
   ]
  },
  {
   "cell_type": "code",
   "execution_count": 6,
   "metadata": {},
   "outputs": [
    {
     "data": {
      "text/html": [
       "<pre>&lt;xarray.Dataset&gt;\n",
       "Dimensions:                  (nv: 2, time: 12, x: 7814, y: 8075)\n",
       "Coordinates:\n",
       "  * x                        (x) float32 -4560250.0 -4559250.0 ... 3252750.0\n",
       "  * y                        (y) float32 4984000.0 4983000.0 ... -3090000.0\n",
       "    lat                      (y, x) float32 ...\n",
       "    lon                      (y, x) float32 ...\n",
       "  * time                     (time) float32 0.5 1.5 2.5 3.5 ... 9.5 10.5 11.5\n",
       "Dimensions without coordinates: nv\n",
       "Data variables:\n",
       "    timeunit                 (time) int16 ...\n",
       "    time_bnds                (time, nv) float32 ...\n",
       "    lambert_conformal_conic  int16 ...\n",
       "    soil_water               (time, y, x) float32 ...\n",
       "Attributes:\n",
       "    Conventions:  CF-1.6\n",
       "    history:      Wed Jun 12 15:32:06 2019: ncatted -O -a units,time,o,c,mont...</pre>"
      ],
      "text/plain": [
       "<xarray.Dataset>\n",
       "Dimensions:                  (nv: 2, time: 12, x: 7814, y: 8075)\n",
       "Coordinates:\n",
       "  * x                        (x) float32 -4560250.0 -4559250.0 ... 3252750.0\n",
       "  * y                        (y) float32 4984000.0 4983000.0 ... -3090000.0\n",
       "    lat                      (y, x) float32 ...\n",
       "    lon                      (y, x) float32 ...\n",
       "  * time                     (time) float32 0.5 1.5 2.5 3.5 ... 9.5 10.5 11.5\n",
       "Dimensions without coordinates: nv\n",
       "Data variables:\n",
       "    timeunit                 (time) int16 ...\n",
       "    time_bnds                (time, nv) float32 ...\n",
       "    lambert_conformal_conic  int16 ...\n",
       "    soil_water               (time, y, x) float32 ...\n",
       "Attributes:\n",
       "    Conventions:  CF-1.6\n",
       "    history:      Wed Jun 12 15:32:06 2019: ncatted -O -a units,time,o,c,mont..."
      ]
     },
     "execution_count": 6,
     "metadata": {},
     "output_type": "execute_result"
    }
   ],
   "source": [
    "DS"
   ]
  },
  {
   "cell_type": "code",
   "execution_count": 9,
   "metadata": {},
   "outputs": [],
   "source": [
    "sw = DS['soil_water']"
   ]
  },
  {
   "cell_type": "code",
   "execution_count": 10,
   "metadata": {},
   "outputs": [
    {
     "data": {
      "text/html": [
       "<pre>&lt;xarray.DataArray &#x27;soil_water&#x27; (time: 12, y: 8075, x: 7814)&gt;\n",
       "[757176600 values with dtype=float32]\n",
       "Coordinates:\n",
       "  * x        (x) float32 -4560250.0 -4559250.0 ... 3251750.0 3252750.0\n",
       "  * y        (y) float32 4984000.0 4983000.0 4982000.0 ... -3089000.0 -3090000.0\n",
       "    lat      (y, x) float32 ...\n",
       "    lon      (y, x) float32 ...\n",
       "  * time     (time) float32 0.5 1.5 2.5 3.5 4.5 5.5 6.5 7.5 8.5 9.5 10.5 11.5\n",
       "Attributes:\n",
       "    long_name:     soil_water\n",
       "    units:         mm\n",
       "    grid_mapping:  lambert_conformal_conic\n",
       "    cell_methods:  area: mean time: minimum</pre>"
      ],
      "text/plain": [
       "<xarray.DataArray 'soil_water' (time: 12, y: 8075, x: 7814)>\n",
       "[757176600 values with dtype=float32]\n",
       "Coordinates:\n",
       "  * x        (x) float32 -4560250.0 -4559250.0 ... 3251750.0 3252750.0\n",
       "  * y        (y) float32 4984000.0 4983000.0 4982000.0 ... -3089000.0 -3090000.0\n",
       "    lat      (y, x) float32 ...\n",
       "    lon      (y, x) float32 ...\n",
       "  * time     (time) float32 0.5 1.5 2.5 3.5 4.5 5.5 6.5 7.5 8.5 9.5 10.5 11.5\n",
       "Attributes:\n",
       "    long_name:     soil_water\n",
       "    units:         mm\n",
       "    grid_mapping:  lambert_conformal_conic\n",
       "    cell_methods:  area: mean time: minimum"
      ]
     },
     "execution_count": 10,
     "metadata": {},
     "output_type": "execute_result"
    }
   ],
   "source": [
    "sw"
   ]
  },
  {
   "cell_type": "code",
   "execution_count": 14,
   "metadata": {},
   "outputs": [
    {
     "data": {
      "text/plain": [
       "array([ 0.5,  1.5,  2.5,  3.5,  4.5,  5.5,  6.5,  7.5,  8.5,  9.5, 10.5,\n",
       "       11.5], dtype=float32)"
      ]
     },
     "execution_count": 14,
     "metadata": {},
     "output_type": "execute_result"
    }
   ],
   "source": [
    "sw['time'].values"
   ]
  },
  {
   "cell_type": "code",
   "execution_count": 43,
   "metadata": {},
   "outputs": [
    {
     "name": "stdout",
     "output_type": "stream",
     "text": [
      "<xarray.DataArray 'soil_water' ()>\n",
      "array(1153., dtype=float32)\n",
      "Coordinates:\n",
      "    time     float32 0.5\n",
      "<xarray.DataArray 'soil_water' ()>\n",
      "array(0., dtype=float32)\n",
      "Coordinates:\n",
      "    time     float32 0.5\n"
     ]
    }
   ],
   "source": [
    "print(sw.loc[0.5].max())\n",
    "print(sw.loc[0.5].min())"
   ]
  },
  {
   "cell_type": "code",
   "execution_count": 45,
   "metadata": {},
   "outputs": [
    {
     "data": {
      "text/plain": [
       "xarray.core.dataarray.DataArray"
      ]
     },
     "execution_count": 45,
     "metadata": {},
     "output_type": "execute_result"
    }
   ],
   "source": [
    "type(sw.loc[0.5])"
   ]
  },
  {
   "cell_type": "code",
   "execution_count": 46,
   "metadata": {},
   "outputs": [],
   "source": [
    "xd = sw.loc[0.5]"
   ]
  },
  {
   "cell_type": "code",
   "execution_count": 47,
   "metadata": {},
   "outputs": [
    {
     "data": {
      "text/html": [
       "<pre>&lt;xarray.DataArray &#x27;soil_water&#x27; (y: 8075, x: 7814)&gt;\n",
       "[63098050 values with dtype=float32]\n",
       "Coordinates:\n",
       "  * x        (x) float32 -4560250.0 -4559250.0 ... 3251750.0 3252750.0\n",
       "  * y        (y) float32 4984000.0 4983000.0 4982000.0 ... -3089000.0 -3090000.0\n",
       "    lat      (y, x) float32 ...\n",
       "    lon      (y, x) float32 ...\n",
       "    time     float32 0.5\n",
       "Attributes:\n",
       "    long_name:     soil_water\n",
       "    units:         mm\n",
       "    grid_mapping:  lambert_conformal_conic\n",
       "    cell_methods:  area: mean time: minimum</pre>"
      ],
      "text/plain": [
       "<xarray.DataArray 'soil_water' (y: 8075, x: 7814)>\n",
       "[63098050 values with dtype=float32]\n",
       "Coordinates:\n",
       "  * x        (x) float32 -4560250.0 -4559250.0 ... 3251750.0 3252750.0\n",
       "  * y        (y) float32 4984000.0 4983000.0 4982000.0 ... -3089000.0 -3090000.0\n",
       "    lat      (y, x) float32 ...\n",
       "    lon      (y, x) float32 ...\n",
       "    time     float32 0.5\n",
       "Attributes:\n",
       "    long_name:     soil_water\n",
       "    units:         mm\n",
       "    grid_mapping:  lambert_conformal_conic\n",
       "    cell_methods:  area: mean time: minimum"
      ]
     },
     "execution_count": 47,
     "metadata": {},
     "output_type": "execute_result"
    }
   ],
   "source": [
    "xd"
   ]
  },
  {
   "cell_type": "code",
   "execution_count": 52,
   "metadata": {},
   "outputs": [],
   "source": [
    "maxa = xd.max().values"
   ]
  },
  {
   "cell_type": "code",
   "execution_count": 55,
   "metadata": {},
   "outputs": [
    {
     "data": {
      "text/plain": [
       "1153.0"
      ]
     },
     "execution_count": 55,
     "metadata": {},
     "output_type": "execute_result"
    }
   ],
   "source": [
    "maxa.max()"
   ]
  },
  {
   "cell_type": "code",
   "execution_count": 56,
   "metadata": {},
   "outputs": [
    {
     "data": {
      "text/plain": [
       "1153.0"
      ]
     },
     "execution_count": 56,
     "metadata": {},
     "output_type": "execute_result"
    }
   ],
   "source": [
    "maxa.min()"
   ]
  },
  {
   "cell_type": "code",
   "execution_count": 58,
   "metadata": {},
   "outputs": [],
   "source": [
    "xd = sw.loc[0.5][4000][4000]"
   ]
  },
  {
   "cell_type": "code",
   "execution_count": 63,
   "metadata": {},
   "outputs": [],
   "source": [
    "mla = xd.values"
   ]
  },
  {
   "cell_type": "code",
   "execution_count": 69,
   "metadata": {},
   "outputs": [
    {
     "data": {
      "text/plain": [
       "['T',\n",
       " '__abs__',\n",
       " '__add__',\n",
       " '__and__',\n",
       " '__array__',\n",
       " '__array_finalize__',\n",
       " '__array_function__',\n",
       " '__array_interface__',\n",
       " '__array_prepare__',\n",
       " '__array_priority__',\n",
       " '__array_struct__',\n",
       " '__array_ufunc__',\n",
       " '__array_wrap__',\n",
       " '__bool__',\n",
       " '__class__',\n",
       " '__complex__',\n",
       " '__contains__',\n",
       " '__copy__',\n",
       " '__deepcopy__',\n",
       " '__delattr__',\n",
       " '__delitem__',\n",
       " '__dir__',\n",
       " '__divmod__',\n",
       " '__doc__',\n",
       " '__eq__',\n",
       " '__float__',\n",
       " '__floordiv__',\n",
       " '__format__',\n",
       " '__ge__',\n",
       " '__getattribute__',\n",
       " '__getitem__',\n",
       " '__gt__',\n",
       " '__hash__',\n",
       " '__iadd__',\n",
       " '__iand__',\n",
       " '__ifloordiv__',\n",
       " '__ilshift__',\n",
       " '__imatmul__',\n",
       " '__imod__',\n",
       " '__imul__',\n",
       " '__index__',\n",
       " '__init__',\n",
       " '__init_subclass__',\n",
       " '__int__',\n",
       " '__invert__',\n",
       " '__ior__',\n",
       " '__ipow__',\n",
       " '__irshift__',\n",
       " '__isub__',\n",
       " '__iter__',\n",
       " '__itruediv__',\n",
       " '__ixor__',\n",
       " '__le__',\n",
       " '__len__',\n",
       " '__lshift__',\n",
       " '__lt__',\n",
       " '__matmul__',\n",
       " '__mod__',\n",
       " '__mul__',\n",
       " '__ne__',\n",
       " '__neg__',\n",
       " '__new__',\n",
       " '__or__',\n",
       " '__pos__',\n",
       " '__pow__',\n",
       " '__radd__',\n",
       " '__rand__',\n",
       " '__rdivmod__',\n",
       " '__reduce__',\n",
       " '__reduce_ex__',\n",
       " '__repr__',\n",
       " '__rfloordiv__',\n",
       " '__rlshift__',\n",
       " '__rmatmul__',\n",
       " '__rmod__',\n",
       " '__rmul__',\n",
       " '__ror__',\n",
       " '__rpow__',\n",
       " '__rrshift__',\n",
       " '__rshift__',\n",
       " '__rsub__',\n",
       " '__rtruediv__',\n",
       " '__rxor__',\n",
       " '__setattr__',\n",
       " '__setitem__',\n",
       " '__setstate__',\n",
       " '__sizeof__',\n",
       " '__str__',\n",
       " '__sub__',\n",
       " '__subclasshook__',\n",
       " '__truediv__',\n",
       " '__xor__',\n",
       " 'all',\n",
       " 'any',\n",
       " 'argmax',\n",
       " 'argmin',\n",
       " 'argpartition',\n",
       " 'argsort',\n",
       " 'astype',\n",
       " 'base',\n",
       " 'byteswap',\n",
       " 'choose',\n",
       " 'clip',\n",
       " 'compress',\n",
       " 'conj',\n",
       " 'conjugate',\n",
       " 'copy',\n",
       " 'ctypes',\n",
       " 'cumprod',\n",
       " 'cumsum',\n",
       " 'data',\n",
       " 'diagonal',\n",
       " 'dot',\n",
       " 'dtype',\n",
       " 'dump',\n",
       " 'dumps',\n",
       " 'fill',\n",
       " 'flags',\n",
       " 'flat',\n",
       " 'flatten',\n",
       " 'getfield',\n",
       " 'imag',\n",
       " 'item',\n",
       " 'itemset',\n",
       " 'itemsize',\n",
       " 'max',\n",
       " 'mean',\n",
       " 'min',\n",
       " 'nbytes',\n",
       " 'ndim',\n",
       " 'newbyteorder',\n",
       " 'nonzero',\n",
       " 'partition',\n",
       " 'prod',\n",
       " 'ptp',\n",
       " 'put',\n",
       " 'ravel',\n",
       " 'real',\n",
       " 'repeat',\n",
       " 'reshape',\n",
       " 'resize',\n",
       " 'round',\n",
       " 'searchsorted',\n",
       " 'setfield',\n",
       " 'setflags',\n",
       " 'shape',\n",
       " 'size',\n",
       " 'sort',\n",
       " 'squeeze',\n",
       " 'std',\n",
       " 'strides',\n",
       " 'sum',\n",
       " 'swapaxes',\n",
       " 'take',\n",
       " 'tobytes',\n",
       " 'tofile',\n",
       " 'tolist',\n",
       " 'tostring',\n",
       " 'trace',\n",
       " 'transpose',\n",
       " 'var',\n",
       " 'view']"
      ]
     },
     "execution_count": 69,
     "metadata": {},
     "output_type": "execute_result"
    }
   ],
   "source": [
    "dir(mla)"
   ]
  },
  {
   "cell_type": "code",
   "execution_count": 74,
   "metadata": {},
   "outputs": [
    {
     "data": {
      "text/plain": [
       "100.0"
      ]
     },
     "execution_count": 74,
     "metadata": {},
     "output_type": "execute_result"
    }
   ],
   "source": [
    "mla.item()"
   ]
  },
  {
   "cell_type": "markdown",
   "metadata": {},
   "source": []
  },
  {
   "cell_type": "code",
   "execution_count": 26,
   "metadata": {},
   "outputs": [
    {
     "data": {
      "text/plain": [
       "<matplotlib.collections.QuadMesh at 0x7faf9af31b70>"
      ]
     },
     "execution_count": 26,
     "metadata": {},
     "output_type": "execute_result"
    },
    {
     "data": {
      "image/png": "[encoded data removed]",
      "text/plain": [
       "<Figure size 432x288 with 2 Axes>"
      ]
     },
     "metadata": {
      "needs_background": "light"
     },
     "output_type": "display_data"
    }
   ],
   "source": [
    "%matplotlib inline\n",
    "sw.loc[0.5].plot()"
   ]
  },
  {
   "cell_type": "code",
   "execution_count": null,
   "metadata": {},
   "outputs": [],
   "source": []
  },
  {
   "cell_type": "code",
   "execution_count": 32,
   "metadata": {},
   "outputs": [
    {
     "data": {
      "text/plain": [
       "[<matplotlib.lines.Line2D at 0x7faf96dbbc88>]"
      ]
     },
     "execution_count": 32,
     "metadata": {},
     "output_type": "execute_result"
    },
    {
     "data": {
      "image/png": "[encoded data removed]",
      "text/plain": [
       "<Figure size 432x288 with 1 Axes>"
      ]
     },
     "metadata": {
      "needs_background": "light"
     },
     "output_type": "display_data"
    }
   ],
   "source": [
    "sw.loc[0.5]['x'].plot()"
   ]
  },
  {
   "cell_type": "code",
   "execution_count": 27,
   "metadata": {},
   "outputs": [],
   "source": [
    "# import matplotlib.pyplot as plt\n",
    "\n",
    "# newdata = sf_precip_2016 = precip_sf_xr['precipitation_amount'].values\n",
    "# plt.plot(newdata) # plotting by columns"
   ]
  },
  {
   "cell_type": "code",
   "execution_count": null,
   "metadata": {},
   "outputs": [],
   "source": []
  }
 ],
 "metadata": {
  "kernelspec": {
   "display_name": "Python 3",
   "language": "python",
   "name": "python3"
  },
  "language_info": {
   "codemirror_mode": {
    "name": "ipython",
    "version": 3
   },
   "file_extension": ".py",
   "mimetype": "text/x-python",
   "name": "python",
   "nbconvert_exporter": "python",
   "pygments_lexer": "ipython3",
   "version": "3.7.3"
  }
 },
 "nbformat": 4,
 "nbformat_minor": 4
}
