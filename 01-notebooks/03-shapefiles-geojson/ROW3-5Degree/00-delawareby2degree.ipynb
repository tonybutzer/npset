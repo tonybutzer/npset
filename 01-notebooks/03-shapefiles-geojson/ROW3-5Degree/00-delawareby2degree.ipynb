{
 "cells": [
  {
   "cell_type": "code",
   "execution_count": 1,
   "metadata": {},
   "outputs": [],
   "source": [
    "delaware_top = {\n",
    "       'ul_lat' : 50.0,\n",
    "       'lr_lat' : 40.0,\n",
    "       'start_lon' : -80.0,\n",
    "       'end_lon' : -70.0,\n",
    "       'increment' : 2\n",
    "   }"
   ]
  },
  {
   "cell_type": "code",
   "execution_count": 2,
   "metadata": {},
   "outputs": [
    {
     "name": "stdout",
     "output_type": "stream",
     "text": [
      "-80\n",
      "-78\n",
      "-76\n",
      "-74\n",
      "-72\n",
      "-70\n"
     ]
    }
   ],
   "source": [
    "#r0 = row_0_070N\n",
    "#r0=row_2_050N\n",
    "r0=delaware_top\n",
    "for lonval in range(int(r0['start_lon']), int(r0['end_lon']+r0['increment']), r0['increment']):\n",
    "    print (lonval)\n",
    "    "
   ]
  },
  {
   "cell_type": "code",
   "execution_count": 3,
   "metadata": {},
   "outputs": [],
   "source": [
    "def make_poly(row_dict, ul_lon):\n",
    "    coord_list = []\n",
    "    r = row_dict\n",
    "    ul_lon_lat = [ul_lon, r['ul_lat']]\n",
    "    ur_lon_lat = [ul_lon + r['increment'], r['ul_lat']]\n",
    "    lr_lon_lat = [ul_lon + r['increment'], r['lr_lat']]\n",
    "    ll_lon_lat = [ul_lon, r['lr_lat']]\n",
    "    print (ul_lon_lat)\n",
    "    coord_list.append(ul_lon_lat)\n",
    "    print (ur_lon_lat)\n",
    "    coord_list.append(ur_lon_lat)\n",
    "    print (lr_lon_lat)\n",
    "    coord_list.append(lr_lon_lat)\n",
    "    print (ll_lon_lat)\n",
    "    coord_list.append(ll_lon_lat)\n",
    "    print (ul_lon_lat)\n",
    "    coord_list.append(ul_lon_lat)\n",
    "    return(coord_list)"
   ]
  },
  {
   "cell_type": "code",
   "execution_count": 4,
   "metadata": {},
   "outputs": [
    {
     "name": "stdout",
     "output_type": "stream",
     "text": [
      "[-80.0, 50.0]\n",
      "[-78.0, 50.0]\n",
      "[-78.0, 40.0]\n",
      "[-80.0, 40.0]\n",
      "[-80.0, 50.0]\n"
     ]
    }
   ],
   "source": [
    "ul_lon = -80.0\n",
    "coords = make_poly(r0, ul_lon)"
   ]
  },
  {
   "cell_type": "code",
   "execution_count": 5,
   "metadata": {},
   "outputs": [
    {
     "data": {
      "text/plain": [
       "[[-80.0, 50.0], [-78.0, 50.0], [-78.0, 40.0], [-80.0, 40.0], [-80.0, 50.0]]"
      ]
     },
     "execution_count": 5,
     "metadata": {},
     "output_type": "execute_result"
    }
   ],
   "source": [
    "coords"
   ]
  },
  {
   "cell_type": "code",
   "execution_count": 6,
   "metadata": {},
   "outputs": [],
   "source": [
    "polycs = []\n",
    "polycs.append(coords)"
   ]
  },
  {
   "cell_type": "code",
   "execution_count": 7,
   "metadata": {},
   "outputs": [],
   "source": [
    "import json\n",
    "geos = []\n",
    "for polyc in polycs:\n",
    "    poly = {\n",
    "        'type': 'Feature',\n",
    "        'properties': {},\n",
    "        'geometry': {\n",
    "            'type': 'Polygon',\n",
    "            'coordinates': [polyc]\n",
    "        }\n",
    "    }\n",
    "    geos.append(poly)\n",
    "\n",
    "geometries = {\n",
    "    'type': 'FeatureCollection',\n",
    "    'features': geos,\n",
    "}\n",
    "\n",
    "geo_str = json.dumps(geometries) "
   ]
  },
  {
   "cell_type": "code",
   "execution_count": 8,
   "metadata": {},
   "outputs": [
    {
     "data": {
      "text/plain": [
       "'{\"type\": \"FeatureCollection\", \"features\": [{\"type\": \"Feature\", \"properties\": {}, \"geometry\": {\"type\": \"Polygon\", \"coordinates\": [[[-80.0, 50.0], [-78.0, 50.0], [-78.0, 40.0], [-80.0, 40.0], [-80.0, 50.0]]]}}]}'"
      ]
     },
     "execution_count": 8,
     "metadata": {},
     "output_type": "execute_result"
    }
   ],
   "source": [
    "geo_str"
   ]
  },
  {
   "cell_type": "code",
   "execution_count": 9,
   "metadata": {},
   "outputs": [
    {
     "name": "stdout",
     "output_type": "stream",
     "text": [
      "('{\"type\": \"FeatureCollection\", \"features\": [{\"type\": \"Feature\", \"properties\": '\n",
      " '{}, \"geometry\": {\"type\": \"Polygon\", \"coordinates\": [[[-80.0, 50.0], [-78.0, '\n",
      " '50.0], [-78.0, 40.0], [-80.0, 40.0], [-80.0, 50.0]]]}}]}')\n"
     ]
    }
   ],
   "source": [
    "import pprint\n",
    "pp = pprint.PrettyPrinter()\n",
    "pp.pprint(geo_str)"
   ]
  },
  {
   "cell_type": "code",
   "execution_count": 10,
   "metadata": {},
   "outputs": [
    {
     "name": "stdout",
     "output_type": "stream",
     "text": [
      "{ 'features': [ { 'geometry': { 'coordinates': [ [ [-80.0, 50.0],\n",
      "                                                   [-78.0, 50.0],\n",
      "                                                   [-78.0, 40.0],\n",
      "                                                   [-80.0, 40.0],\n",
      "                                                   [-80.0, 50.0]]],\n",
      "                                'type': 'Polygon'},\n",
      "                  'properties': {},\n",
      "                  'type': 'Feature'}],\n",
      "  'type': 'FeatureCollection'}\n"
     ]
    }
   ],
   "source": [
    "pp = pprint.PrettyPrinter(indent=2)\n",
    "pp.pprint(geometries)"
   ]
  },
  {
   "cell_type": "code",
   "execution_count": 11,
   "metadata": {},
   "outputs": [
    {
     "name": "stdout",
     "output_type": "stream",
     "text": [
      "{\"type\": \"FeatureCollection\", \"features\": [{\"type\": \"Feature\", \"properties\": {}, \"geometry\": {\"type\": \"Polygon\", \"coordinates\": [[[-80.0, 50.0], [-78.0, 50.0], [-78.0, 40.0], [-80.0, 40.0], [-80.0, 50.0]]]}}]}\n"
     ]
    }
   ],
   "source": [
    "f = open(\"demofile3.txt\", \"w\")\n",
    "f.write(geo_str)\n",
    "f.close()\n",
    "\n",
    "#open and read the file after the appending:\n",
    "f = open(\"demofile3.txt\", \"r\")\n",
    "print(f.read())"
   ]
  },
  {
   "cell_type": "code",
   "execution_count": 12,
   "metadata": {},
   "outputs": [
    {
     "name": "stdout",
     "output_type": "stream",
     "text": [
      "{\r\n",
      "    \"type\": \"FeatureCollection\",\r\n",
      "    \"features\": [\r\n",
      "        {\r\n",
      "            \"type\": \"Feature\",\r\n",
      "            \"properties\": {},\r\n",
      "            \"geometry\": {\r\n",
      "                \"type\": \"Polygon\",\r\n",
      "                \"coordinates\": [\r\n",
      "                    [\r\n",
      "                        [\r\n",
      "                            -80.0,\r\n",
      "                            50.0\r\n",
      "                        ],\r\n",
      "                        [\r\n",
      "                            -78.0,\r\n",
      "                            50.0\r\n",
      "                        ],\r\n",
      "                        [\r\n",
      "                            -78.0,\r\n",
      "                            40.0\r\n",
      "                        ],\r\n",
      "                        [\r\n",
      "                            -80.0,\r\n",
      "                            40.0\r\n",
      "                        ],\r\n",
      "                        [\r\n",
      "                            -80.0,\r\n",
      "                            50.0\r\n",
      "                        ]\r\n",
      "                    ]\r\n",
      "                ]\r\n",
      "            }\r\n",
      "        }\r\n",
      "    ]\r\n",
      "}\r\n"
     ]
    }
   ],
   "source": [
    "! cat demofile3.txt | python3 -m json.tool"
   ]
  },
  {
   "cell_type": "code",
   "execution_count": 13,
   "metadata": {},
   "outputs": [
    {
     "name": "stdout",
     "output_type": "stream",
     "text": [
      "-80\n",
      "[-80, 50.0]\n",
      "[-78, 50.0]\n",
      "[-78, 40.0]\n",
      "[-80, 40.0]\n",
      "[-80, 50.0]\n",
      "-78\n",
      "[-78, 50.0]\n",
      "[-76, 50.0]\n",
      "[-76, 40.0]\n",
      "[-78, 40.0]\n",
      "[-78, 50.0]\n",
      "-76\n",
      "[-76, 50.0]\n",
      "[-74, 50.0]\n",
      "[-74, 40.0]\n",
      "[-76, 40.0]\n",
      "[-76, 50.0]\n",
      "-74\n",
      "[-74, 50.0]\n",
      "[-72, 50.0]\n",
      "[-72, 40.0]\n",
      "[-74, 40.0]\n",
      "[-74, 50.0]\n",
      "-72\n",
      "[-72, 50.0]\n",
      "[-70, 50.0]\n",
      "[-70, 40.0]\n",
      "[-72, 40.0]\n",
      "[-72, 50.0]\n",
      "-70\n",
      "[-70, 50.0]\n",
      "[-68, 50.0]\n",
      "[-68, 40.0]\n",
      "[-70, 40.0]\n",
      "[-70, 50.0]\n"
     ]
    }
   ],
   "source": [
    "r0 = delaware_top\n",
    "polycs = []\n",
    "for lonval in range(int(r0['start_lon']), int(r0['end_lon']+r0['increment']), r0['increment']):\n",
    "    print (lonval)\n",
    "    coords = make_poly(r0, lonval)\n",
    "    polycs.append(coords)"
   ]
  },
  {
   "cell_type": "code",
   "execution_count": 14,
   "metadata": {},
   "outputs": [],
   "source": [
    "import json\n",
    "geos = []\n",
    "for polyc in polycs:\n",
    "    poly = {\n",
    "        'type': 'Feature',\n",
    "        'properties': {},\n",
    "        'geometry': {\n",
    "            'type': 'Polygon',\n",
    "            'coordinates': [polyc]\n",
    "        }\n",
    "    }\n",
    "    geos.append(poly)\n",
    "\n",
    "geometries = {\n",
    "    'type': 'FeatureCollection',\n",
    "    'features': geos,\n",
    "}\n",
    "\n",
    "geo_str = json.dumps(geometries) "
   ]
  },
  {
   "cell_type": "code",
   "execution_count": 15,
   "metadata": {},
   "outputs": [
    {
     "data": {
      "text/plain": [
       "'{\"type\": \"FeatureCollection\", \"features\": [{\"type\": \"Feature\", \"properties\": {}, \"geometry\": {\"type\": \"Polygon\", \"coordinates\": [[[-80, 50.0], [-78, 50.0], [-78, 40.0], [-80, 40.0], [-80, 50.0]]]}}, {\"type\": \"Feature\", \"properties\": {}, \"geometry\": {\"type\": \"Polygon\", \"coordinates\": [[[-78, 50.0], [-76, 50.0], [-76, 40.0], [-78, 40.0], [-78, 50.0]]]}}, {\"type\": \"Feature\", \"properties\": {}, \"geometry\": {\"type\": \"Polygon\", \"coordinates\": [[[-76, 50.0], [-74, 50.0], [-74, 40.0], [-76, 40.0], [-76, 50.0]]]}}, {\"type\": \"Feature\", \"properties\": {}, \"geometry\": {\"type\": \"Polygon\", \"coordinates\": [[[-74, 50.0], [-72, 50.0], [-72, 40.0], [-74, 40.0], [-74, 50.0]]]}}, {\"type\": \"Feature\", \"properties\": {}, \"geometry\": {\"type\": \"Polygon\", \"coordinates\": [[[-72, 50.0], [-70, 50.0], [-70, 40.0], [-72, 40.0], [-72, 50.0]]]}}, {\"type\": \"Feature\", \"properties\": {}, \"geometry\": {\"type\": \"Polygon\", \"coordinates\": [[[-70, 50.0], [-68, 50.0], [-68, 40.0], [-70, 40.0], [-70, 50.0]]]}}]}'"
      ]
     },
     "execution_count": 15,
     "metadata": {},
     "output_type": "execute_result"
    }
   ],
   "source": [
    "geo_str"
   ]
  },
  {
   "cell_type": "code",
   "execution_count": 16,
   "metadata": {},
   "outputs": [],
   "source": [
    "import json\n",
    "with open('row3.json', 'w', encoding='utf-8') as f:\n",
    "    json.dump(geometries, f, ensure_ascii=False, indent=4)"
   ]
  },
  {
   "cell_type": "code",
   "execution_count": 17,
   "metadata": {},
   "outputs": [
    {
     "name": "stdout",
     "output_type": "stream",
     "text": [
      "{\r\n",
      "    \"type\": \"FeatureCollection\",\r\n",
      "    \"features\": [\r\n",
      "        {\r\n",
      "            \"type\": \"Feature\",\r\n",
      "            \"properties\": {},\r\n",
      "            \"geometry\": {\r\n",
      "                \"type\": \"Polygon\",\r\n",
      "                \"coordinates\": [\r\n",
      "                    [\r\n",
      "                        [\r\n",
      "                            -80,\r\n",
      "                            50.0\r\n",
      "                        ],\r\n",
      "                        [\r\n",
      "                            -78,\r\n",
      "                            50.0\r\n",
      "                        ],\r\n",
      "                        [\r\n",
      "                            -78,\r\n",
      "                            40.0\r\n",
      "                        ],\r\n",
      "                        [\r\n",
      "                            -80,\r\n",
      "                            40.0\r\n",
      "                        ],\r\n",
      "                        [\r\n",
      "                            -80,\r\n",
      "                            50.0\r\n",
      "                        ]\r\n",
      "                    ]\r\n",
      "                ]\r\n",
      "            }\r\n",
      "        },\r\n",
      "        {\r\n",
      "            \"type\": \"Feature\",\r\n",
      "            \"properties\": {},\r\n",
      "            \"geometry\": {\r\n",
      "                \"type\": \"Polygon\",\r\n",
      "                \"coordinates\": [\r\n",
      "                    [\r\n",
      "                        [\r\n",
      "                            -78,\r\n",
      "                            50.0\r\n",
      "                        ],\r\n",
      "                        [\r\n",
      "                            -76,\r\n",
      "                            50.0\r\n",
      "                        ],\r\n",
      "                        [\r\n",
      "                            -76,\r\n",
      "                            40.0\r\n",
      "                        ],\r\n",
      "                        [\r\n",
      "                            -78,\r\n",
      "                            40.0\r\n",
      "                        ],\r\n",
      "                        [\r\n",
      "                            -78,\r\n",
      "                            50.0\r\n",
      "                        ]\r\n",
      "                    ]\r\n",
      "                ]\r\n",
      "            }\r\n",
      "        },\r\n",
      "        {\r\n",
      "            \"type\": \"Feature\",\r\n",
      "            \"properties\": {},\r\n",
      "            \"geometry\": {\r\n",
      "                \"type\": \"Polygon\",\r\n",
      "                \"coordinates\": [\r\n",
      "                    [\r\n",
      "                        [\r\n",
      "                            -76,\r\n",
      "                            50.0\r\n",
      "                        ],\r\n",
      "                        [\r\n",
      "                            -74,\r\n",
      "                            50.0\r\n",
      "                        ],\r\n",
      "                        [\r\n",
      "                            -74,\r\n",
      "                            40.0\r\n",
      "                        ],\r\n",
      "                        [\r\n",
      "                            -76,\r\n",
      "                            40.0\r\n",
      "                        ],\r\n",
      "                        [\r\n",
      "                            -76,\r\n",
      "                            50.0\r\n",
      "                        ]\r\n",
      "                    ]\r\n",
      "                ]\r\n",
      "            }\r\n",
      "        },\r\n",
      "        {\r\n",
      "            \"type\": \"Feature\",\r\n",
      "            \"properties\": {},\r\n",
      "            \"geometry\": {\r\n",
      "                \"type\": \"Polygon\",\r\n",
      "                \"coordinates\": [\r\n",
      "                    [\r\n",
      "                        [\r\n",
      "                            -74,\r\n",
      "                            50.0\r\n",
      "                        ],\r\n",
      "                        [\r\n",
      "                            -72,\r\n",
      "                            50.0\r\n",
      "                        ],\r\n",
      "                        [\r\n",
      "                            -72,\r\n",
      "                            40.0\r\n",
      "                        ],\r\n",
      "                        [\r\n",
      "                            -74,\r\n",
      "                            40.0\r\n",
      "                        ],\r\n",
      "                        [\r\n",
      "                            -74,\r\n",
      "                            50.0\r\n",
      "                        ]\r\n",
      "                    ]\r\n",
      "                ]\r\n",
      "            }\r\n",
      "        },\r\n",
      "        {\r\n",
      "            \"type\": \"Feature\",\r\n",
      "            \"properties\": {},\r\n",
      "            \"geometry\": {\r\n",
      "                \"type\": \"Polygon\",\r\n",
      "                \"coordinates\": [\r\n",
      "                    [\r\n",
      "                        [\r\n",
      "                            -72,\r\n",
      "                            50.0\r\n",
      "                        ],\r\n",
      "                        [\r\n",
      "                            -70,\r\n",
      "                            50.0\r\n",
      "                        ],\r\n",
      "                        [\r\n",
      "                            -70,\r\n",
      "                            40.0\r\n",
      "                        ],\r\n",
      "                        [\r\n",
      "                            -72,\r\n",
      "                            40.0\r\n",
      "                        ],\r\n",
      "                        [\r\n",
      "                            -72,\r\n",
      "                            50.0\r\n",
      "                        ]\r\n",
      "                    ]\r\n",
      "                ]\r\n",
      "            }\r\n",
      "        },\r\n",
      "        {\r\n",
      "            \"type\": \"Feature\",\r\n",
      "            \"properties\": {},\r\n",
      "            \"geometry\": {\r\n",
      "                \"type\": \"Polygon\",\r\n",
      "                \"coordinates\": [\r\n",
      "                    [\r\n",
      "                        [\r\n",
      "                            -70,\r\n",
      "                            50.0\r\n",
      "                        ],\r\n",
      "                        [\r\n",
      "                            -68,\r\n",
      "                            50.0\r\n",
      "                        ],\r\n",
      "                        [\r\n",
      "                            -68,\r\n",
      "                            40.0\r\n",
      "                        ],\r\n",
      "                        [\r\n",
      "                            -70,\r\n",
      "                            40.0\r\n",
      "                        ],\r\n",
      "                        [\r\n",
      "                            -70,\r\n",
      "                            50.0\r\n",
      "                        ]\r\n",
      "                    ]\r\n",
      "                ]\r\n",
      "            }\r\n",
      "        }\r\n",
      "    ]\r\n",
      "}"
     ]
    }
   ],
   "source": [
    "! cat row3.json"
   ]
  },
  {
   "cell_type": "code",
   "execution_count": 18,
   "metadata": {},
   "outputs": [],
   "source": [
    "import json\n",
    "def w_geojson(filename,polyc):\n",
    "    geos = []\n",
    "\n",
    "    poly = {\n",
    "        'type': 'Feature',\n",
    "        'properties': {},\n",
    "        'geometry': {\n",
    "            'type': 'Polygon',\n",
    "            'coordinates': [polyc]\n",
    "        }\n",
    "    }\n",
    "    geos.append(poly)\n",
    "\n",
    "    geometries = {\n",
    "        'type': 'FeatureCollection',\n",
    "        'features': geos,\n",
    "    }\n",
    "\n",
    "    with open(filename, 'w', encoding='utf-8') as f:\n",
    "        json.dump(geometries, f, ensure_ascii=False, indent=4)"
   ]
  },
  {
   "cell_type": "code",
   "execution_count": 19,
   "metadata": {},
   "outputs": [],
   "source": [
    "import os\n",
    "def w_shape(filename):\n",
    "    shp_filename = filename.split('.json')[0] + '.shp'\n",
    "    print(filename,shp_filename)\n",
    "    cmd='ogr2ogr -f \\\"ESRI Shapefile\\\" {} {}'.format(shp_filename, filename)\n",
    "    os.system(cmd)\n",
    "    "
   ]
  },
  {
   "cell_type": "code",
   "execution_count": 20,
   "metadata": {},
   "outputs": [
    {
     "name": "stdout",
     "output_type": "stream",
     "text": [
      "[[-80, 50.0], [-78, 50.0], [-78, 40.0], [-80, 40.0], [-80, 50.0]]\n",
      "50N-80E.json\n",
      "------------------------------------------------------------\n",
      "50N-80E.json 50N-80E.shp\n",
      "[[-78, 50.0], [-76, 50.0], [-76, 40.0], [-78, 40.0], [-78, 50.0]]\n",
      "50N-78E.json\n",
      "------------------------------------------------------------\n",
      "50N-78E.json 50N-78E.shp\n",
      "[[-76, 50.0], [-74, 50.0], [-74, 40.0], [-76, 40.0], [-76, 50.0]]\n",
      "50N-76E.json\n",
      "------------------------------------------------------------\n",
      "50N-76E.json 50N-76E.shp\n",
      "[[-74, 50.0], [-72, 50.0], [-72, 40.0], [-74, 40.0], [-74, 50.0]]\n",
      "50N-74E.json\n",
      "------------------------------------------------------------\n",
      "50N-74E.json 50N-74E.shp\n",
      "[[-72, 50.0], [-70, 50.0], [-70, 40.0], [-72, 40.0], [-72, 50.0]]\n",
      "50N-72E.json\n",
      "------------------------------------------------------------\n",
      "50N-72E.json 50N-72E.shp\n",
      "[[-70, 50.0], [-68, 50.0], [-68, 40.0], [-70, 40.0], [-70, 50.0]]\n",
      "50N-70E.json\n",
      "------------------------------------------------------------\n",
      "50N-70E.json 50N-70E.shp\n"
     ]
    }
   ],
   "source": [
    "for polyc in polycs:\n",
    "    print (polyc)\n",
    "    filename = str(int(polyc[0][1])) +'N' + str(int(polyc[0][0])) +'E.json'\n",
    "    print(filename)\n",
    "    print('---'*20)\n",
    "    w_geojson(filename,polyc)\n",
    "    w_shape(filename)"
   ]
  },
  {
   "cell_type": "code",
   "execution_count": 21,
   "metadata": {},
   "outputs": [
    {
     "name": "stdout",
     "output_type": "stream",
     "text": [
      "00-delawareby2degree.ipynb  40N-120E.json  40N-85E.shx\t 50N-74E.prj\r\n",
      "00-row-3-geojson-by5.ipynb  40N-120E.prj   40N-90E.dbf\t 50N-74E.shp\r\n",
      "40N-100E.dbf\t\t    40N-120E.shp   40N-90E.json  50N-74E.shx\r\n",
      "40N-100E.json\t\t    40N-120E.shx   40N-90E.prj\t 50N-76E.dbf\r\n",
      "40N-100E.prj\t\t    40N-125E.dbf   40N-90E.shp\t 50N-76E.json\r\n",
      "40N-100E.shp\t\t    40N-125E.json  40N-90E.shx\t 50N-76E.prj\r\n",
      "40N-100E.shx\t\t    40N-125E.prj   40N-95E.dbf\t 50N-76E.shp\r\n",
      "40N-105E.dbf\t\t    40N-125E.shp   40N-95E.json  50N-76E.shx\r\n",
      "40N-105E.json\t\t    40N-125E.shx   40N-95E.prj\t 50N-78E.dbf\r\n",
      "40N-105E.prj\t\t    40N-130E.dbf   40N-95E.shp\t 50N-78E.json\r\n",
      "40N-105E.shp\t\t    40N-130E.json  40N-95E.shx\t 50N-78E.prj\r\n",
      "40N-105E.shx\t\t    40N-130E.prj   50N-70E.dbf\t 50N-78E.shp\r\n",
      "40N-110E.dbf\t\t    40N-130E.shp   50N-70E.json  50N-78E.shx\r\n",
      "40N-110E.json\t\t    40N-130E.shx   50N-70E.prj\t 50N-80E.dbf\r\n",
      "40N-110E.prj\t\t    40N-80E.dbf    50N-70E.shp\t 50N-80E.json\r\n",
      "40N-110E.shp\t\t    40N-80E.json   50N-70E.shx\t 50N-80E.prj\r\n",
      "40N-110E.shx\t\t    40N-80E.prj    50N-72E.dbf\t 50N-80E.shp\r\n",
      "40N-115E.dbf\t\t    40N-80E.shp    50N-72E.json  50N-80E.shx\r\n",
      "40N-115E.json\t\t    40N-80E.shx    50N-72E.prj\t demofile3.txt\r\n",
      "40N-115E.prj\t\t    40N-85E.dbf    50N-72E.shp\t row3.json\r\n",
      "40N-115E.shp\t\t    40N-85E.json   50N-72E.shx\r\n",
      "40N-115E.shx\t\t    40N-85E.prj    50N-74E.dbf\r\n",
      "40N-120E.dbf\t\t    40N-85E.shp    50N-74E.json\r\n"
     ]
    }
   ],
   "source": [
    "!ls"
   ]
  },
  {
   "cell_type": "code",
   "execution_count": 22,
   "metadata": {},
   "outputs": [
    {
     "name": "stdout",
     "output_type": "stream",
     "text": [
      "{\r\n",
      "    \"type\": \"FeatureCollection\",\r\n",
      "    \"features\": [\r\n",
      "        {\r\n",
      "            \"type\": \"Feature\",\r\n",
      "            \"properties\": {},\r\n",
      "            \"geometry\": {\r\n",
      "                \"type\": \"Polygon\",\r\n",
      "                \"coordinates\": [\r\n",
      "                    [\r\n",
      "                        [\r\n",
      "                            -80,\r\n",
      "                            40.0\r\n",
      "                        ],\r\n",
      "                        [\r\n",
      "                            -75,\r\n",
      "                            40.0\r\n",
      "                        ],\r\n",
      "                        [\r\n",
      "                            -75,\r\n",
      "                            35.0\r\n",
      "                        ],\r\n",
      "                        [\r\n",
      "                            -80,\r\n",
      "                            35.0\r\n",
      "                        ],\r\n",
      "                        [\r\n",
      "                            -80,\r\n",
      "                            40.0\r\n",
      "                        ]\r\n",
      "                    ]\r\n",
      "                ]\r\n",
      "            }\r\n",
      "        }\r\n",
      "    ]\r\n",
      "}"
     ]
    }
   ],
   "source": [
    "!cat 40N-80E.json"
   ]
  },
  {
   "cell_type": "code",
   "execution_count": null,
   "metadata": {},
   "outputs": [],
   "source": []
  }
 ],
 "metadata": {
  "kernelspec": {
   "display_name": "Python 3",
   "language": "python",
   "name": "python3"
  },
  "language_info": {
   "codemirror_mode": {
    "name": "ipython",
    "version": 3
   },
   "file_extension": ".py",
   "mimetype": "text/x-python",
   "name": "python",
   "nbconvert_exporter": "python",
   "pygments_lexer": "ipython3",
   "version": "3.7.3"
  }
 },
 "nbformat": 4,
 "nbformat_minor": 4
}
