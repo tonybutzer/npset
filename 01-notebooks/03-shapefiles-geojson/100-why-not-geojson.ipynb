{
 "cells": [
  {
   "cell_type": "code",
   "execution_count": 1,
   "metadata": {},
   "outputs": [],
   "source": [
    "row_0_070N = {\n",
    "       'ul_lat' : 70.0,\n",
    "       'lr_lat' : 60.0,\n",
    "       'start_lon' : -180.0,\n",
    "       'end_lon' : -70.0,\n",
    "       'increment' : 10\n",
    "   }"
   ]
  },
  {
   "cell_type": "code",
   "execution_count": 32,
   "metadata": {},
   "outputs": [],
   "source": [
    "row_2_050N = {\n",
    "       'ul_lat' : 50.0,\n",
    "       'lr_lat' : 40.0,\n",
    "       'start_lon' : -130.0,\n",
    "       'end_lon' : -60.0,\n",
    "       'increment' : 10\n",
    "   }"
   ]
  },
  {
   "cell_type": "code",
   "execution_count": 33,
   "metadata": {},
   "outputs": [
    {
     "name": "stdout",
     "output_type": "stream",
     "text": [
      "-130\n",
      "-120\n",
      "-110\n",
      "-100\n",
      "-90\n",
      "-80\n",
      "-70\n",
      "-60\n"
     ]
    }
   ],
   "source": [
    "#r0 = row_0_070N\n",
    "r0=row_2_050N\n",
    "for lonval in range(int(r0['start_lon']), int(r0['end_lon']+r0['increment']), r0['increment']):\n",
    "    print (lonval)\n",
    "    "
   ]
  },
  {
   "cell_type": "code",
   "execution_count": 34,
   "metadata": {},
   "outputs": [],
   "source": [
    "def make_poly(row_dict, ul_lon):\n",
    "    coord_list = []\n",
    "    r = row_dict\n",
    "    ul_lon_lat = [ul_lon, r['ul_lat']]\n",
    "    ur_lon_lat = [ul_lon + r['increment'], r['ul_lat']]\n",
    "    lr_lon_lat = [ul_lon + r['increment'], r['lr_lat']]\n",
    "    ll_lon_lat = [ul_lon, r['lr_lat']]\n",
    "    print (ul_lon_lat)\n",
    "    coord_list.append(ul_lon_lat)\n",
    "    print (ur_lon_lat)\n",
    "    coord_list.append(ur_lon_lat)\n",
    "    print (lr_lon_lat)\n",
    "    coord_list.append(lr_lon_lat)\n",
    "    print (ll_lon_lat)\n",
    "    coord_list.append(ll_lon_lat)\n",
    "    print (ul_lon_lat)\n",
    "    coord_list.append(ul_lon_lat)\n",
    "    return(coord_list)"
   ]
  },
  {
   "cell_type": "code",
   "execution_count": 35,
   "metadata": {},
   "outputs": [
    {
     "name": "stdout",
     "output_type": "stream",
     "text": [
      "[-130.0, 50.0]\n",
      "[-120.0, 50.0]\n",
      "[-120.0, 40.0]\n",
      "[-130.0, 40.0]\n",
      "[-130.0, 50.0]\n"
     ]
    }
   ],
   "source": [
    "ul_lon = -130.0\n",
    "coords = make_poly(r0, ul_lon)"
   ]
  },
  {
   "cell_type": "code",
   "execution_count": 36,
   "metadata": {},
   "outputs": [
    {
     "data": {
      "text/plain": [
       "[[-130.0, 50.0],\n",
       " [-120.0, 50.0],\n",
       " [-120.0, 40.0],\n",
       " [-130.0, 40.0],\n",
       " [-130.0, 50.0]]"
      ]
     },
     "execution_count": 36,
     "metadata": {},
     "output_type": "execute_result"
    }
   ],
   "source": [
    "coords"
   ]
  },
  {
   "cell_type": "code",
   "execution_count": 37,
   "metadata": {},
   "outputs": [],
   "source": [
    "polycs = []\n",
    "polycs.append(coords)"
   ]
  },
  {
   "cell_type": "code",
   "execution_count": 38,
   "metadata": {},
   "outputs": [],
   "source": [
    "import json\n",
    "geos = []\n",
    "for polyc in polycs:\n",
    "    poly = {\n",
    "        'type': 'Feature',\n",
    "        'properties': {},\n",
    "        'geometry': {\n",
    "            'type': 'Polygon',\n",
    "            'coordinates': [polyc]\n",
    "        }\n",
    "    }\n",
    "    geos.append(poly)\n",
    "\n",
    "geometries = {\n",
    "    'type': 'FeatureCollection',\n",
    "    'features': geos,\n",
    "}\n",
    "\n",
    "geo_str = json.dumps(geometries) "
   ]
  },
  {
   "cell_type": "code",
   "execution_count": 39,
   "metadata": {},
   "outputs": [
    {
     "data": {
      "text/plain": [
       "'{\"type\": \"FeatureCollection\", \"features\": [{\"type\": \"Feature\", \"properties\": {}, \"geometry\": {\"type\": \"Polygon\", \"coordinates\": [[[-130.0, 50.0], [-120.0, 50.0], [-120.0, 40.0], [-130.0, 40.0], [-130.0, 50.0]]]}}]}'"
      ]
     },
     "execution_count": 39,
     "metadata": {},
     "output_type": "execute_result"
    }
   ],
   "source": [
    "geo_str"
   ]
  },
  {
   "cell_type": "code",
   "execution_count": 40,
   "metadata": {},
   "outputs": [
    {
     "name": "stdout",
     "output_type": "stream",
     "text": [
      "('{\"type\": \"FeatureCollection\", \"features\": [{\"type\": \"Feature\", \"properties\": '\n",
      " '{}, \"geometry\": {\"type\": \"Polygon\", \"coordinates\": [[[-130.0, 50.0], '\n",
      " '[-120.0, 50.0], [-120.0, 40.0], [-130.0, 40.0], [-130.0, 50.0]]]}}]}')\n"
     ]
    }
   ],
   "source": [
    "pp = pprint.PrettyPrinter()\n",
    "pp.pprint(geo_str)"
   ]
  },
  {
   "cell_type": "code",
   "execution_count": 41,
   "metadata": {},
   "outputs": [
    {
     "name": "stdout",
     "output_type": "stream",
     "text": [
      "{ 'features': [ { 'geometry': { 'coordinates': [ [ [-130.0, 50.0],\n",
      "                                                   [-120.0, 50.0],\n",
      "                                                   [-120.0, 40.0],\n",
      "                                                   [-130.0, 40.0],\n",
      "                                                   [-130.0, 50.0]]],\n",
      "                                'type': 'Polygon'},\n",
      "                  'properties': {},\n",
      "                  'type': 'Feature'}],\n",
      "  'type': 'FeatureCollection'}\n"
     ]
    }
   ],
   "source": [
    "pp = pprint.PrettyPrinter(indent=2)\n",
    "pp.pprint(geometries)"
   ]
  },
  {
   "cell_type": "code",
   "execution_count": 42,
   "metadata": {},
   "outputs": [
    {
     "name": "stdout",
     "output_type": "stream",
     "text": [
      "{\"type\": \"FeatureCollection\", \"features\": [{\"type\": \"Feature\", \"properties\": {}, \"geometry\": {\"type\": \"Polygon\", \"coordinates\": [[[-130.0, 50.0], [-120.0, 50.0], [-120.0, 40.0], [-130.0, 40.0], [-130.0, 50.0]]]}}]}\n"
     ]
    }
   ],
   "source": [
    "f = open(\"demofile3.txt\", \"w\")\n",
    "f.write(geo_str)\n",
    "f.close()\n",
    "\n",
    "#open and read the file after the appending:\n",
    "f = open(\"demofile3.txt\", \"r\")\n",
    "print(f.read())"
   ]
  },
  {
   "cell_type": "code",
   "execution_count": 43,
   "metadata": {},
   "outputs": [
    {
     "name": "stdout",
     "output_type": "stream",
     "text": [
      "{\r\n",
      "    \"type\": \"FeatureCollection\",\r\n",
      "    \"features\": [\r\n",
      "        {\r\n",
      "            \"type\": \"Feature\",\r\n",
      "            \"properties\": {},\r\n",
      "            \"geometry\": {\r\n",
      "                \"type\": \"Polygon\",\r\n",
      "                \"coordinates\": [\r\n",
      "                    [\r\n",
      "                        [\r\n",
      "                            -130.0,\r\n",
      "                            50.0\r\n",
      "                        ],\r\n",
      "                        [\r\n",
      "                            -120.0,\r\n",
      "                            50.0\r\n",
      "                        ],\r\n",
      "                        [\r\n",
      "                            -120.0,\r\n",
      "                            40.0\r\n",
      "                        ],\r\n",
      "                        [\r\n",
      "                            -130.0,\r\n",
      "                            40.0\r\n",
      "                        ],\r\n",
      "                        [\r\n",
      "                            -130.0,\r\n",
      "                            50.0\r\n",
      "                        ]\r\n",
      "                    ]\r\n",
      "                ]\r\n",
      "            }\r\n",
      "        }\r\n",
      "    ]\r\n",
      "}\r\n"
     ]
    }
   ],
   "source": [
    "! cat demofile3.txt | python3 -m json.tool"
   ]
  },
  {
   "cell_type": "code",
   "execution_count": 44,
   "metadata": {},
   "outputs": [
    {
     "name": "stdout",
     "output_type": "stream",
     "text": [
      "-130\n",
      "[-130, 50.0]\n",
      "[-120, 50.0]\n",
      "[-120, 40.0]\n",
      "[-130, 40.0]\n",
      "[-130, 50.0]\n",
      "-120\n",
      "[-120, 50.0]\n",
      "[-110, 50.0]\n",
      "[-110, 40.0]\n",
      "[-120, 40.0]\n",
      "[-120, 50.0]\n",
      "-110\n",
      "[-110, 50.0]\n",
      "[-100, 50.0]\n",
      "[-100, 40.0]\n",
      "[-110, 40.0]\n",
      "[-110, 50.0]\n",
      "-100\n",
      "[-100, 50.0]\n",
      "[-90, 50.0]\n",
      "[-90, 40.0]\n",
      "[-100, 40.0]\n",
      "[-100, 50.0]\n",
      "-90\n",
      "[-90, 50.0]\n",
      "[-80, 50.0]\n",
      "[-80, 40.0]\n",
      "[-90, 40.0]\n",
      "[-90, 50.0]\n",
      "-80\n",
      "[-80, 50.0]\n",
      "[-70, 50.0]\n",
      "[-70, 40.0]\n",
      "[-80, 40.0]\n",
      "[-80, 50.0]\n",
      "-70\n",
      "[-70, 50.0]\n",
      "[-60, 50.0]\n",
      "[-60, 40.0]\n",
      "[-70, 40.0]\n",
      "[-70, 50.0]\n",
      "-60\n",
      "[-60, 50.0]\n",
      "[-50, 50.0]\n",
      "[-50, 40.0]\n",
      "[-60, 40.0]\n",
      "[-60, 50.0]\n"
     ]
    }
   ],
   "source": [
    "r0 = row_2_050N\n",
    "polycs = []\n",
    "for lonval in range(int(r0['start_lon']), int(r0['end_lon']+r0['increment']), r0['increment']):\n",
    "    print (lonval)\n",
    "    coords = make_poly(r0, lonval)\n",
    "    polycs.append(coords)"
   ]
  },
  {
   "cell_type": "code",
   "execution_count": 45,
   "metadata": {},
   "outputs": [],
   "source": [
    "import json\n",
    "geos = []\n",
    "for polyc in polycs:\n",
    "    poly = {\n",
    "        'type': 'Feature',\n",
    "        'properties': {},\n",
    "        'geometry': {\n",
    "            'type': 'Polygon',\n",
    "            'coordinates': [polyc]\n",
    "        }\n",
    "    }\n",
    "    geos.append(poly)\n",
    "\n",
    "geometries = {\n",
    "    'type': 'FeatureCollection',\n",
    "    'features': geos,\n",
    "}\n",
    "\n",
    "geo_str = json.dumps(geometries) "
   ]
  },
  {
   "cell_type": "code",
   "execution_count": 46,
   "metadata": {},
   "outputs": [
    {
     "data": {
      "text/plain": [
       "'{\"type\": \"FeatureCollection\", \"features\": [{\"type\": \"Feature\", \"properties\": {}, \"geometry\": {\"type\": \"Polygon\", \"coordinates\": [[[-130, 50.0], [-120, 50.0], [-120, 40.0], [-130, 40.0], [-130, 50.0]]]}}, {\"type\": \"Feature\", \"properties\": {}, \"geometry\": {\"type\": \"Polygon\", \"coordinates\": [[[-120, 50.0], [-110, 50.0], [-110, 40.0], [-120, 40.0], [-120, 50.0]]]}}, {\"type\": \"Feature\", \"properties\": {}, \"geometry\": {\"type\": \"Polygon\", \"coordinates\": [[[-110, 50.0], [-100, 50.0], [-100, 40.0], [-110, 40.0], [-110, 50.0]]]}}, {\"type\": \"Feature\", \"properties\": {}, \"geometry\": {\"type\": \"Polygon\", \"coordinates\": [[[-100, 50.0], [-90, 50.0], [-90, 40.0], [-100, 40.0], [-100, 50.0]]]}}, {\"type\": \"Feature\", \"properties\": {}, \"geometry\": {\"type\": \"Polygon\", \"coordinates\": [[[-90, 50.0], [-80, 50.0], [-80, 40.0], [-90, 40.0], [-90, 50.0]]]}}, {\"type\": \"Feature\", \"properties\": {}, \"geometry\": {\"type\": \"Polygon\", \"coordinates\": [[[-80, 50.0], [-70, 50.0], [-70, 40.0], [-80, 40.0], [-80, 50.0]]]}}, {\"type\": \"Feature\", \"properties\": {}, \"geometry\": {\"type\": \"Polygon\", \"coordinates\": [[[-70, 50.0], [-60, 50.0], [-60, 40.0], [-70, 40.0], [-70, 50.0]]]}}, {\"type\": \"Feature\", \"properties\": {}, \"geometry\": {\"type\": \"Polygon\", \"coordinates\": [[[-60, 50.0], [-50, 50.0], [-50, 40.0], [-60, 40.0], [-60, 50.0]]]}}]}'"
      ]
     },
     "execution_count": 46,
     "metadata": {},
     "output_type": "execute_result"
    }
   ],
   "source": [
    "geo_str"
   ]
  },
  {
   "cell_type": "code",
   "execution_count": null,
   "metadata": {},
   "outputs": [],
   "source": []
  }
 ],
 "metadata": {
  "kernelspec": {
   "display_name": "Python 3",
   "language": "python",
   "name": "python3"
  },
  "language_info": {
   "codemirror_mode": {
    "name": "ipython",
    "version": 3
   },
   "file_extension": ".py",
   "mimetype": "text/x-python",
   "name": "python",
   "nbconvert_exporter": "python",
   "pygments_lexer": "ipython3",
   "version": "3.7.3"
  }
 },
 "nbformat": 4,
 "nbformat_minor": 4
}
