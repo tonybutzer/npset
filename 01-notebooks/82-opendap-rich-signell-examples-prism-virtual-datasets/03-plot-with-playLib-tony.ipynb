{
 "cells": [
  {
   "cell_type": "markdown",
   "metadata": {},
   "source": [
    "https://stackoverflow.com/questions/23176161/animating-pngs-in-matplotlib-using-artistanimation/28015795"
   ]
  },
  {
   "cell_type": "code",
   "execution_count": 1,
   "metadata": {},
   "outputs": [],
   "source": [
    "import playLib\n",
    "from playLib.pl_objects import Play"
   ]
  },
  {
   "cell_type": "code",
   "execution_count": 2,
   "metadata": {},
   "outputs": [],
   "source": [
    "pl=Play()\n"
   ]
  },
  {
   "cell_type": "code",
   "execution_count": 3,
   "metadata": {},
   "outputs": [
    {
     "data": {
      "text/plain": [
       "['__class__',\n",
       " '__delattr__',\n",
       " '__dict__',\n",
       " '__dir__',\n",
       " '__doc__',\n",
       " '__eq__',\n",
       " '__format__',\n",
       " '__ge__',\n",
       " '__getattribute__',\n",
       " '__gt__',\n",
       " '__hash__',\n",
       " '__init__',\n",
       " '__init_subclass__',\n",
       " '__le__',\n",
       " '__lt__',\n",
       " '__module__',\n",
       " '__ne__',\n",
       " '__new__',\n",
       " '__reduce__',\n",
       " '__reduce_ex__',\n",
       " '__repr__',\n",
       " '__setattr__',\n",
       " '__sizeof__',\n",
       " '__str__',\n",
       " '__subclasshook__',\n",
       " '__weakref__',\n",
       " 'pl_create_png']"
      ]
     },
     "execution_count": 3,
     "metadata": {},
     "output_type": "execute_result"
    }
   ],
   "source": [
    "dir(pl)"
   ]
  },
  {
   "cell_type": "code",
   "execution_count": 4,
   "metadata": {},
   "outputs": [],
   "source": [
    "\n",
    "import netCDF4\n",
    "url = 'http://geoport-dev.whoi.edu/thredds/dodsC/prism4/monthly'\n",
    "\n",
    "# create a dataset object\n",
    "dataset = netCDF4.Dataset(url)\n",
    " \n"
   ]
  },
  {
   "cell_type": "code",
   "execution_count": 5,
   "metadata": {},
   "outputs": [],
   "source": [
    "temp=dataset['temp_max'][1,:,:]"
   ]
  },
  {
   "cell_type": "code",
   "execution_count": 6,
   "metadata": {},
   "outputs": [
    {
     "data": {
      "image/png": "[encoded data removed]",
      "text/plain": [
       "<Figure size 720x576 with 2 Axes>"
      ]
     },
     "metadata": {
      "needs_background": "light"
     },
     "output_type": "display_data"
    }
   ],
   "source": [
    "pl.pl_create_png(\"./data/mygraphic.png\", array_name=temp, cmap='viridis')"
   ]
  },
  {
   "cell_type": "markdown",
   "metadata": {},
   "source": [
    "# Tutorial Plotting\n",
    "https://matplotlib.org/3.1.1/tutorials/introductory/pyplot.html#sphx-glr-tutorials-introductory-pyplot-py"
   ]
  },
  {
   "cell_type": "code",
   "execution_count": 10,
   "metadata": {},
   "outputs": [
    {
     "name": "stdout",
     "output_type": "stream",
     "text": [
      "00-plot-virtual-opendap-dataset-rich-signell-inspired.ipynb\r\n",
      "01-animate.ipynb\r\n",
      "02-plot-with-matplot-annotations.ipynb\r\n",
      "03-plot-with-playLib-tony.ipynb\r\n",
      "10hot_temp.gif\r\n",
      "data\r\n",
      "dynamic_images.gif\r\n",
      "temperatureAccent.png\r\n",
      "temperatureAccent_r.png\r\n",
      "temperatureBlues.png\r\n",
      "temperatureBlues_r.png\r\n",
      "temperatureBrBG.png\r\n",
      "temperatureBrBG_r.png\r\n",
      "temperatureBuGn.png\r\n",
      "temperatureBuGn_r.png\r\n",
      "temperatureBuPu.png\r\n",
      "temperatureBuPu_r.png\r\n",
      "temperatureCMRmap.png\r\n",
      "temperatureCMRmap_r.png\r\n",
      "temperatureDark2.png\r\n",
      "temperatureDark2_r.png\r\n",
      "temperatureGnBu.png\r\n",
      "temperatureGnBu_r.png\r\n",
      "temperatureGreens.png\r\n",
      "temperatureGreens_r.png\r\n",
      "temperatureGreys.png\r\n",
      "temperatureGreys_r.png\r\n",
      "temperatureOrRd.png\r\n",
      "temperatureOrRd_r.png\r\n",
      "temperatureOranges.png\r\n",
      "temperatureOranges_r.png\r\n",
      "temperaturePRGn.png\r\n",
      "temperaturePRGn_r.png\r\n",
      "temperaturePaired.png\r\n",
      "temperaturePaired_r.png\r\n",
      "temperaturePastel1.png\r\n",
      "temperaturePastel1_r.png\r\n",
      "temperaturePastel2.png\r\n",
      "temperaturePastel2_r.png\r\n",
      "temperaturePiYG.png\r\n",
      "temperaturePiYG_r.png\r\n",
      "temperaturePuBu.png\r\n",
      "temperaturePuBuGn.png\r\n",
      "temperaturePuBuGn_r.png\r\n",
      "temperaturePuBu_r.png\r\n",
      "temperaturePuOr.png\r\n",
      "temperaturePuOr_r.png\r\n",
      "temperaturePuRd.png\r\n",
      "temperaturePuRd_r.png\r\n",
      "temperaturePurples.png\r\n",
      "temperaturePurples_r.png\r\n",
      "temperatureRdBu.png\r\n",
      "temperatureRdBu_r.png\r\n",
      "temperatureRdGy.png\r\n",
      "temperatureRdGy_r.png\r\n",
      "temperatureRdPu.png\r\n",
      "temperatureRdPu_r.png\r\n",
      "temperatureRdYlBu.png\r\n",
      "temperatureRdYlBu_r.png\r\n",
      "temperatureRdYlGn.png\r\n",
      "temperatureRdYlGn_r.png\r\n",
      "temperatureReds.png\r\n",
      "temperatureReds_r.png\r\n",
      "temperatureSet1.png\r\n",
      "temperatureSet1_r.png\r\n",
      "temperatureSet2.png\r\n",
      "temperatureSet2_r.png\r\n",
      "temperatureSet3.png\r\n",
      "temperatureSet3_r.png\r\n",
      "temperatureSpectral.png\r\n",
      "temperatureSpectral_r.png\r\n",
      "temperatureWistia.png\r\n",
      "temperatureWistia_r.png\r\n",
      "temperatureYlGn.png\r\n",
      "temperatureYlGnBu.png\r\n",
      "temperatureYlGnBu_r.png\r\n",
      "temperatureYlGn_r.png\r\n",
      "temperatureYlOrBr.png\r\n",
      "temperatureYlOrBr_r.png\r\n",
      "temperatureYlOrRd.png\r\n",
      "temperatureYlOrRd_r.png\r\n",
      "temperatureafmhot.png\r\n",
      "temperatureafmhot_r.png\r\n",
      "temperatureautumn.png\r\n",
      "temperatureautumn_r.png\r\n",
      "temperaturebinary.png\r\n",
      "temperaturebinary_r.png\r\n",
      "temperaturebone.png\r\n",
      "temperaturebone_r.png\r\n",
      "temperaturebrg.png\r\n",
      "temperaturebrg_r.png\r\n",
      "temperaturebwr.png\r\n",
      "temperaturebwr_r.png\r\n",
      "temperaturecividis.png\r\n",
      "temperaturecividis_r.png\r\n",
      "temperaturecool.png\r\n",
      "temperaturecool_r.png\r\n",
      "temperaturecoolwarm.png\r\n",
      "temperaturecoolwarm_r.png\r\n",
      "temperaturecopper.png\r\n",
      "temperaturecopper_r.png\r\n",
      "temperaturecubehelix.png\r\n",
      "temperaturecubehelix_r.png\r\n",
      "temperatureflag.png\r\n",
      "temperatureflag_r.png\r\n",
      "temperaturegist_earth.png\r\n",
      "temperaturegist_earth_r.png\r\n",
      "temperaturegist_gray.png\r\n",
      "temperaturegist_gray_r.png\r\n",
      "temperaturegist_heat.png\r\n",
      "temperaturegist_heat_r.png\r\n",
      "temperaturegist_ncar.png\r\n",
      "temperaturegist_ncar_r.png\r\n",
      "temperaturegist_rainbow.png\r\n",
      "temperaturegist_rainbow_r.png\r\n",
      "temperaturegist_stern.png\r\n",
      "temperaturegist_stern_r.png\r\n",
      "temperaturegist_yarg.png\r\n",
      "temperaturegist_yarg_r.png\r\n",
      "temperaturegnuplot.png\r\n",
      "temperaturegnuplot2.png\r\n",
      "temperaturegnuplot2_r.png\r\n",
      "temperaturegnuplot_r.png\r\n",
      "temperaturegray.png\r\n",
      "temperaturegray_r.png\r\n",
      "temperaturehot.png\r\n",
      "temperaturehot_r.png\r\n",
      "temperaturehsv.png\r\n",
      "temperaturehsv_r.png\r\n",
      "temperatureinferno.png\r\n",
      "temperatureinferno_r.png\r\n",
      "temperaturejet.png\r\n",
      "temperaturejet_r.png\r\n",
      "temperaturemagma.png\r\n",
      "temperaturemagma_r.png\r\n",
      "temperaturenipy_spectral.png\r\n",
      "temperaturenipy_spectral_r.png\r\n",
      "temperatureocean.png\r\n",
      "temperatureocean_r.png\r\n",
      "temperaturepink.png\r\n",
      "temperaturepink_r.png\r\n",
      "temperatureplasma.png\r\n",
      "temperatureplasma_r.png\r\n",
      "temperatureprism.png\r\n",
      "temperatureprism_r.png\r\n",
      "temperaturerainbow.png\r\n",
      "temperaturerainbow_r.png\r\n",
      "temperatureseismic.png\r\n",
      "temperatureseismic_r.png\r\n",
      "temperaturespring.png\r\n",
      "temperaturespring_r.png\r\n",
      "temperaturesummer.png\r\n",
      "temperaturesummer_r.png\r\n",
      "temperaturetab10.png\r\n",
      "temperaturetab10_r.png\r\n",
      "temperaturetab20.png\r\n",
      "temperaturetab20_r.png\r\n",
      "temperaturetab20b.png\r\n",
      "temperaturetab20b_r.png\r\n",
      "temperaturetab20c.png\r\n",
      "temperaturetab20c_r.png\r\n",
      "temperatureterrain.png\r\n",
      "temperatureterrain_r.png\r\n",
      "temperaturetwilight.png\r\n",
      "temperaturetwilight_r.png\r\n",
      "temperaturetwilight_shifted.png\r\n",
      "total 164\r\n",
      "-rw-r--r-- 1 jupyter-butzer jupyter-butzer 164832 Mar 17 21:39 mygraphic.png\r\n"
     ]
    }
   ],
   "source": [
    "!ls && ls -l ./data"
   ]
  },
  {
   "cell_type": "code",
   "execution_count": null,
   "metadata": {},
   "outputs": [],
   "source": []
  }
 ],
 "metadata": {
  "kernelspec": {
   "display_name": "Python 3",
   "language": "python",
   "name": "python3"
  },
  "language_info": {
   "codemirror_mode": {
    "name": "ipython",
    "version": 3
   },
   "file_extension": ".py",
   "mimetype": "text/x-python",
   "name": "python",
   "nbconvert_exporter": "python",
   "pygments_lexer": "ipython3",
   "version": "3.7.3"
  }
 },
 "nbformat": 4,
 "nbformat_minor": 4
}
