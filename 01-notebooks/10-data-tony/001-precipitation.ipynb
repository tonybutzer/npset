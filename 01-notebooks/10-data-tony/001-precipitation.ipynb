{
 "cells": [
  {
   "cell_type": "markdown",
   "metadata": {},
   "source": [
    "# Precipitation\n",
    "\n",
    "https://towardsdatascience.com/handling-netcdf-files-using-xarray-for-absolute-beginners-111a8ab4463f"
   ]
  },
  {
   "cell_type": "code",
   "execution_count": 1,
   "metadata": {},
   "outputs": [
    {
     "name": "stdout",
     "output_type": "stream",
     "text": [
      "00-aoi-delaware-river-plus-modis-ndvi-animation.ipynb\r\n",
      "000-air-temperature.ipynb\r\n",
      "001-precipitation.ipynb\r\n",
      "002-soil-data.ipynb\r\n",
      "01-aoi-delaware-river-plus-modis-ndvi-animation-Copy1.ipynb\r\n",
      "10-bucket-ga-et-data-analysis.ipynb\r\n",
      "20-modis-scale-cole.ipynb\r\n",
      "2016.out\r\n",
      "80-play-with-rio.ipynb\r\n",
      "POLYGON.shp\r\n",
      "Readme.md\r\n",
      "delaware.tif\r\n",
      "delaware_river_basin.geojson\r\n",
      "output.tif\r\n"
     ]
    }
   ],
   "source": [
    "! ls"
   ]
  },
  {
   "cell_type": "code",
   "execution_count": 2,
   "metadata": {},
   "outputs": [
    {
     "name": "stdout",
     "output_type": "stream",
     "text": [
      "                           PRE MODIS_NDVI/\r\n",
      "                           PRE air_temperature/\r\n",
      "                           PRE precipitation/\r\n",
      "                           PRE soilData/\r\n"
     ]
    }
   ],
   "source": [
    "! aws s3 ls ga-et-data/inputsv0/"
   ]
  },
  {
   "cell_type": "code",
   "execution_count": 3,
   "metadata": {},
   "outputs": [
    {
     "name": "stdout",
     "output_type": "stream",
     "text": [
      "                           PRE netcdf/\r\n",
      "                           PRE tiff/\r\n"
     ]
    }
   ],
   "source": [
    "! aws s3 ls ga-et-data/inputsv0/precipitation/ | head"
   ]
  },
  {
   "cell_type": "code",
   "execution_count": 4,
   "metadata": {},
   "outputs": [
    {
     "name": "stdout",
     "output_type": "stream",
     "text": [
      "2020-02-26 05:05:50   54739982 pr_2013.nc\r\n",
      "2020-02-26 05:05:50   57777033 pr_2014.nc\r\n",
      "2020-02-26 05:05:50   61958423 pr_2015.nc\r\n",
      "2020-02-26 05:05:50   62976390 pr_2016.nc\r\n"
     ]
    }
   ],
   "source": [
    "! aws s3 ls ga-et-data/inputsv0/precipitation/netcdf/"
   ]
  },
  {
   "cell_type": "code",
   "execution_count": 5,
   "metadata": {},
   "outputs": [],
   "source": [
    "# blank"
   ]
  },
  {
   "cell_type": "code",
   "execution_count": 6,
   "metadata": {},
   "outputs": [
    {
     "data": {
      "text/plain": [
       "\"\\nimport xarray as xr# single file\\ndataDIR = '/vsis3/ga-et-data/inputsv0/precipitation/netcdf/pr_2016.nc'\\nDS = xr.open_dataset(dataDIR)\\n\""
      ]
     },
     "execution_count": 6,
     "metadata": {},
     "output_type": "execute_result"
    }
   ],
   "source": [
    "'''\n",
    "import xarray as xr# single file\n",
    "dataDIR = '/vsis3/ga-et-data/inputsv0/precipitation/netcdf/pr_2016.nc'\n",
    "DS = xr.open_dataset(dataDIR)\n",
    "'''"
   ]
  },
  {
   "cell_type": "code",
   "execution_count": 7,
   "metadata": {},
   "outputs": [
    {
     "name": "stdout",
     "output_type": "stream",
     "text": [
      "2020-02-26 05:05:50   60.1 MiB pr_2016.nc\r\n"
     ]
    }
   ],
   "source": [
    "! aws s3 ls s3://ga-et-data/inputsv0/precipitation/netcdf/pr_2016.nc --human"
   ]
  },
  {
   "cell_type": "code",
   "execution_count": 8,
   "metadata": {},
   "outputs": [
    {
     "name": "stdout",
     "output_type": "stream",
     "text": [
      "core-js-banners\r\n",
      "hellotony.txt\r\n",
      "namespace-dev-4SPqhm\r\n",
      "namespace-dev-lyA8J8\r\n",
      "npm-17138-34bd1c1b\r\n",
      "pr_2016.nc\r\n",
      "systemd-private-ce204d9c04eb45508fb15aa72f95b161-jupyterhub.service-PMv7GV\r\n",
      "systemd-private-ce204d9c04eb45508fb15aa72f95b161-systemd-resolved.service-KNQlMD\r\n",
      "systemd-private-ce204d9c04eb45508fb15aa72f95b161-systemd-timesyncd.service-iB6VoI\r\n",
      "systemd-private-ce204d9c04eb45508fb15aa72f95b161-traefik.service-xujOT8\r\n",
      "tmp7fq4wuga\r\n",
      "tmplaz7akie\r\n",
      "v8-compile-cache-0\r\n",
      "yarn--1582833220367-0.9625017254828843\r\n",
      "yarn--1582833221459-0.4661784606221018\r\n",
      "yarn--1582833222708-0.9278611190942783\r\n"
     ]
    }
   ],
   "source": [
    "! ls /tmp"
   ]
  },
  {
   "cell_type": "code",
   "execution_count": 9,
   "metadata": {},
   "outputs": [],
   "source": [
    "#!time aws s3 cp s3://ga-et-data/inputsv0/precipitation/netcdf/pr_2016.nc /tmp"
   ]
  },
  {
   "cell_type": "code",
   "execution_count": 10,
   "metadata": {},
   "outputs": [
    {
     "name": "stdout",
     "output_type": "stream",
     "text": [
      "/tmp/pr_2016.nc\r\n"
     ]
    }
   ],
   "source": [
    "!ls /tmp/pr*"
   ]
  },
  {
   "cell_type": "code",
   "execution_count": 11,
   "metadata": {},
   "outputs": [
    {
     "name": "stderr",
     "output_type": "stream",
     "text": [
      "/home/jupyter-butzer/.local/lib/python3.7/site-packages/xarray/conventions.py:494: SerializationWarning: variable 'precipitation_amount' has _Unsigned attribute but is not of integer type. Ignoring attribute.\n",
      "  use_cftime=use_cftime,\n"
     ]
    }
   ],
   "source": [
    "import xarray as xr# single file\n",
    "dataDIR = '/tmp/pr_2016.nc'\n",
    "DS = xr.open_dataset(dataDIR)"
   ]
  },
  {
   "cell_type": "code",
   "execution_count": 12,
   "metadata": {},
   "outputs": [
    {
     "data": {
      "text/html": [
       "<pre>&lt;xarray.Dataset&gt;\n",
       "Dimensions:               (crs: 1, day: 366, lat: 585, lon: 1386)\n",
       "Coordinates:\n",
       "  * lon                   (lon) float64 -124.8 -124.7 -124.7 ... -67.1 -67.06\n",
       "  * lat                   (lat) float64 49.4 49.36 49.32 ... 25.15 25.11 25.07\n",
       "  * day                   (day) datetime64[ns] 2016-01-01 ... 2016-12-31\n",
       "  * crs                   (crs) uint16 3\n",
       "Data variables:\n",
       "    precipitation_amount  (day, lat, lon) float32 ...\n",
       "Attributes:\n",
       "    geospatial_bounds_crs:      EPSG:4326\n",
       "    Conventions:                CF-1.6\n",
       "    geospatial_bounds:          POLYGON((-124.7666666333333 49.40000000000000...\n",
       "    geospatial_lat_min:         25.066666666666666\n",
       "    geospatial_lat_max:         49.40000000000000\n",
       "    geospatial_lon_min:         -124.7666666333333\n",
       "    geospatial_lon_max:         -67.058333300000015\n",
       "    geospatial_lon_resolution:  0.041666666666666\n",
       "    geospatial_lat_resolution:  0.041666666666666\n",
       "    geospatial_lat_units:       decimal_degrees north\n",
       "    geospatial_lon_units:       decimal_degrees east\n",
       "    coordinate_system:          EPSG:4326\n",
       "    author:                     John Abatzoglou - University of Idaho, jabatz...\n",
       "    date:                       04 July 2019\n",
       "    note1:                      The projection information for this file is: ...\n",
       "    note2:                      Citation: Abatzoglou, J.T., 2013, Development...\n",
       "    note3:                      Data in slices after last_permanent_slice (1-...\n",
       "    note4:                      Data in slices after last_provisional_slice (...\n",
       "    note5:                      Days correspond approximately to calendar day...</pre>"
      ],
      "text/plain": [
       "<xarray.Dataset>\n",
       "Dimensions:               (crs: 1, day: 366, lat: 585, lon: 1386)\n",
       "Coordinates:\n",
       "  * lon                   (lon) float64 -124.8 -124.7 -124.7 ... -67.1 -67.06\n",
       "  * lat                   (lat) float64 49.4 49.36 49.32 ... 25.15 25.11 25.07\n",
       "  * day                   (day) datetime64[ns] 2016-01-01 ... 2016-12-31\n",
       "  * crs                   (crs) uint16 3\n",
       "Data variables:\n",
       "    precipitation_amount  (day, lat, lon) float32 ...\n",
       "Attributes:\n",
       "    geospatial_bounds_crs:      EPSG:4326\n",
       "    Conventions:                CF-1.6\n",
       "    geospatial_bounds:          POLYGON((-124.7666666333333 49.40000000000000...\n",
       "    geospatial_lat_min:         25.066666666666666\n",
       "    geospatial_lat_max:         49.40000000000000\n",
       "    geospatial_lon_min:         -124.7666666333333\n",
       "    geospatial_lon_max:         -67.058333300000015\n",
       "    geospatial_lon_resolution:  0.041666666666666\n",
       "    geospatial_lat_resolution:  0.041666666666666\n",
       "    geospatial_lat_units:       decimal_degrees north\n",
       "    geospatial_lon_units:       decimal_degrees east\n",
       "    coordinate_system:          EPSG:4326\n",
       "    author:                     John Abatzoglou - University of Idaho, jabatz...\n",
       "    date:                       04 July 2019\n",
       "    note1:                      The projection information for this file is: ...\n",
       "    note2:                      Citation: Abatzoglou, J.T., 2013, Development...\n",
       "    note3:                      Data in slices after last_permanent_slice (1-...\n",
       "    note4:                      Data in slices after last_provisional_slice (...\n",
       "    note5:                      Days correspond approximately to calendar day..."
      ]
     },
     "execution_count": 12,
     "metadata": {},
     "output_type": "execute_result"
    }
   ],
   "source": [
    "DS"
   ]
  },
  {
   "cell_type": "code",
   "execution_count": 13,
   "metadata": {},
   "outputs": [
    {
     "data": {
      "text/plain": [
       "Frozen(SortedKeysDict({'lon': 1386, 'lat': 585, 'day': 366, 'crs': 1}))"
      ]
     },
     "execution_count": 13,
     "metadata": {},
     "output_type": "execute_result"
    }
   ],
   "source": [
    "DS.dims"
   ]
  },
  {
   "cell_type": "code",
   "execution_count": 14,
   "metadata": {},
   "outputs": [],
   "source": [
    "# Noice! - 366 days over a bunch of lat longs - Preciptation - Fantastic"
   ]
  },
  {
   "cell_type": "code",
   "execution_count": 15,
   "metadata": {},
   "outputs": [
    {
     "data": {
      "text/plain": [
       "<bound method Mapping.values of <xarray.Dataset>\n",
       "Dimensions:               (crs: 1, day: 366, lat: 585, lon: 1386)\n",
       "Coordinates:\n",
       "  * lon                   (lon) float64 -124.8 -124.7 -124.7 ... -67.1 -67.06\n",
       "  * lat                   (lat) float64 49.4 49.36 49.32 ... 25.15 25.11 25.07\n",
       "  * day                   (day) datetime64[ns] 2016-01-01 ... 2016-12-31\n",
       "  * crs                   (crs) uint16 3\n",
       "Data variables:\n",
       "    precipitation_amount  (day, lat, lon) float32 ...\n",
       "Attributes:\n",
       "    geospatial_bounds_crs:      EPSG:4326\n",
       "    Conventions:                CF-1.6\n",
       "    geospatial_bounds:          POLYGON((-124.7666666333333 49.40000000000000...\n",
       "    geospatial_lat_min:         25.066666666666666\n",
       "    geospatial_lat_max:         49.40000000000000\n",
       "    geospatial_lon_min:         -124.7666666333333\n",
       "    geospatial_lon_max:         -67.058333300000015\n",
       "    geospatial_lon_resolution:  0.041666666666666\n",
       "    geospatial_lat_resolution:  0.041666666666666\n",
       "    geospatial_lat_units:       decimal_degrees north\n",
       "    geospatial_lon_units:       decimal_degrees east\n",
       "    coordinate_system:          EPSG:4326\n",
       "    author:                     John Abatzoglou - University of Idaho, jabatz...\n",
       "    date:                       04 July 2019\n",
       "    note1:                      The projection information for this file is: ...\n",
       "    note2:                      Citation: Abatzoglou, J.T., 2013, Development...\n",
       "    note3:                      Data in slices after last_permanent_slice (1-...\n",
       "    note4:                      Data in slices after last_provisional_slice (...\n",
       "    note5:                      Days correspond approximately to calendar day...>"
      ]
     },
     "execution_count": 15,
     "metadata": {},
     "output_type": "execute_result"
    }
   ],
   "source": [
    "DS.values"
   ]
  },
  {
   "cell_type": "code",
   "execution_count": 16,
   "metadata": {},
   "outputs": [],
   "source": [
    "# Select data \n",
    "da = DS[dict(crs=0, day=365, lat=584, lon=1385)]\n",
    "#da_numpy = da.values"
   ]
  },
  {
   "cell_type": "code",
   "execution_count": 17,
   "metadata": {},
   "outputs": [
    {
     "data": {
      "text/html": [
       "<pre>&lt;xarray.Dataset&gt;\n",
       "Dimensions:               ()\n",
       "Coordinates:\n",
       "    lon                   float64 -67.06\n",
       "    lat                   float64 25.07\n",
       "    day                   datetime64[ns] 2016-12-31\n",
       "    crs                   uint16 3\n",
       "Data variables:\n",
       "    precipitation_amount  float32 ...\n",
       "Attributes:\n",
       "    geospatial_bounds_crs:      EPSG:4326\n",
       "    Conventions:                CF-1.6\n",
       "    geospatial_bounds:          POLYGON((-124.7666666333333 49.40000000000000...\n",
       "    geospatial_lat_min:         25.066666666666666\n",
       "    geospatial_lat_max:         49.40000000000000\n",
       "    geospatial_lon_min:         -124.7666666333333\n",
       "    geospatial_lon_max:         -67.058333300000015\n",
       "    geospatial_lon_resolution:  0.041666666666666\n",
       "    geospatial_lat_resolution:  0.041666666666666\n",
       "    geospatial_lat_units:       decimal_degrees north\n",
       "    geospatial_lon_units:       decimal_degrees east\n",
       "    coordinate_system:          EPSG:4326\n",
       "    author:                     John Abatzoglou - University of Idaho, jabatz...\n",
       "    date:                       04 July 2019\n",
       "    note1:                      The projection information for this file is: ...\n",
       "    note2:                      Citation: Abatzoglou, J.T., 2013, Development...\n",
       "    note3:                      Data in slices after last_permanent_slice (1-...\n",
       "    note4:                      Data in slices after last_provisional_slice (...\n",
       "    note5:                      Days correspond approximately to calendar day...</pre>"
      ],
      "text/plain": [
       "<xarray.Dataset>\n",
       "Dimensions:               ()\n",
       "Coordinates:\n",
       "    lon                   float64 -67.06\n",
       "    lat                   float64 25.07\n",
       "    day                   datetime64[ns] 2016-12-31\n",
       "    crs                   uint16 3\n",
       "Data variables:\n",
       "    precipitation_amount  float32 ...\n",
       "Attributes:\n",
       "    geospatial_bounds_crs:      EPSG:4326\n",
       "    Conventions:                CF-1.6\n",
       "    geospatial_bounds:          POLYGON((-124.7666666333333 49.40000000000000...\n",
       "    geospatial_lat_min:         25.066666666666666\n",
       "    geospatial_lat_max:         49.40000000000000\n",
       "    geospatial_lon_min:         -124.7666666333333\n",
       "    geospatial_lon_max:         -67.058333300000015\n",
       "    geospatial_lon_resolution:  0.041666666666666\n",
       "    geospatial_lat_resolution:  0.041666666666666\n",
       "    geospatial_lat_units:       decimal_degrees north\n",
       "    geospatial_lon_units:       decimal_degrees east\n",
       "    coordinate_system:          EPSG:4326\n",
       "    author:                     John Abatzoglou - University of Idaho, jabatz...\n",
       "    date:                       04 July 2019\n",
       "    note1:                      The projection information for this file is: ...\n",
       "    note2:                      Citation: Abatzoglou, J.T., 2013, Development...\n",
       "    note3:                      Data in slices after last_permanent_slice (1-...\n",
       "    note4:                      Data in slices after last_provisional_slice (...\n",
       "    note5:                      Days correspond approximately to calendar day..."
      ]
     },
     "execution_count": 17,
     "metadata": {},
     "output_type": "execute_result"
    }
   ],
   "source": [
    "# slice to one day - still the whole world\n",
    "da"
   ]
  },
  {
   "cell_type": "code",
   "execution_count": 18,
   "metadata": {},
   "outputs": [
    {
     "data": {
      "text/html": [
       "<pre>&lt;xarray.DataArray &#x27;precipitation_amount&#x27; ()&gt;\n",
       "array(nan, dtype=float32)\n",
       "Coordinates:\n",
       "    lon      float64 -67.06\n",
       "    lat      float64 25.07\n",
       "    day      datetime64[ns] 2016-12-31\n",
       "    crs      uint16 3\n",
       "Attributes:\n",
       "    units:              mm\n",
       "    description:        Daily Accumulated Precipitation\n",
       "    long_name:          pr\n",
       "    standard_name:      pr\n",
       "    dimensions:         lon lat time\n",
       "    grid_mapping:       crs\n",
       "    coordinate_system:  WGS84,EPSG:4326</pre>"
      ],
      "text/plain": [
       "<xarray.DataArray 'precipitation_amount' ()>\n",
       "array(nan, dtype=float32)\n",
       "Coordinates:\n",
       "    lon      float64 -67.06\n",
       "    lat      float64 25.07\n",
       "    day      datetime64[ns] 2016-12-31\n",
       "    crs      uint16 3\n",
       "Attributes:\n",
       "    units:              mm\n",
       "    description:        Daily Accumulated Precipitation\n",
       "    long_name:          pr\n",
       "    standard_name:      pr\n",
       "    dimensions:         lon lat time\n",
       "    grid_mapping:       crs\n",
       "    coordinate_system:  WGS84,EPSG:4326"
      ]
     },
     "execution_count": 18,
     "metadata": {},
     "output_type": "execute_result"
    }
   ],
   "source": [
    "da['precipitation_amount']"
   ]
  },
  {
   "cell_type": "code",
   "execution_count": 19,
   "metadata": {},
   "outputs": [
    {
     "data": {
      "text/html": [
       "<pre>&lt;xarray.DataArray &#x27;precipitation_amount&#x27; ()&gt;\n",
       "array(nan, dtype=float32)\n",
       "Coordinates:\n",
       "    lon      float64 -67.06\n",
       "    lat      float64 25.07\n",
       "    day      datetime64[ns] 2016-12-31\n",
       "    crs      uint16 3\n",
       "Attributes:\n",
       "    units:              mm\n",
       "    description:        Daily Accumulated Precipitation\n",
       "    long_name:          pr\n",
       "    standard_name:      pr\n",
       "    dimensions:         lon lat time\n",
       "    grid_mapping:       crs\n",
       "    coordinate_system:  WGS84,EPSG:4326</pre>"
      ],
      "text/plain": [
       "<xarray.DataArray 'precipitation_amount' ()>\n",
       "array(nan, dtype=float32)\n",
       "Coordinates:\n",
       "    lon      float64 -67.06\n",
       "    lat      float64 25.07\n",
       "    day      datetime64[ns] 2016-12-31\n",
       "    crs      uint16 3\n",
       "Attributes:\n",
       "    units:              mm\n",
       "    description:        Daily Accumulated Precipitation\n",
       "    long_name:          pr\n",
       "    standard_name:      pr\n",
       "    dimensions:         lon lat time\n",
       "    grid_mapping:       crs\n",
       "    coordinate_system:  WGS84,EPSG:4326"
      ]
     },
     "execution_count": 19,
     "metadata": {},
     "output_type": "execute_result"
    }
   ],
   "source": [
    "da['precipitation_amount']"
   ]
  },
  {
   "cell_type": "code",
   "execution_count": 20,
   "metadata": {},
   "outputs": [
    {
     "data": {
      "text/plain": [
       "array(nan, dtype=float32)"
      ]
     },
     "execution_count": 20,
     "metadata": {},
     "output_type": "execute_result"
    }
   ],
   "source": [
    "da['precipitation_amount'].values"
   ]
  },
  {
   "cell_type": "code",
   "execution_count": 21,
   "metadata": {},
   "outputs": [],
   "source": [
    "db = DS.loc[dict(day='2016-12-31')]"
   ]
  },
  {
   "cell_type": "markdown",
   "metadata": {},
   "source": [
    "# The above attempt was not quite right - this looks better"
   ]
  },
  {
   "cell_type": "code",
   "execution_count": 22,
   "metadata": {},
   "outputs": [
    {
     "data": {
      "text/html": [
       "<pre>&lt;xarray.Dataset&gt;\n",
       "Dimensions:               (crs: 1, lat: 585, lon: 1386)\n",
       "Coordinates:\n",
       "  * lon                   (lon) float64 -124.8 -124.7 -124.7 ... -67.1 -67.06\n",
       "  * lat                   (lat) float64 49.4 49.36 49.32 ... 25.15 25.11 25.07\n",
       "    day                   datetime64[ns] 2016-12-31\n",
       "  * crs                   (crs) uint16 3\n",
       "Data variables:\n",
       "    precipitation_amount  (lat, lon) float32 ...\n",
       "Attributes:\n",
       "    geospatial_bounds_crs:      EPSG:4326\n",
       "    Conventions:                CF-1.6\n",
       "    geospatial_bounds:          POLYGON((-124.7666666333333 49.40000000000000...\n",
       "    geospatial_lat_min:         25.066666666666666\n",
       "    geospatial_lat_max:         49.40000000000000\n",
       "    geospatial_lon_min:         -124.7666666333333\n",
       "    geospatial_lon_max:         -67.058333300000015\n",
       "    geospatial_lon_resolution:  0.041666666666666\n",
       "    geospatial_lat_resolution:  0.041666666666666\n",
       "    geospatial_lat_units:       decimal_degrees north\n",
       "    geospatial_lon_units:       decimal_degrees east\n",
       "    coordinate_system:          EPSG:4326\n",
       "    author:                     John Abatzoglou - University of Idaho, jabatz...\n",
       "    date:                       04 July 2019\n",
       "    note1:                      The projection information for this file is: ...\n",
       "    note2:                      Citation: Abatzoglou, J.T., 2013, Development...\n",
       "    note3:                      Data in slices after last_permanent_slice (1-...\n",
       "    note4:                      Data in slices after last_provisional_slice (...\n",
       "    note5:                      Days correspond approximately to calendar day...</pre>"
      ],
      "text/plain": [
       "<xarray.Dataset>\n",
       "Dimensions:               (crs: 1, lat: 585, lon: 1386)\n",
       "Coordinates:\n",
       "  * lon                   (lon) float64 -124.8 -124.7 -124.7 ... -67.1 -67.06\n",
       "  * lat                   (lat) float64 49.4 49.36 49.32 ... 25.15 25.11 25.07\n",
       "    day                   datetime64[ns] 2016-12-31\n",
       "  * crs                   (crs) uint16 3\n",
       "Data variables:\n",
       "    precipitation_amount  (lat, lon) float32 ...\n",
       "Attributes:\n",
       "    geospatial_bounds_crs:      EPSG:4326\n",
       "    Conventions:                CF-1.6\n",
       "    geospatial_bounds:          POLYGON((-124.7666666333333 49.40000000000000...\n",
       "    geospatial_lat_min:         25.066666666666666\n",
       "    geospatial_lat_max:         49.40000000000000\n",
       "    geospatial_lon_min:         -124.7666666333333\n",
       "    geospatial_lon_max:         -67.058333300000015\n",
       "    geospatial_lon_resolution:  0.041666666666666\n",
       "    geospatial_lat_resolution:  0.041666666666666\n",
       "    geospatial_lat_units:       decimal_degrees north\n",
       "    geospatial_lon_units:       decimal_degrees east\n",
       "    coordinate_system:          EPSG:4326\n",
       "    author:                     John Abatzoglou - University of Idaho, jabatz...\n",
       "    date:                       04 July 2019\n",
       "    note1:                      The projection information for this file is: ...\n",
       "    note2:                      Citation: Abatzoglou, J.T., 2013, Development...\n",
       "    note3:                      Data in slices after last_permanent_slice (1-...\n",
       "    note4:                      Data in slices after last_provisional_slice (...\n",
       "    note5:                      Days correspond approximately to calendar day..."
      ]
     },
     "execution_count": 22,
     "metadata": {},
     "output_type": "execute_result"
    }
   ],
   "source": [
    "db"
   ]
  },
  {
   "cell_type": "code",
   "execution_count": 23,
   "metadata": {},
   "outputs": [],
   "source": [
    "dc = db.loc[dict(lon=slice(-90.1, -90.3))]"
   ]
  },
  {
   "cell_type": "markdown",
   "metadata": {},
   "source": [
    "# No longitudes so this slicing method wont work either"
   ]
  },
  {
   "cell_type": "code",
   "execution_count": 24,
   "metadata": {},
   "outputs": [
    {
     "data": {
      "text/html": [
       "<pre>&lt;xarray.Dataset&gt;\n",
       "Dimensions:               (crs: 1, lat: 585, lon: 0)\n",
       "Coordinates:\n",
       "  * lon                   (lon) float64 \n",
       "  * lat                   (lat) float64 49.4 49.36 49.32 ... 25.15 25.11 25.07\n",
       "    day                   datetime64[ns] 2016-12-31\n",
       "  * crs                   (crs) uint16 3\n",
       "Data variables:\n",
       "    precipitation_amount  (lat, lon) float32 ...\n",
       "Attributes:\n",
       "    geospatial_bounds_crs:      EPSG:4326\n",
       "    Conventions:                CF-1.6\n",
       "    geospatial_bounds:          POLYGON((-124.7666666333333 49.40000000000000...\n",
       "    geospatial_lat_min:         25.066666666666666\n",
       "    geospatial_lat_max:         49.40000000000000\n",
       "    geospatial_lon_min:         -124.7666666333333\n",
       "    geospatial_lon_max:         -67.058333300000015\n",
       "    geospatial_lon_resolution:  0.041666666666666\n",
       "    geospatial_lat_resolution:  0.041666666666666\n",
       "    geospatial_lat_units:       decimal_degrees north\n",
       "    geospatial_lon_units:       decimal_degrees east\n",
       "    coordinate_system:          EPSG:4326\n",
       "    author:                     John Abatzoglou - University of Idaho, jabatz...\n",
       "    date:                       04 July 2019\n",
       "    note1:                      The projection information for this file is: ...\n",
       "    note2:                      Citation: Abatzoglou, J.T., 2013, Development...\n",
       "    note3:                      Data in slices after last_permanent_slice (1-...\n",
       "    note4:                      Data in slices after last_provisional_slice (...\n",
       "    note5:                      Days correspond approximately to calendar day...</pre>"
      ],
      "text/plain": [
       "<xarray.Dataset>\n",
       "Dimensions:               (crs: 1, lat: 585, lon: 0)\n",
       "Coordinates:\n",
       "  * lon                   (lon) float64 \n",
       "  * lat                   (lat) float64 49.4 49.36 49.32 ... 25.15 25.11 25.07\n",
       "    day                   datetime64[ns] 2016-12-31\n",
       "  * crs                   (crs) uint16 3\n",
       "Data variables:\n",
       "    precipitation_amount  (lat, lon) float32 ...\n",
       "Attributes:\n",
       "    geospatial_bounds_crs:      EPSG:4326\n",
       "    Conventions:                CF-1.6\n",
       "    geospatial_bounds:          POLYGON((-124.7666666333333 49.40000000000000...\n",
       "    geospatial_lat_min:         25.066666666666666\n",
       "    geospatial_lat_max:         49.40000000000000\n",
       "    geospatial_lon_min:         -124.7666666333333\n",
       "    geospatial_lon_max:         -67.058333300000015\n",
       "    geospatial_lon_resolution:  0.041666666666666\n",
       "    geospatial_lat_resolution:  0.041666666666666\n",
       "    geospatial_lat_units:       decimal_degrees north\n",
       "    geospatial_lon_units:       decimal_degrees east\n",
       "    coordinate_system:          EPSG:4326\n",
       "    author:                     John Abatzoglou - University of Idaho, jabatz...\n",
       "    date:                       04 July 2019\n",
       "    note1:                      The projection information for this file is: ...\n",
       "    note2:                      Citation: Abatzoglou, J.T., 2013, Development...\n",
       "    note3:                      Data in slices after last_permanent_slice (1-...\n",
       "    note4:                      Data in slices after last_provisional_slice (...\n",
       "    note5:                      Days correspond approximately to calendar day..."
      ]
     },
     "execution_count": 24,
     "metadata": {},
     "output_type": "execute_result"
    }
   ],
   "source": [
    "dc"
   ]
  },
  {
   "cell_type": "code",
   "execution_count": 25,
   "metadata": {},
   "outputs": [
    {
     "data": {
      "text/plain": [
       "array([], shape=(585, 0), dtype=float32)"
      ]
     },
     "execution_count": 25,
     "metadata": {},
     "output_type": "execute_result"
    }
   ],
   "source": [
    "dc['precipitation_amount'].values"
   ]
  },
  {
   "cell_type": "code",
   "execution_count": 26,
   "metadata": {},
   "outputs": [],
   "source": [
    "lons = DS['lon'].values"
   ]
  },
  {
   "cell_type": "code",
   "execution_count": 27,
   "metadata": {},
   "outputs": [
    {
     "data": {
      "text/plain": [
       "numpy.ndarray"
      ]
     },
     "execution_count": 27,
     "metadata": {},
     "output_type": "execute_result"
    }
   ],
   "source": [
    "type(lons)"
   ]
  },
  {
   "cell_type": "markdown",
   "metadata": {},
   "source": [
    "# Lets try a different approach - selecting by exact values\n",
    "\n",
    "## But what values?\n",
    "\n",
    "### How about the closest to our city of interest\n",
    "\n",
    "### In this case Sioux Falls SD."
   ]
  },
  {
   "cell_type": "code",
   "execution_count": 28,
   "metadata": {},
   "outputs": [],
   "source": [
    "import numpy as np\n",
    "def find_closest_value(array, val):\n",
    "    print(array)\n",
    "\n",
    "    value = val\n",
    "\n",
    "    absolute_val_array = np.abs(array - value)\n",
    "\n",
    "    print(absolute_val_array)\n",
    "\n",
    "    smallest_difference_index = absolute_val_array.argmin()\n",
    "\n",
    "    closest_element = array[smallest_difference_index]\n",
    "\n",
    "    print(closest_element)\n",
    "    \n",
    "    return closest_element"
   ]
  },
  {
   "cell_type": "code",
   "execution_count": 29,
   "metadata": {},
   "outputs": [],
   "source": [
    "sf_lon = -96.73\n",
    "sf_lat = 43.54\n"
   ]
  },
  {
   "cell_type": "code",
   "execution_count": 30,
   "metadata": {},
   "outputs": [
    {
     "name": "stdout",
     "output_type": "stream",
     "text": [
      "[-124.76666663 -124.72499997 -124.6833333  ...  -67.14166663  -67.09999997\n",
      "  -67.0583333 ]\n",
      "[28.03666663 27.99499997 27.9533333  ... 29.58833337 29.63000003\n",
      " 29.6716667 ]\n",
      "-96.72499996666667\n"
     ]
    }
   ],
   "source": [
    "sf_precip_lon = find_closest_value(lons, sf_lon)"
   ]
  },
  {
   "cell_type": "code",
   "execution_count": 31,
   "metadata": {},
   "outputs": [
    {
     "data": {
      "text/plain": [
       "-96.72499996666667"
      ]
     },
     "execution_count": 31,
     "metadata": {},
     "output_type": "execute_result"
    }
   ],
   "source": [
    "# This is the lon we are going to use to select the slice\n",
    "sf_precip_lon"
   ]
  },
  {
   "cell_type": "markdown",
   "metadata": {},
   "source": [
    "# Now lets do the same thing with the lat"
   ]
  },
  {
   "cell_type": "code",
   "execution_count": 32,
   "metadata": {},
   "outputs": [],
   "source": [
    "lats = DS['lat'].values"
   ]
  },
  {
   "cell_type": "code",
   "execution_count": 33,
   "metadata": {},
   "outputs": [
    {
     "data": {
      "text/plain": [
       "array([49.4       , 49.35833333, 49.31666667, 49.275     , 49.23333333,\n",
       "       49.19166667, 49.15      , 49.10833333, 49.06666667, 49.025     ,\n",
       "       48.98333333, 48.94166667, 48.9       , 48.85833333, 48.81666667,\n",
       "       48.775     , 48.73333333, 48.69166667, 48.65      , 48.60833333,\n",
       "       48.56666667, 48.525     , 48.48333333, 48.44166667, 48.4       ,\n",
       "       48.35833333, 48.31666667, 48.275     , 48.23333333, 48.19166667,\n",
       "       48.15      , 48.10833333, 48.06666667, 48.025     , 47.98333333,\n",
       "       47.94166667, 47.9       , 47.85833333, 47.81666667, 47.775     ,\n",
       "       47.73333333, 47.69166667, 47.65      , 47.60833333, 47.56666667,\n",
       "       47.525     , 47.48333333, 47.44166667, 47.4       , 47.35833333,\n",
       "       47.31666667, 47.275     , 47.23333333, 47.19166667, 47.15      ,\n",
       "       47.10833333, 47.06666667, 47.025     , 46.98333333, 46.94166667,\n",
       "       46.9       , 46.85833333, 46.81666667, 46.775     , 46.73333333,\n",
       "       46.69166667, 46.65      , 46.60833333, 46.56666667, 46.525     ,\n",
       "       46.48333333, 46.44166667, 46.4       , 46.35833333, 46.31666667,\n",
       "       46.275     , 46.23333333, 46.19166667, 46.15      , 46.10833333,\n",
       "       46.06666667, 46.025     , 45.98333333, 45.94166667, 45.9       ,\n",
       "       45.85833333, 45.81666667, 45.775     , 45.73333333, 45.69166667,\n",
       "       45.65      , 45.60833333, 45.56666667, 45.525     , 45.48333333,\n",
       "       45.44166667, 45.4       , 45.35833333, 45.31666667, 45.275     ,\n",
       "       45.23333333, 45.19166667, 45.15      , 45.10833333, 45.06666667,\n",
       "       45.025     , 44.98333333, 44.94166667, 44.9       , 44.85833333,\n",
       "       44.81666667, 44.775     , 44.73333333, 44.69166667, 44.65      ,\n",
       "       44.60833333, 44.56666667, 44.525     , 44.48333333, 44.44166667,\n",
       "       44.4       , 44.35833333, 44.31666667, 44.275     , 44.23333333,\n",
       "       44.19166667, 44.15      , 44.10833333, 44.06666667, 44.025     ,\n",
       "       43.98333333, 43.94166667, 43.9       , 43.85833333, 43.81666667,\n",
       "       43.775     , 43.73333333, 43.69166667, 43.65      , 43.60833333,\n",
       "       43.56666667, 43.525     , 43.48333333, 43.44166667, 43.4       ,\n",
       "       43.35833333, 43.31666667, 43.275     , 43.23333333, 43.19166667,\n",
       "       43.15      , 43.10833333, 43.06666667, 43.025     , 42.98333333,\n",
       "       42.94166667, 42.9       , 42.85833333, 42.81666667, 42.775     ,\n",
       "       42.73333333, 42.69166667, 42.65      , 42.60833333, 42.56666667,\n",
       "       42.525     , 42.48333333, 42.44166667, 42.4       , 42.35833333,\n",
       "       42.31666667, 42.275     , 42.23333333, 42.19166667, 42.15      ,\n",
       "       42.10833333, 42.06666667, 42.025     , 41.98333333, 41.94166667,\n",
       "       41.9       , 41.85833333, 41.81666667, 41.775     , 41.73333333,\n",
       "       41.69166667, 41.65      , 41.60833333, 41.56666667, 41.525     ,\n",
       "       41.48333333, 41.44166667, 41.4       , 41.35833333, 41.31666667,\n",
       "       41.275     , 41.23333333, 41.19166667, 41.15      , 41.10833333,\n",
       "       41.06666667, 41.025     , 40.98333333, 40.94166667, 40.9       ,\n",
       "       40.85833333, 40.81666667, 40.775     , 40.73333333, 40.69166667,\n",
       "       40.65      , 40.60833333, 40.56666667, 40.525     , 40.48333333,\n",
       "       40.44166667, 40.4       , 40.35833333, 40.31666667, 40.275     ,\n",
       "       40.23333333, 40.19166667, 40.15      , 40.10833333, 40.06666667,\n",
       "       40.025     , 39.98333333, 39.94166667, 39.9       , 39.85833333,\n",
       "       39.81666667, 39.775     , 39.73333333, 39.69166667, 39.65      ,\n",
       "       39.60833333, 39.56666667, 39.525     , 39.48333333, 39.44166667,\n",
       "       39.4       , 39.35833333, 39.31666667, 39.275     , 39.23333333,\n",
       "       39.19166667, 39.15      , 39.10833333, 39.06666667, 39.025     ,\n",
       "       38.98333333, 38.94166667, 38.9       , 38.85833333, 38.81666667,\n",
       "       38.775     , 38.73333333, 38.69166667, 38.65      , 38.60833333,\n",
       "       38.56666667, 38.525     , 38.48333333, 38.44166667, 38.4       ,\n",
       "       38.35833333, 38.31666667, 38.275     , 38.23333333, 38.19166667,\n",
       "       38.15      , 38.10833333, 38.06666667, 38.025     , 37.98333333,\n",
       "       37.94166667, 37.9       , 37.85833333, 37.81666667, 37.775     ,\n",
       "       37.73333333, 37.69166667, 37.65      , 37.60833333, 37.56666667,\n",
       "       37.525     , 37.48333333, 37.44166667, 37.4       , 37.35833333,\n",
       "       37.31666667, 37.275     , 37.23333333, 37.19166667, 37.15      ,\n",
       "       37.10833333, 37.06666667, 37.025     , 36.98333333, 36.94166667,\n",
       "       36.9       , 36.85833333, 36.81666667, 36.775     , 36.73333333,\n",
       "       36.69166667, 36.65      , 36.60833333, 36.56666667, 36.525     ,\n",
       "       36.48333333, 36.44166667, 36.4       , 36.35833333, 36.31666667,\n",
       "       36.275     , 36.23333333, 36.19166667, 36.15      , 36.10833333,\n",
       "       36.06666667, 36.025     , 35.98333333, 35.94166667, 35.9       ,\n",
       "       35.85833333, 35.81666667, 35.775     , 35.73333333, 35.69166667,\n",
       "       35.65      , 35.60833333, 35.56666667, 35.525     , 35.48333333,\n",
       "       35.44166667, 35.4       , 35.35833333, 35.31666667, 35.275     ,\n",
       "       35.23333333, 35.19166667, 35.15      , 35.10833333, 35.06666667,\n",
       "       35.025     , 34.98333333, 34.94166667, 34.9       , 34.85833333,\n",
       "       34.81666667, 34.775     , 34.73333333, 34.69166667, 34.65      ,\n",
       "       34.60833333, 34.56666667, 34.525     , 34.48333333, 34.44166667,\n",
       "       34.4       , 34.35833333, 34.31666667, 34.275     , 34.23333333,\n",
       "       34.19166667, 34.15      , 34.10833333, 34.06666667, 34.025     ,\n",
       "       33.98333333, 33.94166667, 33.9       , 33.85833333, 33.81666667,\n",
       "       33.775     , 33.73333333, 33.69166667, 33.65      , 33.60833333,\n",
       "       33.56666667, 33.525     , 33.48333333, 33.44166667, 33.4       ,\n",
       "       33.35833333, 33.31666667, 33.275     , 33.23333333, 33.19166667,\n",
       "       33.15      , 33.10833333, 33.06666667, 33.025     , 32.98333333,\n",
       "       32.94166667, 32.9       , 32.85833333, 32.81666667, 32.775     ,\n",
       "       32.73333333, 32.69166667, 32.65      , 32.60833333, 32.56666667,\n",
       "       32.525     , 32.48333333, 32.44166667, 32.4       , 32.35833333,\n",
       "       32.31666667, 32.275     , 32.23333333, 32.19166667, 32.15      ,\n",
       "       32.10833333, 32.06666667, 32.025     , 31.98333333, 31.94166667,\n",
       "       31.9       , 31.85833333, 31.81666667, 31.775     , 31.73333333,\n",
       "       31.69166667, 31.65      , 31.60833333, 31.56666667, 31.525     ,\n",
       "       31.48333333, 31.44166667, 31.4       , 31.35833333, 31.31666667,\n",
       "       31.275     , 31.23333333, 31.19166667, 31.15      , 31.10833333,\n",
       "       31.06666667, 31.025     , 30.98333333, 30.94166667, 30.9       ,\n",
       "       30.85833333, 30.81666667, 30.775     , 30.73333333, 30.69166667,\n",
       "       30.65      , 30.60833333, 30.56666667, 30.525     , 30.48333333,\n",
       "       30.44166667, 30.4       , 30.35833333, 30.31666667, 30.275     ,\n",
       "       30.23333333, 30.19166667, 30.15      , 30.10833333, 30.06666667,\n",
       "       30.025     , 29.98333333, 29.94166667, 29.9       , 29.85833333,\n",
       "       29.81666667, 29.775     , 29.73333333, 29.69166667, 29.65      ,\n",
       "       29.60833333, 29.56666667, 29.525     , 29.48333333, 29.44166667,\n",
       "       29.4       , 29.35833333, 29.31666667, 29.275     , 29.23333333,\n",
       "       29.19166667, 29.15      , 29.10833333, 29.06666667, 29.025     ,\n",
       "       28.98333333, 28.94166667, 28.9       , 28.85833333, 28.81666667,\n",
       "       28.775     , 28.73333333, 28.69166667, 28.65      , 28.60833333,\n",
       "       28.56666667, 28.525     , 28.48333333, 28.44166667, 28.4       ,\n",
       "       28.35833333, 28.31666667, 28.275     , 28.23333333, 28.19166667,\n",
       "       28.15      , 28.10833333, 28.06666667, 28.025     , 27.98333333,\n",
       "       27.94166667, 27.9       , 27.85833333, 27.81666667, 27.775     ,\n",
       "       27.73333333, 27.69166667, 27.65      , 27.60833333, 27.56666667,\n",
       "       27.525     , 27.48333333, 27.44166667, 27.4       , 27.35833333,\n",
       "       27.31666667, 27.275     , 27.23333333, 27.19166667, 27.15      ,\n",
       "       27.10833333, 27.06666667, 27.025     , 26.98333333, 26.94166667,\n",
       "       26.9       , 26.85833333, 26.81666667, 26.775     , 26.73333333,\n",
       "       26.69166667, 26.65      , 26.60833333, 26.56666667, 26.525     ,\n",
       "       26.48333333, 26.44166667, 26.4       , 26.35833333, 26.31666667,\n",
       "       26.275     , 26.23333333, 26.19166667, 26.15      , 26.10833333,\n",
       "       26.06666667, 26.025     , 25.98333333, 25.94166667, 25.9       ,\n",
       "       25.85833333, 25.81666667, 25.775     , 25.73333333, 25.69166667,\n",
       "       25.65      , 25.60833333, 25.56666667, 25.525     , 25.48333333,\n",
       "       25.44166667, 25.4       , 25.35833333, 25.31666667, 25.275     ,\n",
       "       25.23333333, 25.19166667, 25.15      , 25.10833333, 25.06666667])"
      ]
     },
     "execution_count": 33,
     "metadata": {},
     "output_type": "execute_result"
    }
   ],
   "source": [
    "lats"
   ]
  },
  {
   "cell_type": "code",
   "execution_count": 34,
   "metadata": {},
   "outputs": [
    {
     "name": "stdout",
     "output_type": "stream",
     "text": [
      "[49.4        49.35833333 49.31666667 49.275      49.23333333 49.19166667\n",
      " 49.15       49.10833333 49.06666667 49.025      48.98333333 48.94166667\n",
      " 48.9        48.85833333 48.81666667 48.775      48.73333333 48.69166667\n",
      " 48.65       48.60833333 48.56666667 48.525      48.48333333 48.44166667\n",
      " 48.4        48.35833333 48.31666667 48.275      48.23333333 48.19166667\n",
      " 48.15       48.10833333 48.06666667 48.025      47.98333333 47.94166667\n",
      " 47.9        47.85833333 47.81666667 47.775      47.73333333 47.69166667\n",
      " 47.65       47.60833333 47.56666667 47.525      47.48333333 47.44166667\n",
      " 47.4        47.35833333 47.31666667 47.275      47.23333333 47.19166667\n",
      " 47.15       47.10833333 47.06666667 47.025      46.98333333 46.94166667\n",
      " 46.9        46.85833333 46.81666667 46.775      46.73333333 46.69166667\n",
      " 46.65       46.60833333 46.56666667 46.525      46.48333333 46.44166667\n",
      " 46.4        46.35833333 46.31666667 46.275      46.23333333 46.19166667\n",
      " 46.15       46.10833333 46.06666667 46.025      45.98333333 45.94166667\n",
      " 45.9        45.85833333 45.81666667 45.775      45.73333333 45.69166667\n",
      " 45.65       45.60833333 45.56666667 45.525      45.48333333 45.44166667\n",
      " 45.4        45.35833333 45.31666667 45.275      45.23333333 45.19166667\n",
      " 45.15       45.10833333 45.06666667 45.025      44.98333333 44.94166667\n",
      " 44.9        44.85833333 44.81666667 44.775      44.73333333 44.69166667\n",
      " 44.65       44.60833333 44.56666667 44.525      44.48333333 44.44166667\n",
      " 44.4        44.35833333 44.31666667 44.275      44.23333333 44.19166667\n",
      " 44.15       44.10833333 44.06666667 44.025      43.98333333 43.94166667\n",
      " 43.9        43.85833333 43.81666667 43.775      43.73333333 43.69166667\n",
      " 43.65       43.60833333 43.56666667 43.525      43.48333333 43.44166667\n",
      " 43.4        43.35833333 43.31666667 43.275      43.23333333 43.19166667\n",
      " 43.15       43.10833333 43.06666667 43.025      42.98333333 42.94166667\n",
      " 42.9        42.85833333 42.81666667 42.775      42.73333333 42.69166667\n",
      " 42.65       42.60833333 42.56666667 42.525      42.48333333 42.44166667\n",
      " 42.4        42.35833333 42.31666667 42.275      42.23333333 42.19166667\n",
      " 42.15       42.10833333 42.06666667 42.025      41.98333333 41.94166667\n",
      " 41.9        41.85833333 41.81666667 41.775      41.73333333 41.69166667\n",
      " 41.65       41.60833333 41.56666667 41.525      41.48333333 41.44166667\n",
      " 41.4        41.35833333 41.31666667 41.275      41.23333333 41.19166667\n",
      " 41.15       41.10833333 41.06666667 41.025      40.98333333 40.94166667\n",
      " 40.9        40.85833333 40.81666667 40.775      40.73333333 40.69166667\n",
      " 40.65       40.60833333 40.56666667 40.525      40.48333333 40.44166667\n",
      " 40.4        40.35833333 40.31666667 40.275      40.23333333 40.19166667\n",
      " 40.15       40.10833333 40.06666667 40.025      39.98333333 39.94166667\n",
      " 39.9        39.85833333 39.81666667 39.775      39.73333333 39.69166667\n",
      " 39.65       39.60833333 39.56666667 39.525      39.48333333 39.44166667\n",
      " 39.4        39.35833333 39.31666667 39.275      39.23333333 39.19166667\n",
      " 39.15       39.10833333 39.06666667 39.025      38.98333333 38.94166667\n",
      " 38.9        38.85833333 38.81666667 38.775      38.73333333 38.69166667\n",
      " 38.65       38.60833333 38.56666667 38.525      38.48333333 38.44166667\n",
      " 38.4        38.35833333 38.31666667 38.275      38.23333333 38.19166667\n",
      " 38.15       38.10833333 38.06666667 38.025      37.98333333 37.94166667\n",
      " 37.9        37.85833333 37.81666667 37.775      37.73333333 37.69166667\n",
      " 37.65       37.60833333 37.56666667 37.525      37.48333333 37.44166667\n",
      " 37.4        37.35833333 37.31666667 37.275      37.23333333 37.19166667\n",
      " 37.15       37.10833333 37.06666667 37.025      36.98333333 36.94166667\n",
      " 36.9        36.85833333 36.81666667 36.775      36.73333333 36.69166667\n",
      " 36.65       36.60833333 36.56666667 36.525      36.48333333 36.44166667\n",
      " 36.4        36.35833333 36.31666667 36.275      36.23333333 36.19166667\n",
      " 36.15       36.10833333 36.06666667 36.025      35.98333333 35.94166667\n",
      " 35.9        35.85833333 35.81666667 35.775      35.73333333 35.69166667\n",
      " 35.65       35.60833333 35.56666667 35.525      35.48333333 35.44166667\n",
      " 35.4        35.35833333 35.31666667 35.275      35.23333333 35.19166667\n",
      " 35.15       35.10833333 35.06666667 35.025      34.98333333 34.94166667\n",
      " 34.9        34.85833333 34.81666667 34.775      34.73333333 34.69166667\n",
      " 34.65       34.60833333 34.56666667 34.525      34.48333333 34.44166667\n",
      " 34.4        34.35833333 34.31666667 34.275      34.23333333 34.19166667\n",
      " 34.15       34.10833333 34.06666667 34.025      33.98333333 33.94166667\n",
      " 33.9        33.85833333 33.81666667 33.775      33.73333333 33.69166667\n",
      " 33.65       33.60833333 33.56666667 33.525      33.48333333 33.44166667\n",
      " 33.4        33.35833333 33.31666667 33.275      33.23333333 33.19166667\n",
      " 33.15       33.10833333 33.06666667 33.025      32.98333333 32.94166667\n",
      " 32.9        32.85833333 32.81666667 32.775      32.73333333 32.69166667\n",
      " 32.65       32.60833333 32.56666667 32.525      32.48333333 32.44166667\n",
      " 32.4        32.35833333 32.31666667 32.275      32.23333333 32.19166667\n",
      " 32.15       32.10833333 32.06666667 32.025      31.98333333 31.94166667\n",
      " 31.9        31.85833333 31.81666667 31.775      31.73333333 31.69166667\n",
      " 31.65       31.60833333 31.56666667 31.525      31.48333333 31.44166667\n",
      " 31.4        31.35833333 31.31666667 31.275      31.23333333 31.19166667\n",
      " 31.15       31.10833333 31.06666667 31.025      30.98333333 30.94166667\n",
      " 30.9        30.85833333 30.81666667 30.775      30.73333333 30.69166667\n",
      " 30.65       30.60833333 30.56666667 30.525      30.48333333 30.44166667\n",
      " 30.4        30.35833333 30.31666667 30.275      30.23333333 30.19166667\n",
      " 30.15       30.10833333 30.06666667 30.025      29.98333333 29.94166667\n",
      " 29.9        29.85833333 29.81666667 29.775      29.73333333 29.69166667\n",
      " 29.65       29.60833333 29.56666667 29.525      29.48333333 29.44166667\n",
      " 29.4        29.35833333 29.31666667 29.275      29.23333333 29.19166667\n",
      " 29.15       29.10833333 29.06666667 29.025      28.98333333 28.94166667\n",
      " 28.9        28.85833333 28.81666667 28.775      28.73333333 28.69166667\n",
      " 28.65       28.60833333 28.56666667 28.525      28.48333333 28.44166667\n",
      " 28.4        28.35833333 28.31666667 28.275      28.23333333 28.19166667\n",
      " 28.15       28.10833333 28.06666667 28.025      27.98333333 27.94166667\n",
      " 27.9        27.85833333 27.81666667 27.775      27.73333333 27.69166667\n",
      " 27.65       27.60833333 27.56666667 27.525      27.48333333 27.44166667\n",
      " 27.4        27.35833333 27.31666667 27.275      27.23333333 27.19166667\n",
      " 27.15       27.10833333 27.06666667 27.025      26.98333333 26.94166667\n",
      " 26.9        26.85833333 26.81666667 26.775      26.73333333 26.69166667\n",
      " 26.65       26.60833333 26.56666667 26.525      26.48333333 26.44166667\n",
      " 26.4        26.35833333 26.31666667 26.275      26.23333333 26.19166667\n",
      " 26.15       26.10833333 26.06666667 26.025      25.98333333 25.94166667\n",
      " 25.9        25.85833333 25.81666667 25.775      25.73333333 25.69166667\n",
      " 25.65       25.60833333 25.56666667 25.525      25.48333333 25.44166667\n",
      " 25.4        25.35833333 25.31666667 25.275      25.23333333 25.19166667\n",
      " 25.15       25.10833333 25.06666667]\n",
      "[5.86000000e+00 5.81833333e+00 5.77666667e+00 5.73500000e+00\n",
      " 5.69333333e+00 5.65166667e+00 5.61000000e+00 5.56833333e+00\n",
      " 5.52666667e+00 5.48500000e+00 5.44333333e+00 5.40166667e+00\n",
      " 5.36000000e+00 5.31833333e+00 5.27666667e+00 5.23500000e+00\n",
      " 5.19333333e+00 5.15166667e+00 5.11000000e+00 5.06833333e+00\n",
      " 5.02666667e+00 4.98500000e+00 4.94333333e+00 4.90166667e+00\n",
      " 4.86000000e+00 4.81833333e+00 4.77666667e+00 4.73500000e+00\n",
      " 4.69333333e+00 4.65166667e+00 4.61000000e+00 4.56833333e+00\n",
      " 4.52666667e+00 4.48500000e+00 4.44333333e+00 4.40166667e+00\n",
      " 4.36000000e+00 4.31833333e+00 4.27666667e+00 4.23500000e+00\n",
      " 4.19333333e+00 4.15166667e+00 4.11000000e+00 4.06833333e+00\n",
      " 4.02666667e+00 3.98500000e+00 3.94333333e+00 3.90166667e+00\n",
      " 3.86000000e+00 3.81833333e+00 3.77666667e+00 3.73500000e+00\n",
      " 3.69333333e+00 3.65166667e+00 3.61000000e+00 3.56833333e+00\n",
      " 3.52666667e+00 3.48500000e+00 3.44333333e+00 3.40166667e+00\n",
      " 3.36000000e+00 3.31833333e+00 3.27666667e+00 3.23500000e+00\n",
      " 3.19333333e+00 3.15166667e+00 3.11000000e+00 3.06833333e+00\n",
      " 3.02666667e+00 2.98500000e+00 2.94333333e+00 2.90166667e+00\n",
      " 2.86000000e+00 2.81833333e+00 2.77666667e+00 2.73500000e+00\n",
      " 2.69333333e+00 2.65166667e+00 2.61000000e+00 2.56833333e+00\n",
      " 2.52666667e+00 2.48500000e+00 2.44333333e+00 2.40166667e+00\n",
      " 2.36000000e+00 2.31833333e+00 2.27666667e+00 2.23500000e+00\n",
      " 2.19333333e+00 2.15166667e+00 2.11000000e+00 2.06833333e+00\n",
      " 2.02666667e+00 1.98500000e+00 1.94333333e+00 1.90166667e+00\n",
      " 1.86000000e+00 1.81833333e+00 1.77666667e+00 1.73500000e+00\n",
      " 1.69333333e+00 1.65166667e+00 1.61000000e+00 1.56833333e+00\n",
      " 1.52666667e+00 1.48500000e+00 1.44333333e+00 1.40166667e+00\n",
      " 1.36000000e+00 1.31833333e+00 1.27666667e+00 1.23500000e+00\n",
      " 1.19333333e+00 1.15166667e+00 1.11000000e+00 1.06833333e+00\n",
      " 1.02666667e+00 9.85000000e-01 9.43333333e-01 9.01666667e-01\n",
      " 8.60000000e-01 8.18333333e-01 7.76666667e-01 7.35000000e-01\n",
      " 6.93333333e-01 6.51666667e-01 6.10000000e-01 5.68333333e-01\n",
      " 5.26666667e-01 4.85000000e-01 4.43333333e-01 4.01666667e-01\n",
      " 3.60000000e-01 3.18333333e-01 2.76666667e-01 2.35000000e-01\n",
      " 1.93333333e-01 1.51666667e-01 1.10000000e-01 6.83333333e-02\n",
      " 2.66666667e-02 1.50000000e-02 5.66666667e-02 9.83333333e-02\n",
      " 1.40000000e-01 1.81666667e-01 2.23333333e-01 2.65000000e-01\n",
      " 3.06666667e-01 3.48333333e-01 3.90000000e-01 4.31666667e-01\n",
      " 4.73333333e-01 5.15000000e-01 5.56666667e-01 5.98333333e-01\n",
      " 6.40000000e-01 6.81666667e-01 7.23333333e-01 7.65000000e-01\n",
      " 8.06666667e-01 8.48333333e-01 8.90000000e-01 9.31666667e-01\n",
      " 9.73333333e-01 1.01500000e+00 1.05666667e+00 1.09833333e+00\n",
      " 1.14000000e+00 1.18166667e+00 1.22333333e+00 1.26500000e+00\n",
      " 1.30666667e+00 1.34833333e+00 1.39000000e+00 1.43166667e+00\n",
      " 1.47333333e+00 1.51500000e+00 1.55666667e+00 1.59833333e+00\n",
      " 1.64000000e+00 1.68166667e+00 1.72333333e+00 1.76500000e+00\n",
      " 1.80666667e+00 1.84833333e+00 1.89000000e+00 1.93166667e+00\n",
      " 1.97333333e+00 2.01500000e+00 2.05666667e+00 2.09833333e+00\n",
      " 2.14000000e+00 2.18166667e+00 2.22333333e+00 2.26500000e+00\n",
      " 2.30666667e+00 2.34833333e+00 2.39000000e+00 2.43166667e+00\n",
      " 2.47333333e+00 2.51500000e+00 2.55666667e+00 2.59833333e+00\n",
      " 2.64000000e+00 2.68166667e+00 2.72333333e+00 2.76500000e+00\n",
      " 2.80666667e+00 2.84833333e+00 2.89000000e+00 2.93166667e+00\n",
      " 2.97333333e+00 3.01500000e+00 3.05666667e+00 3.09833333e+00\n",
      " 3.14000000e+00 3.18166667e+00 3.22333333e+00 3.26500000e+00\n",
      " 3.30666667e+00 3.34833333e+00 3.39000000e+00 3.43166667e+00\n",
      " 3.47333333e+00 3.51500000e+00 3.55666667e+00 3.59833333e+00\n",
      " 3.64000000e+00 3.68166667e+00 3.72333333e+00 3.76500000e+00\n",
      " 3.80666667e+00 3.84833333e+00 3.89000000e+00 3.93166667e+00\n",
      " 3.97333333e+00 4.01500000e+00 4.05666667e+00 4.09833333e+00\n",
      " 4.14000000e+00 4.18166667e+00 4.22333333e+00 4.26500000e+00\n",
      " 4.30666667e+00 4.34833333e+00 4.39000000e+00 4.43166667e+00\n",
      " 4.47333333e+00 4.51500000e+00 4.55666667e+00 4.59833333e+00\n",
      " 4.64000000e+00 4.68166667e+00 4.72333333e+00 4.76500000e+00\n",
      " 4.80666667e+00 4.84833333e+00 4.89000000e+00 4.93166667e+00\n",
      " 4.97333333e+00 5.01500000e+00 5.05666667e+00 5.09833333e+00\n",
      " 5.14000000e+00 5.18166667e+00 5.22333333e+00 5.26500000e+00\n",
      " 5.30666667e+00 5.34833333e+00 5.39000000e+00 5.43166667e+00\n",
      " 5.47333333e+00 5.51500000e+00 5.55666667e+00 5.59833333e+00\n",
      " 5.64000000e+00 5.68166667e+00 5.72333333e+00 5.76500000e+00\n",
      " 5.80666667e+00 5.84833333e+00 5.89000000e+00 5.93166667e+00\n",
      " 5.97333333e+00 6.01500000e+00 6.05666667e+00 6.09833333e+00\n",
      " 6.14000000e+00 6.18166667e+00 6.22333333e+00 6.26500000e+00\n",
      " 6.30666667e+00 6.34833333e+00 6.39000000e+00 6.43166667e+00\n",
      " 6.47333333e+00 6.51500000e+00 6.55666667e+00 6.59833333e+00\n",
      " 6.64000000e+00 6.68166667e+00 6.72333333e+00 6.76500000e+00\n",
      " 6.80666667e+00 6.84833333e+00 6.89000000e+00 6.93166667e+00\n",
      " 6.97333333e+00 7.01500000e+00 7.05666667e+00 7.09833333e+00\n",
      " 7.14000000e+00 7.18166667e+00 7.22333333e+00 7.26500000e+00\n",
      " 7.30666667e+00 7.34833333e+00 7.39000000e+00 7.43166667e+00\n",
      " 7.47333333e+00 7.51500000e+00 7.55666667e+00 7.59833333e+00\n",
      " 7.64000000e+00 7.68166667e+00 7.72333333e+00 7.76500000e+00\n",
      " 7.80666667e+00 7.84833333e+00 7.89000000e+00 7.93166667e+00\n",
      " 7.97333333e+00 8.01500000e+00 8.05666667e+00 8.09833333e+00\n",
      " 8.14000000e+00 8.18166667e+00 8.22333333e+00 8.26500000e+00\n",
      " 8.30666667e+00 8.34833333e+00 8.39000000e+00 8.43166667e+00\n",
      " 8.47333333e+00 8.51500000e+00 8.55666667e+00 8.59833333e+00\n",
      " 8.64000000e+00 8.68166667e+00 8.72333333e+00 8.76500000e+00\n",
      " 8.80666667e+00 8.84833333e+00 8.89000000e+00 8.93166667e+00\n",
      " 8.97333333e+00 9.01500000e+00 9.05666667e+00 9.09833333e+00\n",
      " 9.14000000e+00 9.18166667e+00 9.22333333e+00 9.26500000e+00\n",
      " 9.30666667e+00 9.34833333e+00 9.39000000e+00 9.43166667e+00\n",
      " 9.47333333e+00 9.51500000e+00 9.55666667e+00 9.59833333e+00\n",
      " 9.64000000e+00 9.68166667e+00 9.72333333e+00 9.76500000e+00\n",
      " 9.80666667e+00 9.84833333e+00 9.89000000e+00 9.93166667e+00\n",
      " 9.97333333e+00 1.00150000e+01 1.00566667e+01 1.00983333e+01\n",
      " 1.01400000e+01 1.01816667e+01 1.02233333e+01 1.02650000e+01\n",
      " 1.03066667e+01 1.03483333e+01 1.03900000e+01 1.04316667e+01\n",
      " 1.04733333e+01 1.05150000e+01 1.05566667e+01 1.05983333e+01\n",
      " 1.06400000e+01 1.06816667e+01 1.07233333e+01 1.07650000e+01\n",
      " 1.08066667e+01 1.08483333e+01 1.08900000e+01 1.09316667e+01\n",
      " 1.09733333e+01 1.10150000e+01 1.10566667e+01 1.10983333e+01\n",
      " 1.11400000e+01 1.11816667e+01 1.12233333e+01 1.12650000e+01\n",
      " 1.13066667e+01 1.13483333e+01 1.13900000e+01 1.14316667e+01\n",
      " 1.14733333e+01 1.15150000e+01 1.15566667e+01 1.15983333e+01\n",
      " 1.16400000e+01 1.16816667e+01 1.17233333e+01 1.17650000e+01\n",
      " 1.18066667e+01 1.18483333e+01 1.18900000e+01 1.19316667e+01\n",
      " 1.19733333e+01 1.20150000e+01 1.20566667e+01 1.20983333e+01\n",
      " 1.21400000e+01 1.21816667e+01 1.22233333e+01 1.22650000e+01\n",
      " 1.23066667e+01 1.23483333e+01 1.23900000e+01 1.24316667e+01\n",
      " 1.24733333e+01 1.25150000e+01 1.25566667e+01 1.25983333e+01\n",
      " 1.26400000e+01 1.26816667e+01 1.27233333e+01 1.27650000e+01\n",
      " 1.28066667e+01 1.28483333e+01 1.28900000e+01 1.29316667e+01\n",
      " 1.29733333e+01 1.30150000e+01 1.30566667e+01 1.30983333e+01\n",
      " 1.31400000e+01 1.31816667e+01 1.32233333e+01 1.32650000e+01\n",
      " 1.33066667e+01 1.33483333e+01 1.33900000e+01 1.34316667e+01\n",
      " 1.34733333e+01 1.35150000e+01 1.35566667e+01 1.35983333e+01\n",
      " 1.36400000e+01 1.36816667e+01 1.37233333e+01 1.37650000e+01\n",
      " 1.38066667e+01 1.38483333e+01 1.38900000e+01 1.39316667e+01\n",
      " 1.39733333e+01 1.40150000e+01 1.40566667e+01 1.40983333e+01\n",
      " 1.41400000e+01 1.41816667e+01 1.42233333e+01 1.42650000e+01\n",
      " 1.43066667e+01 1.43483333e+01 1.43900000e+01 1.44316667e+01\n",
      " 1.44733333e+01 1.45150000e+01 1.45566667e+01 1.45983333e+01\n",
      " 1.46400000e+01 1.46816667e+01 1.47233333e+01 1.47650000e+01\n",
      " 1.48066667e+01 1.48483333e+01 1.48900000e+01 1.49316667e+01\n",
      " 1.49733333e+01 1.50150000e+01 1.50566667e+01 1.50983333e+01\n",
      " 1.51400000e+01 1.51816667e+01 1.52233333e+01 1.52650000e+01\n",
      " 1.53066667e+01 1.53483333e+01 1.53900000e+01 1.54316667e+01\n",
      " 1.54733333e+01 1.55150000e+01 1.55566667e+01 1.55983333e+01\n",
      " 1.56400000e+01 1.56816667e+01 1.57233333e+01 1.57650000e+01\n",
      " 1.58066667e+01 1.58483333e+01 1.58900000e+01 1.59316667e+01\n",
      " 1.59733333e+01 1.60150000e+01 1.60566667e+01 1.60983333e+01\n",
      " 1.61400000e+01 1.61816667e+01 1.62233333e+01 1.62650000e+01\n",
      " 1.63066667e+01 1.63483333e+01 1.63900000e+01 1.64316667e+01\n",
      " 1.64733333e+01 1.65150000e+01 1.65566667e+01 1.65983333e+01\n",
      " 1.66400000e+01 1.66816667e+01 1.67233333e+01 1.67650000e+01\n",
      " 1.68066667e+01 1.68483333e+01 1.68900000e+01 1.69316667e+01\n",
      " 1.69733333e+01 1.70150000e+01 1.70566667e+01 1.70983333e+01\n",
      " 1.71400000e+01 1.71816667e+01 1.72233333e+01 1.72650000e+01\n",
      " 1.73066667e+01 1.73483333e+01 1.73900000e+01 1.74316667e+01\n",
      " 1.74733333e+01 1.75150000e+01 1.75566667e+01 1.75983333e+01\n",
      " 1.76400000e+01 1.76816667e+01 1.77233333e+01 1.77650000e+01\n",
      " 1.78066667e+01 1.78483333e+01 1.78900000e+01 1.79316667e+01\n",
      " 1.79733333e+01 1.80150000e+01 1.80566667e+01 1.80983333e+01\n",
      " 1.81400000e+01 1.81816667e+01 1.82233333e+01 1.82650000e+01\n",
      " 1.83066667e+01 1.83483333e+01 1.83900000e+01 1.84316667e+01\n",
      " 1.84733333e+01]\n",
      "43.525000000000006\n"
     ]
    }
   ],
   "source": [
    "sf_precip_lat = find_closest_value(lats, sf_lat)"
   ]
  },
  {
   "cell_type": "code",
   "execution_count": 35,
   "metadata": {},
   "outputs": [
    {
     "data": {
      "text/plain": [
       "43.525000000000006"
      ]
     },
     "execution_count": 35,
     "metadata": {},
     "output_type": "execute_result"
    }
   ],
   "source": [
    "sf_precip_lat"
   ]
  },
  {
   "cell_type": "code",
   "execution_count": 36,
   "metadata": {},
   "outputs": [],
   "source": [
    "precip_sf_xr = DS.loc[dict(lon=sf_precip_lon, lat=sf_precip_lat)]"
   ]
  },
  {
   "cell_type": "markdown",
   "metadata": {},
   "source": [
    "# Now we have 366 days of data for Sioux Falls\n",
    "\n",
    "## It even says -96.72 (lon) and 43.53 (lat) sounds like Sioux Falls"
   ]
  },
  {
   "cell_type": "code",
   "execution_count": 37,
   "metadata": {},
   "outputs": [
    {
     "data": {
      "text/html": [
       "<pre>&lt;xarray.Dataset&gt;\n",
       "Dimensions:               (crs: 1, day: 366)\n",
       "Coordinates:\n",
       "    lon                   float64 -96.72\n",
       "    lat                   float64 43.53\n",
       "  * day                   (day) datetime64[ns] 2016-01-01 ... 2016-12-31\n",
       "  * crs                   (crs) uint16 3\n",
       "Data variables:\n",
       "    precipitation_amount  (day) float32 ...\n",
       "Attributes:\n",
       "    geospatial_bounds_crs:      EPSG:4326\n",
       "    Conventions:                CF-1.6\n",
       "    geospatial_bounds:          POLYGON((-124.7666666333333 49.40000000000000...\n",
       "    geospatial_lat_min:         25.066666666666666\n",
       "    geospatial_lat_max:         49.40000000000000\n",
       "    geospatial_lon_min:         -124.7666666333333\n",
       "    geospatial_lon_max:         -67.058333300000015\n",
       "    geospatial_lon_resolution:  0.041666666666666\n",
       "    geospatial_lat_resolution:  0.041666666666666\n",
       "    geospatial_lat_units:       decimal_degrees north\n",
       "    geospatial_lon_units:       decimal_degrees east\n",
       "    coordinate_system:          EPSG:4326\n",
       "    author:                     John Abatzoglou - University of Idaho, jabatz...\n",
       "    date:                       04 July 2019\n",
       "    note1:                      The projection information for this file is: ...\n",
       "    note2:                      Citation: Abatzoglou, J.T., 2013, Development...\n",
       "    note3:                      Data in slices after last_permanent_slice (1-...\n",
       "    note4:                      Data in slices after last_provisional_slice (...\n",
       "    note5:                      Days correspond approximately to calendar day...</pre>"
      ],
      "text/plain": [
       "<xarray.Dataset>\n",
       "Dimensions:               (crs: 1, day: 366)\n",
       "Coordinates:\n",
       "    lon                   float64 -96.72\n",
       "    lat                   float64 43.53\n",
       "  * day                   (day) datetime64[ns] 2016-01-01 ... 2016-12-31\n",
       "  * crs                   (crs) uint16 3\n",
       "Data variables:\n",
       "    precipitation_amount  (day) float32 ...\n",
       "Attributes:\n",
       "    geospatial_bounds_crs:      EPSG:4326\n",
       "    Conventions:                CF-1.6\n",
       "    geospatial_bounds:          POLYGON((-124.7666666333333 49.40000000000000...\n",
       "    geospatial_lat_min:         25.066666666666666\n",
       "    geospatial_lat_max:         49.40000000000000\n",
       "    geospatial_lon_min:         -124.7666666333333\n",
       "    geospatial_lon_max:         -67.058333300000015\n",
       "    geospatial_lon_resolution:  0.041666666666666\n",
       "    geospatial_lat_resolution:  0.041666666666666\n",
       "    geospatial_lat_units:       decimal_degrees north\n",
       "    geospatial_lon_units:       decimal_degrees east\n",
       "    coordinate_system:          EPSG:4326\n",
       "    author:                     John Abatzoglou - University of Idaho, jabatz...\n",
       "    date:                       04 July 2019\n",
       "    note1:                      The projection information for this file is: ...\n",
       "    note2:                      Citation: Abatzoglou, J.T., 2013, Development...\n",
       "    note3:                      Data in slices after last_permanent_slice (1-...\n",
       "    note4:                      Data in slices after last_provisional_slice (...\n",
       "    note5:                      Days correspond approximately to calendar day..."
      ]
     },
     "execution_count": 37,
     "metadata": {},
     "output_type": "execute_result"
    }
   ],
   "source": [
    "precip_sf_xr"
   ]
  },
  {
   "cell_type": "code",
   "execution_count": 38,
   "metadata": {},
   "outputs": [
    {
     "data": {
      "text/plain": [
       "array([ 0.        ,  0.        ,  0.        ,  0.        ,  0.        ,\n",
       "        0.        ,  4.3       ,  3.5       ,  0.        ,  0.        ,\n",
       "        0.        ,  0.        ,  0.        ,  1.3000001 ,  0.        ,\n",
       "        0.        ,  0.        ,  0.        ,  0.90000004,  0.        ,\n",
       "        0.        ,  0.        ,  0.        ,  0.        ,  1.        ,\n",
       "        0.        ,  0.        ,  0.        ,  0.        ,  0.        ,\n",
       "        0.        ,  0.        ,  0.        ,  0.        ,  0.        ,\n",
       "        0.        ,  0.        ,  0.        ,  0.        ,  0.        ,\n",
       "        0.        ,  3.5       ,  0.        ,  0.        ,  0.        ,\n",
       "        0.        ,  0.        ,  0.        ,  0.        ,  3.2       ,\n",
       "        3.3       ,  0.        ,  0.        , 11.3       ,  0.        ,\n",
       "        0.        ,  0.        ,  0.        ,  1.        ,  1.1       ,\n",
       "        0.        ,  0.        ,  0.        ,  0.        ,  0.        ,\n",
       "        0.        ,  0.        ,  0.        ,  0.        ,  0.        ,\n",
       "        0.        ,  1.6       ,  0.        ,  1.        ,  0.        ,\n",
       "        0.        ,  0.        ,  0.6       ,  0.        ,  0.        ,\n",
       "        0.        ,  0.        , 15.8       ,  0.        ,  0.        ,\n",
       "       19.2       ,  0.        ,  0.        , 17.2       ,  5.9       ,\n",
       "        6.7000003 ,  0.        ,  0.        ,  0.        ,  1.3000001 ,\n",
       "        1.7       ,  0.        ,  0.        ,  0.        ,  0.        ,\n",
       "        0.        ,  0.        ,  0.        ,  0.        ,  0.        ,\n",
       "        0.        ,  0.        ,  1.2       , 18.7       ,  0.        ,\n",
       "       18.300001  ,  1.2       ,  0.        ,  0.        , 20.5       ,\n",
       "        0.        ,  4.6       , 33.2       ,  0.5       ,  0.        ,\n",
       "       20.300001  ,  0.4       ,  0.        ,  0.        ,  0.        ,\n",
       "        0.        ,  2.3       ,  0.        ,  2.2       ,  2.8       ,\n",
       "        8.5       ,  3.5       ,  0.3       ,  0.90000004,  0.        ,\n",
       "        0.        ,  0.        ,  0.        ,  0.        ,  0.        ,\n",
       "        0.        ,  0.        , 21.1       ,  0.5       ,  5.        ,\n",
       "        2.7       ,  0.        , 14.7       , 26.300001  ,  0.        ,\n",
       "        9.3       ,  0.        ,  0.        ,  0.4       ,  7.9       ,\n",
       "        0.        ,  0.        ,  0.        ,  0.5       ,  3.6000001 ,\n",
       "        0.        ,  0.        ,  0.        ,  1.        ,  3.5       ,\n",
       "        0.8       ,  0.        ,  0.        ,  5.4       ,  0.        ,\n",
       "        0.        ,  0.        ,  6.3       ,  0.        ,  0.        ,\n",
       "        0.        ,  1.        ,  0.        ,  0.        ,  6.7000003 ,\n",
       "        0.        ,  0.        ,  0.        ,  0.        ,  0.        ,\n",
       "        0.        ,  0.        ,  4.1       ,  5.3       ,  0.        ,\n",
       "        0.6       ,  0.8       ,  0.        ,  0.        ,  0.        ,\n",
       "        0.        ,  0.        ,  4.1       ,  0.        , 11.8       ,\n",
       "        1.        ,  0.        ,  0.        ,  9.400001  ,  1.1       ,\n",
       "        0.        ,  0.        ,  0.        ,  0.        ,  0.        ,\n",
       "        0.        ,  0.        ,  0.        ,  0.        ,  0.        ,\n",
       "        0.        ,  1.6       ,  0.        ,  0.        ,  0.        ,\n",
       "        0.        ,  0.        , 29.300001  ,  2.6000001 ,  2.5       ,\n",
       "        0.        ,  0.        ,  0.        ,  0.        ,  0.        ,\n",
       "        1.3000001 ,  3.5       ,  0.        ,  0.        ,  0.        ,\n",
       "        0.4       ,  0.        ,  0.        , 13.900001  ,  0.        ,\n",
       "        0.        ,  0.6       ,  0.6       ,  0.        ,  0.        ,\n",
       "        0.        ,  0.5       , 38.8       ,  2.4       , 15.        ,\n",
       "        0.90000004,  2.7       ,  1.        ,  0.        ,  0.        ,\n",
       "        0.        ,  0.        ,  1.5       , 98.4       ,  0.        ,\n",
       "        0.        ,  0.        ,  0.        ,  0.        ,  0.5       ,\n",
       "       16.9       ,  4.1       ,  8.900001  ,  0.        ,  0.        ,\n",
       "        0.        ,  0.        ,  0.        ,  0.        ,  0.        ,\n",
       "        0.        ,  5.        , 46.5       ,  0.        , 12.3       ,\n",
       "        0.        ,  0.        ,  0.        ,  0.        ,  0.6       ,\n",
       "        0.        ,  0.        ,  0.        ,  0.        ,  0.4       ,\n",
       "        0.        ,  0.        ,  0.4       ,  0.        ,  0.        ,\n",
       "        0.        ,  0.        ,  0.        ,  0.        ,  0.        ,\n",
       "        0.        ,  0.        ,  0.        ,  0.        ,  0.        ,\n",
       "        0.        ,  0.        ,  0.        ,  0.        ,  0.        ,\n",
       "        0.        ,  1.1       ,  0.        ,  0.        ,  0.        ,\n",
       "        0.        ,  0.        ,  0.        ,  0.        ,  0.        ,\n",
       "        0.        ,  6.1       , 10.3       ,  0.        ,  0.        ,\n",
       "        1.8000001 , 13.7       ,  0.        ,  0.        ,  0.        ,\n",
       "        0.        , 16.5       ,  0.90000004,  0.90000004,  0.90000004,\n",
       "        0.        ,  0.        ,  0.4       ,  0.        ,  0.        ,\n",
       "        0.        ,  0.        ,  0.        ,  0.6       ,  6.2000003 ,\n",
       "        0.        ,  0.        ,  0.        ,  0.        ,  0.        ,\n",
       "        9.900001  ,  0.        ,  0.        ,  0.        ,  0.        ,\n",
       "        0.        ,  0.        ,  0.        ,  0.        , 25.5       ,\n",
       "        0.        ,  0.        ,  0.        ,  0.        ,  0.        ,\n",
       "        0.        ], dtype=float32)"
      ]
     },
     "execution_count": 38,
     "metadata": {},
     "output_type": "execute_result"
    }
   ],
   "source": [
    "precip_sf_xr['precipitation_amount'].values"
   ]
  },
  {
   "cell_type": "code",
   "execution_count": 39,
   "metadata": {},
   "outputs": [
    {
     "data": {
      "text/plain": [
       "[<matplotlib.lines.Line2D at 0x7fe42ae2aac8>]"
      ]
     },
     "execution_count": 39,
     "metadata": {},
     "output_type": "execute_result"
    },
    {
     "data": {
      "image/png": "[encoded data removed]",
      "text/plain": [
       "<Figure size 432x288 with 1 Axes>"
      ]
     },
     "metadata": {
      "needs_background": "light"
     },
     "output_type": "display_data"
    }
   ],
   "source": [
    "import matplotlib.pyplot as plt\n",
    "\n",
    "newdata = sf_precip_2016 = precip_sf_xr['precipitation_amount'].values\n",
    "plt.plot(newdata) # plotting by columns"
   ]
  },
  {
   "cell_type": "code",
   "execution_count": 40,
   "metadata": {},
   "outputs": [
    {
     "data": {
      "text/plain": [
       "98.4"
      ]
     },
     "execution_count": 40,
     "metadata": {},
     "output_type": "execute_result"
    }
   ],
   "source": [
    "sf_precip_2016.max()"
   ]
  },
  {
   "cell_type": "code",
   "execution_count": 41,
   "metadata": {},
   "outputs": [
    {
     "data": {
      "text/plain": [
       "3.8740158081054688"
      ]
     },
     "execution_count": 41,
     "metadata": {},
     "output_type": "execute_result"
    }
   ],
   "source": [
    "# how many inches\n",
    "\n",
    "max_inches = sf_precip_2016.max() / 25.4\n",
    "max_inches"
   ]
  },
  {
   "cell_type": "code",
   "execution_count": 42,
   "metadata": {},
   "outputs": [
    {
     "data": {
      "text/plain": [
       "2.2065578"
      ]
     },
     "execution_count": 42,
     "metadata": {},
     "output_type": "execute_result"
    }
   ],
   "source": [
    "sf_precip_2016.mean()"
   ]
  },
  {
   "cell_type": "code",
   "execution_count": 43,
   "metadata": {},
   "outputs": [
    {
     "data": {
      "text/plain": [
       "807.6001"
      ]
     },
     "execution_count": 43,
     "metadata": {},
     "output_type": "execute_result"
    }
   ],
   "source": [
    "sf_precip_2016.sum()"
   ]
  },
  {
   "cell_type": "code",
   "execution_count": 44,
   "metadata": {},
   "outputs": [
    {
     "data": {
      "text/plain": [
       "31.795279435285433"
      ]
     },
     "execution_count": 44,
     "metadata": {},
     "output_type": "execute_result"
    }
   ],
   "source": [
    "annual_inches = sf_precip_2016.sum() / 25.4\n",
    "annual_inches"
   ]
  },
  {
   "cell_type": "markdown",
   "metadata": {},
   "source": [
    "# Avg Rainfall for Sioux Falls is 27 Inches\n",
    "\n",
    "## so 31.8 is above normal and it depends on how fast it comes down"
   ]
  },
  {
   "cell_type": "code",
   "execution_count": 45,
   "metadata": {},
   "outputs": [],
   "source": [
    "result = np.where(sf_precip_2016 == sf_precip_2016.max())"
   ]
  },
  {
   "cell_type": "code",
   "execution_count": 46,
   "metadata": {},
   "outputs": [
    {
     "data": {
      "text/plain": [
       "(array([258]),)"
      ]
     },
     "execution_count": 46,
     "metadata": {},
     "output_type": "execute_result"
    }
   ],
   "source": [
    "result"
   ]
  },
  {
   "cell_type": "code",
   "execution_count": 47,
   "metadata": {},
   "outputs": [],
   "source": [
    "hardest_rain_day = result[0][0]"
   ]
  },
  {
   "cell_type": "code",
   "execution_count": 48,
   "metadata": {},
   "outputs": [
    {
     "data": {
      "text/plain": [
       "259"
      ]
     },
     "execution_count": 48,
     "metadata": {},
     "output_type": "execute_result"
    }
   ],
   "source": [
    "hardest_rain_day = int(hardest_rain_day) + 1\n",
    "hardest_rain_day"
   ]
  },
  {
   "cell_type": "code",
   "execution_count": 49,
   "metadata": {},
   "outputs": [
    {
     "data": {
      "text/plain": [
       "'20160916'"
      ]
     },
     "execution_count": 49,
     "metadata": {},
     "output_type": "execute_result"
    }
   ],
   "source": [
    "import datetime\n",
    "date = datetime.datetime(2016, 1, 1) + datetime.timedelta(hardest_rain_day) #This assumes that the year is 2016\n",
    "human_date = date.strftime('%Y%m%d')\n",
    "human_date"
   ]
  },
  {
   "cell_type": "markdown",
   "metadata": {},
   "source": [
    "# September 16th"
   ]
  },
  {
   "cell_type": "markdown",
   "metadata": {},
   "source": [
    "# Heavy rainfall and flooding on September 16, 2016\n",
    "www.weather.gov › fsd › 20160915-flooding-sesdswmnnwia\n",
    "Sep 16, 2016 - 1 to 2 inches of rain fell between 1 and 2 pm in Sioux Falls with over 3 inches of rain by 3 pm producing street flooding across the city.\n",
    "\n",
    "![r](https://media.graytvinc.com/images/810*455/Flooding+69th+and+Louise.jpg)"
   ]
  },
  {
   "cell_type": "markdown",
   "metadata": {},
   "source": [
    "---\n",
    "---\n",
    "![w](https://scontent.ffar1-1.fna.fbcdn.net/v/t1.0-9/64790138_2769861366361473_8056461991268581376_n.jpg?_nc_cat=108&_nc_sid=110474&_nc_ohc=8nX1eg-dPuYAX-JE5FM&_nc_ht=scontent.ffar1-1.fna&oh=eeab62da5570b9ee8acd851429139a76&oe=5E913620)\n"
   ]
  },
  {
   "cell_type": "markdown",
   "metadata": {},
   "source": [
    "# Mic Drop - Peace Out"
   ]
  },
  {
   "cell_type": "markdown",
   "metadata": {},
   "source": [
    "![m](https://media.dayoftheshirt.com/images/shirts/SH9tr/teepublic_science-its-like-magic-but-real-teepublic_1556660091.large.png)"
   ]
  },
  {
   "cell_type": "code",
   "execution_count": null,
   "metadata": {},
   "outputs": [],
   "source": []
  }
 ],
 "metadata": {
  "kernelspec": {
   "display_name": "Python 3",
   "language": "python",
   "name": "python3"
  },
  "language_info": {
   "codemirror_mode": {
    "name": "ipython",
    "version": 3
   },
   "file_extension": ".py",
   "mimetype": "text/x-python",
   "name": "python",
   "nbconvert_exporter": "python",
   "pygments_lexer": "ipython3",
   "version": "3.7.3"
  }
 },
 "nbformat": 4,
 "nbformat_minor": 4
}
