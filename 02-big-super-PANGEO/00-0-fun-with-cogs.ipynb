{
 "cells": [
  {
   "cell_type": "code",
   "execution_count": 20,
   "metadata": {},
   "outputs": [
    {
     "name": "stderr",
     "output_type": "stream",
     "text": [
      "2020-05-16 18:48:53,359 - WORKERBEE - INFO - Logging Begins\n",
      "2020-05-16 18:48:53,359 - WORKERBEE - INFO - Logging Begins\n",
      "2020-05-16 18:48:53,362 - WORKERBEE - INFO - starting whatever YAY!\n",
      "2020-05-16 18:48:53,362 - WORKERBEE - INFO - starting whatever YAY!\n"
     ]
    },
    {
     "name": "stdout",
     "output_type": "stream",
     "text": [
      "                                            geometry\n",
      "0  POLYGON ((-90.00000 49.90000, -80.00000 49.900...\n",
      "-90.0 -80.0 49.9 40.0\n",
      "Window(col_off=31509.966777102105, row_off=48.053714444195066, width=4805.371636630291, height=4757.317920263988)\n",
      "Pixel Y, X coords: 48, 31509\n",
      "Pixel Y, X coords: 9, 31509\n",
      "{'driver': 'GTiff', 'dtype': 'float32', 'nodata': -3.4028234663852886e+38, 'width': 49667, 'height': 14416, 'count': 1, 'crs': CRS.from_epsg(4326), 'transform': Affine(0.0020810045, 0.0, -155.57238265799998,\n",
      "       0.0, -0.0020810045, 49.999999996000085)}\n",
      "{'driver': 'GTiff', 'dtype': 'float32', 'nodata': -3.4028234663852886e+38, 'width': 4757, 'height': 4805, 'count': 1, 'crs': CRS.from_epsg(4326), 'transform': Affine(0.0020810045, 0.0, -90.0,\n",
      "       0.0, -0.0020810045, 49.9)}\n",
      "hello from s3get copying file a.tif\n",
      "aws s3 cp a.tif s3://dev-et-data/tony/gl_stripped.tif\n",
      "a.tif File Removed!\n"
     ]
    }
   ],
   "source": [
    "# %load ../20-00-data-wrangle-MODIS-NDVI/10-NDVI-daily-averages/workerbee.py\n",
    "import os\n",
    "import sys\n",
    "import pickle\n",
    "import geopandas as gpd\n",
    "import rasterio as rio\n",
    "from rasterio.windows import from_bounds\n",
    "from playLib.log_logger import log_make_logger\n",
    "from playLib.bo_bucket import s3cp\n",
    "\n",
    "\n",
    "\n",
    "def clip_by_geojson(infile,outfile,geojson_file):\n",
    "\n",
    "    filepath=infile\n",
    "    geoms = gpd.read_file(geojson_file)\n",
    "    print(geoms)\n",
    "    left = geoms.bounds.minx[0]\n",
    "    right = geoms.bounds.maxx[0]\n",
    "    top = geoms.bounds.maxy[0]\n",
    "    bottom = geoms.bounds.miny[0]\n",
    "\n",
    "    print(left,right,top,bottom)\n",
    "\n",
    "    with rio.open(filepath) as src:\n",
    "        my_window = from_bounds(left, bottom, right, top, src.transform)\n",
    "        print(my_window)\n",
    "\n",
    "        rst = src.read(1, window=my_window)\n",
    "\n",
    "        py, px = src.index(left, top)\n",
    "        print('Pixel Y, X coords: {}, {}'.format(py, px))\n",
    "\n",
    "        py, px = src.index(-90, 49.98)\n",
    "        print('Pixel Y, X coords: {}, {}'.format(py, px))\n",
    "        rst[(rst < 0)] = 0\n",
    "\n",
    "        # You can then write out a new file\n",
    "        meta = src.meta\n",
    "        print(meta)\n",
    "        #meta['width'], meta['height'] = rst.shape[1],rst.shape[0]\n",
    "        meta['width'], meta['height'] = rst.shape[0],rst.shape[1]\n",
    "\n",
    "        meta['transform'] = rio.windows.transform(my_window, src.transform)\n",
    "        print(meta)\n",
    "\n",
    "        with rio.open(outfile, 'w', **meta) as dst:\n",
    "        #with rio.open(outfile, 'w', **meta, compress=\"DEFLATE\",\n",
    "                   #tiled=True, blockxsize=256, blockysize=256) as dst:\n",
    "            dst.write(rst, 1)\n",
    "\n",
    "        return rst\n",
    "\n",
    "\n",
    "log=log_make_logger('WORKERBEE')\n",
    "log.info('starting whatever YAY!')\n",
    "\n",
    "geoj='great_lakes_edit.geojson'\n",
    "\n",
    "infile = 's3://' + 'dev-et-data/compressed/NDVI_filled/2001/' + '2001180.250_m_NDVI.tif'\n",
    "\n",
    "out= 's3://' + 'dev-et-data/tony/' + 'gl_stripped.tif'\n",
    "\n",
    "# out= 's3://' + 'dev-et-data/tony/' + 'gl_cog.tif'\n",
    "\n",
    "\n",
    "temp='a.tif'\n",
    "\n",
    "clip_by_geojson(infile,temp,geoj)\n",
    "\n",
    "s3cp(temp,out)\n",
    "os.remove(temp)\n",
    "print(\"{} File Removed!\".format(temp))\n"
   ]
  },
  {
   "cell_type": "code",
   "execution_count": 27,
   "metadata": {},
   "outputs": [
    {
     "name": "stdout",
     "output_type": "stream",
     "text": [
      "  COMPRESSION=DEFLATE\r\n",
      "Band 1 Block=256x256 Type=Float32, ColorInterp=Gray\r\n"
     ]
    }
   ],
   "source": [
    "! gdalinfo /vsis3/dev-et-data/tony/gl_cog.tif | egrep 'COMPRESSION|Block'"
   ]
  },
  {
   "cell_type": "code",
   "execution_count": 28,
   "metadata": {},
   "outputs": [
    {
     "name": "stdout",
     "output_type": "stream",
     "text": [
      "Band 1 Block=4757x1 Type=Float32, ColorInterp=Gray\r\n"
     ]
    }
   ],
   "source": [
    "! ! gdalinfo /vsis3/dev-et-data/tony/gl_stripped.tif | egrep 'COMPRESSION|Block'"
   ]
  },
  {
   "cell_type": "code",
   "execution_count": 14,
   "metadata": {},
   "outputs": [
    {
     "name": "stdout",
     "output_type": "stream",
     "text": [
      "my_cred.json\r\n",
      ".tif\r\n",
      ".tif\r\n"
     ]
    }
   ],
   "source": [
    "#!echo .tif >>.gitignore\n",
    "! cat .gitignore"
   ]
  },
  {
   "cell_type": "code",
   "execution_count": 29,
   "metadata": {},
   "outputs": [
    {
     "name": "stdout",
     "output_type": "stream",
     "text": [
      "2020-04-30 01:09:07 1171781350 2001180.250_m_NDVI.tif\r\n",
      "2020-04-30 01:09:19       2816 2001180.250_m_NDVI.tif.aux.xml\r\n"
     ]
    }
   ],
   "source": [
    "! aws s3 ls dev-et-data/compressed/NDVI_filled/2001/ | grep 2001180"
   ]
  },
  {
   "cell_type": "code",
   "execution_count": 32,
   "metadata": {},
   "outputs": [
    {
     "data": {
      "text/html": [
       "<div style=\"width:100%;\"><div style=\"position:relative;width:100%;height:0;padding-bottom:60%;\"><span style=\"color:#565656\">Make this Notebook Trusted to load map: File -> Trust Notebook</span><iframe src=\"about:blank\" style=\"position:absolute;width:100%;height:100%;left:0;top:0;border:none !important;\" data-html=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 onload=\"this.contentDocument.open();this.contentDocument.write(atob(this.getAttribute('data-html')));this.contentDocument.close();\" allowfullscreen webkitallowfullscreen mozallowfullscreen></iframe></div></div>"
      ],
      "text/plain": [
       "<folium.folium.Map at 0x7f3a094fa9b0>"
      ]
     },
     "execution_count": 32,
     "metadata": {},
     "output_type": "execute_result"
    }
   ],
   "source": [
    "# Show the geometry of scene vs AOI against a basemap\n",
    "import folium\n",
    "geoms = gpd.read_file('great_lakes_edit.geojson')\n",
    "m = folium.Map([50, -90], zoom_start=7, width=900, height=350, tiles='OpenStreetMap')\n",
    "folium.GeoJson(geoms).add_to(m)\n",
    "#m.add_child(Marker(location=[45.3676, -97.4048], popup='Waubay, South Dakota AOI', icon = folium.Icon(color = 'red')))\n",
    "#folium.LatLngPopup().add_to(m)\n",
    "m"
   ]
  },
  {
   "cell_type": "code",
   "execution_count": null,
   "metadata": {},
   "outputs": [],
   "source": []
  }
 ],
 "metadata": {
  "kernelspec": {
   "display_name": "Python 3",
   "language": "python",
   "name": "python3"
  },
  "language_info": {
   "codemirror_mode": {
    "name": "ipython",
    "version": 3
   },
   "file_extension": ".py",
   "mimetype": "text/x-python",
   "name": "python",
   "nbconvert_exporter": "python",
   "pygments_lexer": "ipython3",
   "version": "3.7.3"
  }
 },
 "nbformat": 4,
 "nbformat_minor": 4
}
