{
 "cells": [
  {
   "cell_type": "code",
   "execution_count": 1,
   "metadata": {},
   "outputs": [
    {
     "name": "stdout",
     "output_type": "stream",
     "text": [
      "Usage: rio [OPTIONS] COMMAND [ARGS]...\n",
      "\n",
      "  Rasterio command line interface.\n",
      "\n",
      "Options:\n",
      "  -v, --verbose           Increase verbosity.\n",
      "  -q, --quiet             Decrease verbosity.\n",
      "  --aws-profile TEXT      Select a profile from the AWS credentials file\n",
      "  --aws-no-sign-requests  Make requests anonymously\n",
      "  --aws-requester-pays    Requester pays data transfer costs\n",
      "  --version               Show the version and exit.\n",
      "  --gdal-version\n",
      "  --help                  Show this message and exit.\n",
      "\n",
      "Commands:\n",
      "  blocks     Write dataset blocks as GeoJSON features.\n",
      "  bounds     Write bounding boxes to stdout as GeoJSON.\n",
      "  calc       Raster data calculator.\n",
      "  clip       Clip a raster to given bounds.\n",
      "  cogeo      † Warning: could not load plugin. See `rio cogeo --help`.\n",
      "  convert    Copy and convert raster dataset.\n",
      "  edit-info  Edit dataset metadata.\n",
      "  env        Print information about the Rasterio environment.\n",
      "  gcps       Print ground control points as GeoJSON.\n",
      "  info       Print information about a data file.\n",
      "  insp       Open a data file and start an interpreter.\n",
      "  mask       Mask in raster using features.\n",
      "  merge      Merge a stack of raster datasets.\n",
      "  overview   Construct overviews in an existing dataset.\n",
      "  rasterize  Rasterize features.\n",
      "  rm         Delete a dataset.\n",
      "  sample     Sample a dataset.\n",
      "  shapes     Write shapes extracted from bands or masks.\n",
      "  stack      Stack a number of bands into a multiband dataset.\n",
      "  transform  Transform coordinates.\n",
      "  warp       Warp a raster dataset.\n"
     ]
    }
   ],
   "source": [
    "! rio --help"
   ]
  },
  {
   "cell_type": "markdown",
   "metadata": {},
   "source": [
    "## --request-payer=requester\n",
    "\n",
    "You must authenticate all requests involving Requester Pays buckets. The request authentication enables Amazon S3 to identify and charge the requester for their use of the Requester Pays bucket. \n",
    "\n",
    "[5/6 2:41 PM] Congdon, Samuel F\n",
    "    yeah, you have to add the --request-payer=requester argument for CLI commands\n"
   ]
  },
  {
   "cell_type": "code",
   "execution_count": 2,
   "metadata": {},
   "outputs": [
    {
     "name": "stdout",
     "output_type": "stream",
     "text": [
      "env: awr='aws --request-payer=requester'\n"
     ]
    }
   ],
   "source": [
    "%env awr='aws --request-payer=requester'"
   ]
  },
  {
   "cell_type": "code",
   "execution_count": 6,
   "metadata": {},
   "outputs": [
    {
     "name": "stdout",
     "output_type": "stream",
     "text": [
      "/bin/sh: 1: 'aws: not found\n"
     ]
    }
   ],
   "source": [
    "! $awr s3 ls dev-et-data/"
   ]
  },
  {
   "cell_type": "code",
   "execution_count": 7,
   "metadata": {},
   "outputs": [
    {
     "name": "stdout",
     "output_type": "stream",
     "text": [
      "Requirement already satisfied: awscli in /home/jovyan/.local/lib/python3.7/site-packages (1.17.15)\n",
      "Requirement already satisfied: s3transfer<0.4.0,>=0.3.0 in /home/jovyan/.local/lib/python3.7/site-packages (from awscli) (0.3.3)\n",
      "Requirement already satisfied: docutils<0.16,>=0.10 in /srv/conda/envs/pangeo/lib/python3.7/site-packages (from awscli) (0.15.2)\n",
      "Requirement already satisfied: botocore==1.14.15 in /home/jovyan/.local/lib/python3.7/site-packages (from awscli) (1.14.15)\n",
      "Requirement already satisfied: rsa<=3.5.0,>=3.1.2 in /home/jovyan/.local/lib/python3.7/site-packages (from awscli) (3.4.2)\n",
      "Collecting PyYAML<5.3,>=3.10\n",
      "  Downloading PyYAML-5.2.tar.gz (265 kB)\n",
      "\u001b[K     |████████████████████████████████| 265 kB 3.0 MB/s eta 0:00:01\n",
      "\u001b[?25hRequirement already satisfied: colorama<0.4.4,>=0.2.5; python_version != \"3.4\" in /home/jovyan/.local/lib/python3.7/site-packages (from awscli) (0.4.3)\n",
      "Requirement already satisfied: python-dateutil<3.0.0,>=2.1 in /srv/conda/envs/pangeo/lib/python3.7/site-packages (from botocore==1.14.15->awscli) (2.7.5)\n",
      "Requirement already satisfied: jmespath<1.0.0,>=0.7.1 in /srv/conda/envs/pangeo/lib/python3.7/site-packages (from botocore==1.14.15->awscli) (0.9.5)\n",
      "Requirement already satisfied: urllib3<1.26,>=1.20; python_version != \"3.4\" in /srv/conda/envs/pangeo/lib/python3.7/site-packages (from botocore==1.14.15->awscli) (1.25.9)\n",
      "Requirement already satisfied: pyasn1>=0.1.3 in /srv/conda/envs/pangeo/lib/python3.7/site-packages (from rsa<=3.5.0,>=3.1.2->awscli) (0.4.8)\n",
      "Requirement already satisfied: six>=1.5 in /srv/conda/envs/pangeo/lib/python3.7/site-packages (from python-dateutil<3.0.0,>=2.1->botocore==1.14.15->awscli) (1.14.0)\n",
      "Building wheels for collected packages: PyYAML\n",
      "  Building wheel for PyYAML (setup.py) ... \u001b[?25ldone\n",
      "\u001b[?25h  Created wheel for PyYAML: filename=PyYAML-5.2-cp37-cp37m-linux_x86_64.whl size=44209 sha256=de0572290c25c8ebed7f0a93a0134c4ba0f3a93a5d0efc7c4cbb0ae8c9d7ca76\n",
      "  Stored in directory: /home/jovyan/.cache/pip/wheels/c5/67/65/80b02387630c3794fc9bab68ca0de3dd87d639d65936026527\n",
      "Successfully built PyYAML\n",
      "\u001b[31mERROR: ioos-tools 1.4.0 requires iris, which is not installed.\u001b[0m\n",
      "\u001b[31mERROR: ioos-tools 1.4.0 requires jupyter, which is not installed.\u001b[0m\n",
      "\u001b[31mERROR: kubernetes 10.1.0 has requirement pyyaml~=3.12, but you'll have pyyaml 5.2 which is incompatible.\u001b[0m\n",
      "Installing collected packages: PyYAML\n",
      "Successfully installed PyYAML-5.2\n"
     ]
    }
   ],
   "source": [
    "# ! pip install --user awscli"
   ]
  },
  {
   "cell_type": "code",
   "execution_count": 9,
   "metadata": {},
   "outputs": [
    {
     "name": "stdout",
     "output_type": "stream",
     "text": [
      "2019-09-19 16:05:42 cf-templates-1idkatmbgn6dx-us-west-2\n",
      "2020-03-11 15:52:01 chs-pangeo-data-bucket\n",
      "2020-04-07 21:59:38 csr-adminbucket-376067480372\n",
      "2020-03-19 15:30:11 devusgsdemobucketfordatalake\n",
      "2020-02-10 19:28:09 earthmap-pangeo-kubeconfigbucket-1bhpejwku7fa1\n",
      "2020-03-12 21:17:16 earthmapprod-datalake-testdata\n",
      "2019-12-18 17:42:01 pangeo-lidar-demo\n",
      "2019-12-17 22:07:07 pangeo-s3-demo-bucket\n",
      "2019-11-22 17:37:31 pangeo-scripts-bucket\n",
      "2020-03-13 16:20:30 testcreatedatasorceearthmapprod\n"
     ]
    }
   ],
   "source": [
    "! aws s3 ls"
   ]
  },
  {
   "cell_type": "code",
   "execution_count": 11,
   "metadata": {},
   "outputs": [
    {
     "name": "stdout",
     "output_type": "stream",
     "text": [
      "\n",
      "An error occurred (AccessDenied) when calling the ListObjectsV2 operation: Access Denied\n"
     ]
    }
   ],
   "source": [
    "! aws s3 ls dev-et-data/"
   ]
  },
  {
   "cell_type": "code",
   "execution_count": 16,
   "metadata": {},
   "outputs": [
    {
     "name": "stdout",
     "output_type": "stream",
     "text": [
      "env: awr='/home/jovyan/.local/bin/aws --request-payer=requester'\n",
      "bash: '/home/jovyan/.local/bin/aws: No such file or directory\n"
     ]
    }
   ],
   "source": [
    "%env awr='/home/jovyan/.local/bin/aws --request-payer=requester'\n",
    "! bash ${awr} s3 ls dev-et-data/"
   ]
  },
  {
   "cell_type": "code",
   "execution_count": 17,
   "metadata": {},
   "outputs": [
    {
     "name": "stdout",
     "output_type": "stream",
     "text": [
      "/bin/sh: 1: /home/jovyan/.local/bin/aws: not found\n"
     ]
    }
   ],
   "source": [
    "! /home/jovyan/.local/bin/aws s3 ls"
   ]
  },
  {
   "cell_type": "code",
   "execution_count": 20,
   "metadata": {},
   "outputs": [
    {
     "ename": "SyntaxError",
     "evalue": "invalid syntax (<ipython-input-20-b879c35d601b>, line 3)",
     "output_type": "error",
     "traceback": [
      "\u001b[0;36m  File \u001b[0;32m\"<ipython-input-20-b879c35d601b>\"\u001b[0;36m, line \u001b[0;32m3\u001b[0m\n\u001b[0;31m    alias awr='aws --request-payer=requester'\u001b[0m\n\u001b[0m            ^\u001b[0m\n\u001b[0;31mSyntaxError\u001b[0m\u001b[0;31m:\u001b[0m invalid syntax\n"
     ]
    }
   ],
   "source": [
    "%%bash\n",
    "\n",
    "alias awr='aws --request-payer=requester'\n",
    "amr s3 ls dev-et-data/"
   ]
  },
  {
   "cell_type": "code",
   "execution_count": 28,
   "metadata": {},
   "outputs": [],
   "source": [
    "\n",
    "%alias awr='aws --request-payer=requester'\n"
   ]
  },
  {
   "cell_type": "code",
   "execution_count": 30,
   "metadata": {},
   "outputs": [
    {
     "name": "stdout",
     "output_type": "stream",
     "text": [
      "/bin/sh: 1: awr: not found\n"
     ]
    }
   ],
   "source": [
    "! awr --help"
   ]
  },
  {
   "cell_type": "code",
   "execution_count": 32,
   "metadata": {},
   "outputs": [
    {
     "name": "stdout",
     "output_type": "stream",
     "text": [
      "                           PRE NDVI_filled/\n",
      "                           PRE compressed/\n",
      "                           PRE level-1/\n",
      "                           PRE t50n-90e/\n",
      "                           PRE v1DRB_outputs/\n",
      "2020-05-05 23:59:59         62 Readme-bucket.md\n",
      "2020-05-05 23:50:00         13 tony.txt\n"
     ]
    }
   ],
   "source": [
    "%%bash\n",
    "\n",
    "export awr='aws --request-payer=requester'\n",
    "\n",
    "${awr} s3 ls dev-et-data/"
   ]
  },
  {
   "cell_type": "code",
   "execution_count": 33,
   "metadata": {},
   "outputs": [
    {
     "data": {
      "text/plain": [
       "{'CONDA_SHLVL': '1',\n",
       " 'LC_ALL': 'C.UTF-8',\n",
       " 'JUPYTERHUB_CLIENT_ID': 'jupyterhub-user-butzer%40contractor.usgs.gov',\n",
       " 'CONDA_EXE': '/srv/conda/bin/conda',\n",
       " 'PROXY_API_PORT': 'tcp://172.20.190.162:8001',\n",
       " 'GDAL_DATA': '/srv/conda/envs/pangeo/share/gdal',\n",
       " 'PROXY_API_PORT_8001_TCP_PORT': '8001',\n",
       " 'JUPYTERHUB_ADMIN_ACCESS': '1',\n",
       " 'LANG': 'C.UTF-8',\n",
       " 'HUB_PORT_8081_TCP_PROTO': 'tcp',\n",
       " 'HUB_SERVICE_HOST': '172.20.135.17',\n",
       " 'HOSTNAME': 'jupyter-butzer-40contractor-2eusgs-2egov',\n",
       " 'PANGEO_ENV': 'pangeo-notebook',\n",
       " 'NB_UID': '1000',\n",
       " 'GSETTINGS_SCHEMA_DIR_CONDA_BACKUP': '',\n",
       " 'CPL_ZIP_ENCODING': 'UTF-8',\n",
       " 'PROXY_PUBLIC_PORT_80_TCP_ADDR': '172.20.190.184',\n",
       " 'PROXY_PUBLIC_PORT_443_TCP_ADDR': '172.20.190.184',\n",
       " 'CONDA_PREFIX': '/srv/conda/envs/pangeo',\n",
       " 'PROXY_PUBLIC_PORT_80_TCP_PORT': '80',\n",
       " 'CONDA_DIR': '/srv/conda',\n",
       " 'CONDA_VERSION': '4.7.12.1',\n",
       " 'PROXY_PUBLIC_SERVICE_PORT': '80',\n",
       " '_CE_M': '',\n",
       " 'KUBERNETES_PORT_443_TCP_PROTO': 'tcp',\n",
       " 'JUPYTERHUB_ACTIVITY_URL': 'http://172.20.135.17:8081/hub/api/users/butzer@contractor.usgs.gov/activity',\n",
       " 'PROXY_PUBLIC_SERVICE_HOST': '172.20.190.184',\n",
       " 'KUBERNETES_PORT_443_TCP_ADDR': '172.20.0.1',\n",
       " 'PROJ_LIB': '/srv/conda/envs/pangeo/share/proj',\n",
       " 'HUB_PORT_8081_TCP': 'tcp://172.20.135.17:8081',\n",
       " 'CPU_LIMIT': '4.0',\n",
       " 'JUPYTERHUB_BASE_URL': '/',\n",
       " 'PROXY_PUBLIC_PORT_443_TCP': 'tcp://172.20.190.184:443',\n",
       " 'PROXY_PUBLIC_SERVICE_PORT_HTTP': '80',\n",
       " 'AWS_WEB_IDENTITY_TOKEN_FILE': '<hidden>',\n",
       " 'KUBERNETES_PORT': 'tcp://172.20.0.1:443',\n",
       " 'HUB_PORT': 'tcp://172.20.135.17:8081',\n",
       " 'PROXY_PUBLIC_PORT_80_TCP': 'tcp://172.20.190.184:80',\n",
       " 'PWD': '/home/jovyan',\n",
       " 'HOME': '/home/jovyan',\n",
       " 'PROXY_API_SERVICE_HOST': '172.20.190.162',\n",
       " 'CONDA_PYTHON_EXE': '/srv/conda/bin/python',\n",
       " 'JUPYTERHUB_USER': 'butzer@contractor.usgs.gov',\n",
       " 'KUBERNETES_SERVICE_PORT_HTTPS': '443',\n",
       " 'PROXY_API_PORT_8001_TCP': 'tcp://172.20.190.162:8001',\n",
       " 'PROXY_API_SERVICE_PORT': '8001',\n",
       " 'DASK_ROOT_CONFIG': '/srv/conda/etc',\n",
       " 'PROXY_API_PORT_8001_TCP_ADDR': '172.20.190.162',\n",
       " 'CPU_GUARANTEE': '3.0',\n",
       " 'PROXY_PUBLIC_PORT': 'tcp://172.20.190.184:80',\n",
       " 'KUBERNETES_PORT_443_TCP_PORT': '443',\n",
       " '_CE_CONDA': '',\n",
       " 'GSETTINGS_SCHEMA_DIR': '/srv/conda/envs/pangeo/share/glib-2.0/schemas',\n",
       " 'NB_USER': 'jovyan',\n",
       " 'HUB_PORT_8081_TCP_PORT': '8081',\n",
       " 'PROJ_NETWORK': 'ON',\n",
       " 'KUBERNETES_PORT_443_TCP': 'tcp://172.20.0.1:443',\n",
       " 'JUPYTERHUB_SERVICE_PREFIX': '/user/butzer@contractor.usgs.gov/',\n",
       " 'CONDA_PROMPT_MODIFIER': '(pangeo) ',\n",
       " 'PROXY_API_PORT_8001_TCP_PROTO': 'tcp',\n",
       " 'HUB_PORT_8081_TCP_ADDR': '172.20.135.17',\n",
       " 'JUPYTERHUB_SERVER_NAME': '',\n",
       " 'SHELL': '/bin/bash',\n",
       " 'MEM_GUARANTEE': '11811160064',\n",
       " 'UDUNITS2_XML_PATH': '/srv/conda/envs/pangeo/share/udunits/udunits2.xml',\n",
       " 'JUPYTER_IMAGE': '376067480372.dkr.ecr.us-west-2.amazonaws.com/pangeo-notebook:2020.04.29',\n",
       " 'MEM_LIMIT': '16106127360',\n",
       " 'NB_PYTHON_PREFIX': '/srv/conda/envs/pangeo',\n",
       " 'HUB_SERVICE_PORT': '8081',\n",
       " 'JUPYTERHUB_API_URL': 'http://172.20.135.17:8081/hub/api',\n",
       " 'SHLVL': '0',\n",
       " 'PROXY_PUBLIC_PORT_80_TCP_PROTO': 'tcp',\n",
       " 'JUPYTERHUB_HOST': '',\n",
       " 'AWS_ROLE_ARN': 'arn:aws:iam::376067480372:role/eks-pangeo-node',\n",
       " 'JPY_API_TOKEN': '<hidden>',\n",
       " 'KUBERNETES_SERVICE_PORT': '443',\n",
       " 'PROXY_PUBLIC_PORT_443_TCP_PORT': '443',\n",
       " 'PROXY_PUBLIC_PORT_443_TCP_PROTO': 'tcp',\n",
       " 'JUPYTERHUB_OAUTH_CALLBACK_URL': '/user/butzer@contractor.usgs.gov/oauth_callback',\n",
       " 'PROXY_PUBLIC_SERVICE_PORT_HTTPS': '443',\n",
       " 'JUPYTERHUB_API_TOKEN': '<hidden>',\n",
       " 'PATH': '/srv/conda/envs/pangeo/bin:/srv/conda/condabin:/srv/conda/bin:/usr/local/sbin:/usr/local/bin:/usr/sbin:/usr/bin:/sbin:/bin',\n",
       " 'CONDA_DEFAULT_ENV': 'pangeo',\n",
       " 'KUBERNETES_SERVICE_HOST': '172.20.0.1',\n",
       " 'JUPYTER_IMAGE_SPEC': '376067480372.dkr.ecr.us-west-2.amazonaws.com/pangeo-notebook:2020.04.29',\n",
       " 'KERNEL_LAUNCH_TIMEOUT': '40',\n",
       " 'JPY_PARENT_PID': '1',\n",
       " 'TERM': 'xterm-color',\n",
       " 'CLICOLOR': '1',\n",
       " 'PAGER': 'cat',\n",
       " 'GIT_PAGER': 'cat',\n",
       " 'MPLBACKEND': 'module://ipykernel.pylab.backend_inline',\n",
       " 'awr': \"'/home/jovyan/.local/bin/aws --request-payer=requester'\"}"
      ]
     },
     "execution_count": 33,
     "metadata": {},
     "output_type": "execute_result"
    }
   ],
   "source": [
    "%env"
   ]
  },
  {
   "cell_type": "code",
   "execution_count": 34,
   "metadata": {},
   "outputs": [
    {
     "name": "stdout",
     "output_type": "stream",
     "text": [
      "env: awr=aws --request-payer=requester\n"
     ]
    }
   ],
   "source": [
    "%env awr=aws --request-payer=requester"
   ]
  },
  {
   "cell_type": "code",
   "execution_count": 35,
   "metadata": {},
   "outputs": [
    {
     "name": "stdout",
     "output_type": "stream",
     "text": [
      "usage: aws [options] <command> <subcommand> [<subcommand> ...] [parameters]\n",
      "To see help text, you can run:\n",
      "\n",
      "  aws help\n",
      "  aws <command> help\n",
      "  aws <command> <subcommand> help\n",
      "aws: error: the following arguments are required: command\n"
     ]
    }
   ],
   "source": [
    "! $awr --help"
   ]
  },
  {
   "cell_type": "code",
   "execution_count": 36,
   "metadata": {},
   "outputs": [
    {
     "name": "stdout",
     "output_type": "stream",
     "text": [
      "                           PRE NDVI_filled/\n",
      "                           PRE compressed/\n",
      "                           PRE level-1/\n",
      "                           PRE t50n-90e/\n",
      "                           PRE v1DRB_outputs/\n",
      "2020-05-05 23:59:59         62 Readme-bucket.md\n",
      "2020-05-05 23:50:00         13 tony.txt\n"
     ]
    }
   ],
   "source": [
    "! $awr s3 ls dev-et-data/"
   ]
  },
  {
   "cell_type": "code",
   "execution_count": null,
   "metadata": {},
   "outputs": [],
   "source": []
  }
 ],
 "metadata": {
  "kernelspec": {
   "display_name": "Python 3",
   "language": "python",
   "name": "python3"
  },
  "language_info": {
   "codemirror_mode": {
    "name": "ipython",
    "version": 3
   },
   "file_extension": ".py",
   "mimetype": "text/x-python",
   "name": "python",
   "nbconvert_exporter": "python",
   "pygments_lexer": "ipython3",
   "version": "3.7.6"
  }
 },
 "nbformat": 4,
 "nbformat_minor": 4
}
