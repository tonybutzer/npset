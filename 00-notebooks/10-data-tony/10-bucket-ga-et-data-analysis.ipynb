{
 "cells": [
  {
   "cell_type": "markdown",
   "metadata": {},
   "source": [
    "# 00-bucket-ga-et-data-analysis\n",
    "\n"
   ]
  },
  {
   "cell_type": "code",
   "execution_count": 1,
   "metadata": {},
   "outputs": [
    {
     "name": "stdout",
     "output_type": "stream",
     "text": [
      "                           PRE MODIS_NDVI/\r\n",
      "                           PRE inputsv0/\r\n",
      "                           PRE lunch/\r\n",
      "2020-02-26 05:11:08        100 readme-bucket.md\r\n"
     ]
    }
   ],
   "source": [
    "!aws s3 ls ga-et-data"
   ]
  },
  {
   "cell_type": "code",
   "execution_count": 3,
   "metadata": {},
   "outputs": [
    {
     "name": "stdout",
     "output_type": "stream",
     "text": [
      "                           PRE 2013/\r\n",
      "                           PRE 2014/\r\n",
      "                           PRE 2015/\r\n",
      "                           PRE 2016/\r\n"
     ]
    }
   ],
   "source": [
    "!aws s3 ls ga-et-data/MODIS_NDVI/"
   ]
  },
  {
   "cell_type": "code",
   "execution_count": 4,
   "metadata": {},
   "outputs": [],
   "source": [
    "!aws s3 ls ga-et-data/MODIS_NDVI/2016/ > 2016.out"
   ]
  },
  {
   "cell_type": "code",
   "execution_count": 5,
   "metadata": {},
   "outputs": [
    {
     "name": "stdout",
     "output_type": "stream",
     "text": [
      "2020-02-28 13:48:04         83 2016001.1_km_16_days_NDVI.tfw\r\n",
      "2020-02-28 13:48:16  137661274 2016001.1_km_16_days_NDVI.tif\r\n",
      "2020-02-28 13:48:05       1833 2016001.1_km_16_days_NDVI.tif.aux.xml\r\n",
      "2020-02-28 13:48:04         83 2016002.1_km_16_days_NDVI.tfw\r\n",
      "2020-02-28 13:48:36  137661288 2016002.1_km_16_days_NDVI.tif\r\n",
      "2020-02-28 13:48:05       1839 2016002.1_km_16_days_NDVI.tif.aux.xml\r\n",
      "2020-02-28 13:48:05         83 2016003.1_km_16_days_NDVI.tfw\r\n",
      "2020-02-28 13:48:36  137661290 2016003.1_km_16_days_NDVI.tif\r\n",
      "2020-02-28 13:48:05       1836 2016003.1_km_16_days_NDVI.tif.aux.xml\r\n",
      "2020-02-28 13:48:05         83 2016004.1_km_16_days_NDVI.tfw\r\n"
     ]
    }
   ],
   "source": [
    "! head 2016.out"
   ]
  },
  {
   "cell_type": "code",
   "execution_count": 7,
   "metadata": {},
   "outputs": [
    {
     "name": "stdout",
     "output_type": "stream",
     "text": [
      "Driver: GTiff/GeoTIFF\n",
      "Files: /vsis3/ga-et-data/MODIS_NDVI/2016/2016001.1_km_16_days_NDVI.tif\n",
      "       /vsis3/ga-et-data/MODIS_NDVI/2016/2016001.1_km_16_days_NDVI.tif.aux.xml\n",
      "Size is 10709, 3108\n",
      "Coordinate System is:\n",
      "GEOGCS[\"WGS 84\",\n",
      "    DATUM[\"WGS_1984\",\n",
      "        SPHEROID[\"WGS 84\",6378137,298.257223563,\n",
      "            AUTHORITY[\"EPSG\",\"7030\"]],\n",
      "        AUTHORITY[\"EPSG\",\"6326\"]],\n",
      "    PRIMEM[\"Greenwich\",0],\n",
      "    UNIT[\"degree\",0.0174532925199433],\n",
      "    AUTHORITY[\"EPSG\",\"4326\"]]\n",
      "Origin = (-155.572382657999981,49.999999996000085)\n",
      "Pixel Size = (0.009651999920610,-0.009651999920610)\n",
      "Metadata:\n",
      "  AREA_OR_POINT=Area\n",
      "Image Structure Metadata:\n",
      "  INTERLEAVE=BAND\n",
      "Corner Coordinates:\n",
      "Upper Left  (-155.5723827,  50.0000000) (155d34'20.58\"W, 50d 0' 0.00\"N)\n",
      "Lower Left  (-155.5723827,  20.0015842) (155d34'20.58\"W, 20d 0' 5.70\"N)\n",
      "Upper Right ( -52.2091155,  50.0000000) ( 52d12'32.82\"W, 50d 0' 0.00\"N)\n",
      "Lower Right ( -52.2091155,  20.0015842) ( 52d12'32.82\"W, 20d 0' 5.70\"N)\n",
      "Center      (-103.8907491,  35.0007921) (103d53'26.70\"W, 35d 0' 2.85\"N)\n",
      "Band 1 Block=128x128 Type=Float32, ColorInterp=Gray\n",
      "  Min=-0.200 Max=1.000 \n",
      "  Minimum=-0.200, Maximum=1.000, Mean=0.266, StdDev=0.242\n",
      "  NoData Value=-3.4028234663852886e+38\n",
      "  Metadata:\n",
      "    RepresentationType=ATHEMATIC\n",
      "    STATISTICS_MAXIMUM=1\n",
      "    STATISTICS_MEAN=0.26590508982606\n",
      "    STATISTICS_MINIMUM=-0.20000000298023\n",
      "    STATISTICS_SKIPFACTORX=1\n",
      "    STATISTICS_SKIPFACTORY=1\n",
      "    STATISTICS_STDDEV=0.24240629786687\n"
     ]
    }
   ],
   "source": [
    "! gdalinfo /vsis3/ga-et-data/MODIS_NDVI/2016/2016001.1_km_16_days_NDVI.tif"
   ]
  },
  {
   "cell_type": "code",
   "execution_count": 9,
   "metadata": {},
   "outputs": [
    {
     "name": "stdout",
     "output_type": "stream",
     "text": [
      "env: CURL_CA_BUNDLE=/etc/ssl/certs/ca-certificates.crt\n",
      "{\"blockxsize\": 128, \"blockysize\": 128, \"bounds\": [-155.57238265799998, 20.001584242744208, -52.209115508187494, 49.999999996000085], \"colorinterp\": [\"gray\"], \"count\": 1, \"crs\": \"EPSG:4326\", \"descriptions\": [null], \"driver\": \"GTiff\", \"dtype\": \"float32\", \"height\": 3108, \"indexes\": [1], \"interleave\": \"band\", \"lnglat\": [-103.89074908309374, 35.00079211937215], \"mask_flags\": [[\"nodata\"]], \"nodata\": -3.4028234663852886e+38, \"res\": [0.00965199992061, 0.00965199992061], \"shape\": [3108, 10709], \"tiled\": true, \"transform\": [0.00965199992061, 0.0, -155.57238265799998, 0.0, -0.00965199992061, 49.999999996000085, 0.0, 0.0, 1.0], \"units\": [null], \"width\": 10709}\n"
     ]
    }
   ],
   "source": [
    "%env CURL_CA_BUNDLE=/etc/ssl/certs/ca-certificates.crt\n",
    "! rio info "
   ]
  },
  {
   "cell_type": "code",
   "execution_count": 10,
   "metadata": {},
   "outputs": [],
   "source": [
    "import rasterio\n",
    "\n",
    "tif_file = '/vsis3/ga-et-data/MODIS_NDVI/2016/2016001.1_km_16_days_NDVI.tif'\n",
    "\n",
    "scale_factor = 4\n",
    "\n",
    "with rasterio.open(tif_file) as src:\n",
    "    myThumb = src.read(1, out_shape=(1, int(src.height // scale_factor), int(src.width // scale_factor)))"
   ]
  },
  {
   "cell_type": "code",
   "execution_count": 11,
   "metadata": {},
   "outputs": [
    {
     "data": {
      "text/plain": [
       "(777, 2677)"
      ]
     },
     "execution_count": 11,
     "metadata": {},
     "output_type": "execute_result"
    }
   ],
   "source": [
    "myThumb.shape"
   ]
  },
  {
   "cell_type": "code",
   "execution_count": 12,
   "metadata": {},
   "outputs": [
    {
     "data": {
      "image/png": "[encoded data removed]",
      "text/plain": [
       "<Figure size 432x288 with 1 Axes>"
      ]
     },
     "metadata": {
      "needs_background": "light"
     },
     "output_type": "display_data"
    }
   ],
   "source": [
    "from rasterio.plot import show_hist\n",
    "show_hist(myThumb, bins=50, lw=0.0, stacked=False, alpha=0.3, histtype='stepfilled', title=\"Histogram\")"
   ]
  },
  {
   "cell_type": "code",
   "execution_count": 13,
   "metadata": {},
   "outputs": [
    {
     "data": {
      "text/plain": [
       "<matplotlib.image.AxesImage at 0x7fe2bf893208>"
      ]
     },
     "execution_count": 13,
     "metadata": {},
     "output_type": "execute_result"
    },
    {
     "data": {
      "image/png": "[encoded data removed]",
      "text/plain": [
       "<Figure size 432x288 with 1 Axes>"
      ]
     },
     "metadata": {
      "needs_background": "light"
     },
     "output_type": "display_data"
    }
   ],
   "source": [
    "%matplotlib inline\n",
    "from matplotlib import pyplot\n",
    "pyplot.imshow(myThumb, cmap='gray')\n"
   ]
  },
  {
   "cell_type": "code",
   "execution_count": 14,
   "metadata": {},
   "outputs": [],
   "source": [
    " modis_ndvi_scaling = 0.0001"
   ]
  },
  {
   "cell_type": "code",
   "execution_count": 16,
   "metadata": {},
   "outputs": [
    {
     "data": {
      "text/plain": [
       "['__class__',\n",
       " '__delattr__',\n",
       " '__dict__',\n",
       " '__dir__',\n",
       " '__doc__',\n",
       " '__enter__',\n",
       " '__eq__',\n",
       " '__exit__',\n",
       " '__format__',\n",
       " '__ge__',\n",
       " '__getattribute__',\n",
       " '__gt__',\n",
       " '__hash__',\n",
       " '__init__',\n",
       " '__init_subclass__',\n",
       " '__le__',\n",
       " '__lt__',\n",
       " '__module__',\n",
       " '__ne__',\n",
       " '__new__',\n",
       " '__pyx_vtable__',\n",
       " '__reduce__',\n",
       " '__reduce_ex__',\n",
       " '__repr__',\n",
       " '__setattr__',\n",
       " '__setstate__',\n",
       " '__sizeof__',\n",
       " '__str__',\n",
       " '__subclasshook__',\n",
       " '__weakref__',\n",
       " '_block_shapes',\n",
       " '_closed',\n",
       " '_count',\n",
       " '_crs',\n",
       " '_crs_wkt',\n",
       " '_descriptions',\n",
       " '_dtypes',\n",
       " '_env',\n",
       " '_gcps',\n",
       " '_get_crs',\n",
       " '_handle_crswkt',\n",
       " '_has_band',\n",
       " '_mask_flags',\n",
       " '_nodatavals',\n",
       " '_offsets',\n",
       " '_read',\n",
       " '_scales',\n",
       " '_set_all_descriptions',\n",
       " '_set_all_offsets',\n",
       " '_set_all_scales',\n",
       " '_set_all_units',\n",
       " '_set_attrs_from_dataset_handle',\n",
       " '_set_crs',\n",
       " '_set_gcps',\n",
       " '_set_nodatavals',\n",
       " '_transform',\n",
       " '_units',\n",
       " 'block_shapes',\n",
       " 'block_size',\n",
       " 'block_window',\n",
       " 'block_windows',\n",
       " 'bounds',\n",
       " 'checksum',\n",
       " 'close',\n",
       " 'closed',\n",
       " 'colorinterp',\n",
       " 'colormap',\n",
       " 'compression',\n",
       " 'count',\n",
       " 'crs',\n",
       " 'dataset_mask',\n",
       " 'descriptions',\n",
       " 'driver',\n",
       " 'dtypes',\n",
       " 'files',\n",
       " 'gcps',\n",
       " 'get_gcps',\n",
       " 'get_nodatavals',\n",
       " 'get_tag_item',\n",
       " 'get_transform',\n",
       " 'height',\n",
       " 'index',\n",
       " 'indexes',\n",
       " 'interleaving',\n",
       " 'is_tiled',\n",
       " 'lnglat',\n",
       " 'mask_flag_enums',\n",
       " 'meta',\n",
       " 'mode',\n",
       " 'name',\n",
       " 'nodata',\n",
       " 'nodatavals',\n",
       " 'offsets',\n",
       " 'options',\n",
       " 'overviews',\n",
       " 'photometric',\n",
       " 'profile',\n",
       " 'read',\n",
       " 'read_crs',\n",
       " 'read_masks',\n",
       " 'read_transform',\n",
       " 'res',\n",
       " 'sample',\n",
       " 'scales',\n",
       " 'shape',\n",
       " 'stop',\n",
       " 'subdatasets',\n",
       " 'tag_namespaces',\n",
       " 'tags',\n",
       " 'transform',\n",
       " 'units',\n",
       " 'width',\n",
       " 'window',\n",
       " 'window_bounds',\n",
       " 'window_transform',\n",
       " 'write_transform',\n",
       " 'xy']"
      ]
     },
     "execution_count": 16,
     "metadata": {},
     "output_type": "execute_result"
    }
   ],
   "source": [
    "dir(src)"
   ]
  },
  {
   "cell_type": "code",
   "execution_count": 17,
   "metadata": {},
   "outputs": [],
   "source": [
    "# https://lpdaac.usgs.gov/resources/e-learning/masking-visualizing-and-plotting-appeears-output-geotiff-time-series-python/"
   ]
  },
  {
   "cell_type": "code",
   "execution_count": null,
   "metadata": {},
   "outputs": [],
   "source": []
  }
 ],
 "metadata": {
  "kernelspec": {
   "display_name": "Python 3",
   "language": "python",
   "name": "python3"
  },
  "language_info": {
   "codemirror_mode": {
    "name": "ipython",
    "version": 3
   },
   "file_extension": ".py",
   "mimetype": "text/x-python",
   "name": "python",
   "nbconvert_exporter": "python",
   "pygments_lexer": "ipython3",
   "version": "3.7.3"
  }
 },
 "nbformat": 4,
 "nbformat_minor": 4
}
