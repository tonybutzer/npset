{
 "cells": [
  {
   "cell_type": "code",
   "execution_count": 1,
   "metadata": {},
   "outputs": [
    {
     "name": "stdout",
     "output_type": "stream",
     "text": [
      "onething larry\n",
      "onething curly\n",
      "onething moe\n",
      "twothing larry\n",
      "twothing curly\n",
      "twothing moe\n",
      "threething larry\n",
      "threething curly\n",
      "threething moe\n",
      "{'onething': {'larry': ['larry_onething'], 'curly': ['curly_onething'], 'moe': ['moe_onething', 'moe_onething']}, 'twothing': {'larry': [], 'curly': [], 'moe': ['moe_twothing']}, 'threething': {'larry': ['larry_threething', 'larry_threething', 'larry_threething'], 'curly': ['curly_threething'], 'moe': ['moe_threething', 'moe_threething']}}\n"
     ]
    }
   ],
   "source": [
    "thinglist = ['onething', 'twothing', 'threething']\n",
    "stoogelist = ['larry', 'curly', 'moe']\n",
    "needs_sorting = ['larry_onething', 'larry_threething','curly_onething', 'larry_threething','moe_onething', 'larry_threething', 'moe_threething', 'moe_threething', 'moe_onething', 'curly_threething', 'moe_twothing']\n",
    "bigthing = {'onething': {'larry':[], 'curly': [], 'moe':[]}, 'twothing':{'larry':[], 'curly': [], 'moe':[]}, 'threething':{'larry':[], 'curly': [], 'moe':[]}}\n",
    "\n",
    "\n",
    "for thing in thinglist:\n",
    "    for stooge in stoogelist:\n",
    "        print (thing, stooge)\n",
    "        for item in needs_sorting:\n",
    "            st = item.split('_')[0]\n",
    "            th = item.split('_')[1]\n",
    "\n",
    "            if st == stooge and th == thing:\n",
    "                bigthing[th][stooge].append(item)\n",
    "\n",
    "\n",
    "print (bigthing)"
   ]
  },
  {
   "cell_type": "code",
   "execution_count": 2,
   "metadata": {},
   "outputs": [
    {
     "name": "stdout",
     "output_type": "stream",
     "text": [
      "{'2017': {'11': [], '10': [], '12': [], '02': [], '03': [], '01': [], '06': [], '07': [], '04': [], '05': [], '08': [], '09': []}, '2016': {'11': [], '10': [], '12': [], '02': [], '03': ['03_2016'], '01': [], '06': [], '07': [], '04': [], '05': [], '08': [], '09': []}, '2019': {'11': [], '10': [], '12': [], '02': [], '03': [], '01': [], '06': [], '07': [], '04': [], '05': [], '08': [], '09': []}, '2018': {'11': [], '10': [], '12': [], '02': [], '03': [], '01': [], '06': [], '07': [], '04': [], '05': [], '08': [], '09': []}}\n",
      "01 01 2017 2017\n",
      "01_2017\n",
      "01 01 2017 2017\n",
      "01_2017\n",
      "01 01 2017 2017\n",
      "01_2017\n",
      "01 01 2017 2017\n",
      "01_2017\n",
      "01 01 2017 2017\n",
      "01_2017\n",
      "01 01 2017 2017\n",
      "01_2017\n",
      "01 01 2018 2018\n",
      "01_2018\n",
      "01 01 2019 2019\n",
      "01_2019\n",
      "06 06 2019 2019\n",
      "06_2019\n",
      "07 07 2016 2016\n",
      "07_2016\n",
      "07 07 2017 2017\n",
      "07_2017\n",
      "08 08 2016 2016\n",
      "08_2016\n",
      "YEAR:  2016 {'11': [], '10': [], '12': [], '02': [], '03': ['03_2016'], '01': [], '06': [], '07': ['07_2016'], '04': [], '05': [], '08': ['08_2016'], '09': []}\n",
      "------------------------------------------------------------------------------------------------------------------------\n",
      "YEAR:  2017 {'11': [], '10': [], '12': [], '02': [], '03': [], '01': ['01_2017', '01_2017', '01_2017', '01_2017', '01_2017', '01_2017'], '06': [], '07': ['07_2017'], '04': [], '05': [], '08': [], '09': []}\n",
      "------------------------------------------------------------------------------------------------------------------------\n",
      "YEAR:  2018 {'11': [], '10': [], '12': [], '02': [], '03': [], '01': ['01_2018'], '06': [], '07': [], '04': [], '05': [], '08': [], '09': []}\n",
      "------------------------------------------------------------------------------------------------------------------------\n",
      "YEAR:  2019 {'11': [], '10': [], '12': [], '02': [], '03': [], '01': ['01_2019'], '06': ['06_2019'], '07': [], '04': [], '05': [], '08': [], '09': []}\n",
      "------------------------------------------------------------------------------------------------------------------------\n"
     ]
    }
   ],
   "source": [
    "months = ['01', '02', '03', '04', '05', '06', '07','08','09','10','11','12']\n",
    "yr_lst = ['2016','2017','2018','2019']\n",
    "lst_17 = ['01_2017','01_2018','01_2017','06_2019','01_2017','07_2016','07_2017',\n",
    "    '01_2017','08_2016','01_2017','01_2019','01_2017',]\n",
    "\n",
    "annual_dict = {'2017': {'11': [], '10': [], '12': [], '02': [], '03': [], '01': [], '06': [], '07': [], '04': [], '05': [], '08': [], '09': []},\n",
    "'2016': {'11': [], '10': [], '12': [], '02': [], '03': [], '01': [], '06': [], '07': [], '04': [], '05': [], '08': [], '09': []},\n",
    " '2019': {'11': [], '10': [], '12': [], '02': [], '03': [], '01': [], '06': [], '07': [], '04': [], '05': [], '08': [], '09': []},\n",
    " '2018': {'11': [], '10': [], '12': [], '02': [], '03': [], '01': [], '06': [], '07': [], '04': [], '05': [], '08': [], '09': []}}\n",
    "\n",
    "# this ADDS to EVERY key '03' but it SHOULDNT!\n",
    "annual_dict['2016']['03'].append('03_2016')\n",
    "\n",
    "print (annual_dict)\n",
    "\n",
    "# Which makes this loop all screwy\n",
    "for month in months:\n",
    "    for year in yr_lst:\n",
    "        for item in lst_17:\n",
    "            lstmo = item[0:2]\n",
    "            # print lstmo\n",
    "            lstyr = item[3:]\n",
    "            if lstmo == month and lstyr == year:\n",
    "                print (lstmo, month, lstyr, year)\n",
    "                print (item)\n",
    "                annual_dict[year][lstmo].append(item)\n",
    "\n",
    "for year in yr_lst:\n",
    "    print ('YEAR: ',year, annual_dict[year])\n",
    "    print ('---'*40)"
   ]
  },
  {
   "cell_type": "code",
   "execution_count": null,
   "metadata": {},
   "outputs": [],
   "source": []
  }
 ],
 "metadata": {
  "kernelspec": {
   "display_name": "Python 3",
   "language": "python",
   "name": "python3"
  },
  "language_info": {
   "codemirror_mode": {
    "name": "ipython",
    "version": 3
   },
   "file_extension": ".py",
   "mimetype": "text/x-python",
   "name": "python",
   "nbconvert_exporter": "python",
   "pygments_lexer": "ipython3",
   "version": "3.7.3"
  }
 },
 "nbformat": 4,
 "nbformat_minor": 4
}
