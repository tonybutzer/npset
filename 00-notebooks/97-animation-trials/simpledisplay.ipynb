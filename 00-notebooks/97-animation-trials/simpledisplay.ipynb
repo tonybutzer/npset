{
 "cells": [
  {
   "cell_type": "markdown",
   "metadata": {},
   "source": [
    "[testit](/home/ubuntu/junkbox/a001.png)"
   ]
  },
  {
   "cell_type": "code",
   "execution_count": 3,
   "metadata": {},
   "outputs": [
    {
     "name": "stdout",
     "output_type": "stream",
     "text": [
      "total 176\r\n",
      "-rw-rw-r-- 1 ubuntu ubuntu 43752 Apr  4 22:12 a001.png\r\n",
      "-rw-rw-r-- 1 ubuntu ubuntu 44250 Apr  4 22:12 a002.png\r\n",
      "-rw-rw-r-- 1 ubuntu ubuntu 44427 Apr  4 22:13 a003.png\r\n",
      "-rw-rw-r-- 1 ubuntu ubuntu 44101 Apr  4 22:13 a004.png\r\n"
     ]
    }
   ],
   "source": [
    "!ls -l /home/ubuntu/junkbox"
   ]
  },
  {
   "cell_type": "code",
   "execution_count": 4,
   "metadata": {},
   "outputs": [],
   "source": [
    "!cp /home/ubuntu/junkbox/a001.png ."
   ]
  },
  {
   "cell_type": "code",
   "execution_count": 5,
   "metadata": {},
   "outputs": [
    {
     "name": "stdout",
     "output_type": "stream",
     "text": [
      "10-animation-pnger-testing.ipynb  delaware.tif\t    evo_test116.png\r\n",
      "20-aws-numpy.ipynb\t\t  evo_animated.gif  make_pngs.py\r\n",
      "Untitled.ipynb\t\t\t  evo_animated.mp4\r\n",
      "a001.png\t\t\t  evo_test1.png\r\n"
     ]
    }
   ],
   "source": [
    "!ls"
   ]
  },
  {
   "cell_type": "markdown",
   "metadata": {},
   "source": [
    "![](a001.png)"
   ]
  },
  {
   "cell_type": "code",
   "execution_count": null,
   "metadata": {},
   "outputs": [],
   "source": []
  }
 ],
 "metadata": {
  "kernelspec": {
   "display_name": "Python 3",
   "language": "python",
   "name": "python3"
  },
  "language_info": {
   "codemirror_mode": {
    "name": "ipython",
    "version": 3
   },
   "file_extension": ".py",
   "mimetype": "text/x-python",
   "name": "python",
   "nbconvert_exporter": "python",
   "pygments_lexer": "ipython3",
   "version": "3.6.9"
  }
 },
 "nbformat": 4,
 "nbformat_minor": 4
}
