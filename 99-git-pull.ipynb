{
 "cells": [
  {
   "cell_type": "code",
   "execution_count": 1,
   "metadata": {},
   "outputs": [
    {
     "name": "stdout",
     "output_type": "stream",
     "text": [
      "warning: redirecting to https://github.com/tonybutzer/npset/\n",
      "remote: Enumerating objects: 10, done.\u001b[K\n",
      "remote: Counting objects: 100% (10/10), done.\u001b[K\n",
      "remote: Compressing objects: 100% (3/3), done.\u001b[K\n",
      "remote: Total 6 (delta 3), reused 6 (delta 3), pack-reused 0\u001b[K\n",
      "Unpacking objects: 100% (6/6), done.\n",
      "From http://github.com/tonybutzer/npset\n",
      "   ea805ab..8e55795  master     -> origin/master\n",
      "Updating ea805ab..8e55795\n",
      "Fast-forward\n",
      " mylib/playLib/playLib/log_logger.py | 15 \u001b[32m+++++++++++++++\u001b[m\n",
      " 1 file changed, 15 insertions(+)\n",
      " create mode 100644 mylib/playLib/playLib/log_logger.py\n"
     ]
    }
   ],
   "source": [
    "! git pull"
   ]
  },
  {
   "cell_type": "code",
   "execution_count": 2,
   "metadata": {},
   "outputs": [
    {
     "name": "stdout",
     "output_type": "stream",
     "text": [
      "pip install --user -e .\n",
      "Obtaining file:///home/jupyter-butzer/opt/npset/mylib/playLib\n",
      "Requirement already satisfied: boto3 in /home/jupyter-butzer/.local/lib/python3.7/site-packages (from playLib==1.0.1) (1.12.11)\n",
      "Requirement already satisfied: s3transfer<0.4.0,>=0.3.0 in /home/jupyter-butzer/.local/lib/python3.7/site-packages (from boto3->playLib==1.0.1) (0.3.3)\n",
      "Requirement already satisfied: botocore<1.16.0,>=1.15.11 in /home/jupyter-butzer/.local/lib/python3.7/site-packages (from boto3->playLib==1.0.1) (1.15.11)\n",
      "Requirement already satisfied: jmespath<1.0.0,>=0.7.1 in /home/jupyter-butzer/.local/lib/python3.7/site-packages (from boto3->playLib==1.0.1) (0.9.5)\n",
      "Requirement already satisfied: python-dateutil<3.0.0,>=2.1 in /home/jupyter-butzer/.local/lib/python3.7/site-packages (from botocore<1.16.0,>=1.15.11->boto3->playLib==1.0.1) (2.7.5)\n",
      "Requirement already satisfied: urllib3<1.26,>=1.20; python_version != \"3.4\" in /opt/tljh/user/lib/python3.7/site-packages (from botocore<1.16.0,>=1.15.11->boto3->playLib==1.0.1) (1.24.2)\n",
      "Requirement already satisfied: docutils<0.16,>=0.10 in /home/jupyter-butzer/.local/lib/python3.7/site-packages (from botocore<1.16.0,>=1.15.11->boto3->playLib==1.0.1) (0.15.2)\n",
      "Requirement already satisfied: six>=1.5 in /opt/tljh/user/lib/python3.7/site-packages (from python-dateutil<3.0.0,>=2.1->botocore<1.16.0,>=1.15.11->boto3->playLib==1.0.1) (1.12.0)\n",
      "Installing collected packages: playLib\n",
      "  Found existing installation: playLib 1.0.1\n",
      "    Uninstalling playLib-1.0.1:\n",
      "      Successfully uninstalled playLib-1.0.1\n",
      "  Running setup.py develop for playLib\n",
      "Successfully installed playLib\n"
     ]
    }
   ],
   "source": [
    "! ( cd ~/opt/npset/mylib/playLib; make)"
   ]
  },
  {
   "cell_type": "code",
   "execution_count": null,
   "metadata": {},
   "outputs": [],
   "source": []
  }
 ],
 "metadata": {
  "kernelspec": {
   "display_name": "Python 3",
   "language": "python",
   "name": "python3"
  },
  "language_info": {
   "codemirror_mode": {
    "name": "ipython",
    "version": 3
   },
   "file_extension": ".py",
   "mimetype": "text/x-python",
   "name": "python",
   "nbconvert_exporter": "python",
   "pygments_lexer": "ipython3",
   "version": "3.7.3"
  }
 },
 "nbformat": 4,
 "nbformat_minor": 4
}
